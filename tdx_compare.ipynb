{
 "cells": [
  {
   "cell_type": "code",
   "execution_count": 19,
   "metadata": {},
   "outputs": [],
   "source": [
    "import os\n",
    "import numpy as np\n",
    "import rasterio as rio\n",
    "import matplotlib.pyplot as plt\n",
    "from rasterio.plot import show\n",
    "from rasterio.plot import show_hist\n",
    "from scipy import stats"
   ]
  },
  {
   "cell_type": "code",
   "execution_count": 2,
   "metadata": {},
   "outputs": [],
   "source": [
    "# Working directory\n",
    "work_dir = '/Users/arbailey/natcap/idb/data/work/mangroves/tandemx/'\n",
    "os.chdir(work_dir)\n",
    "# Version 1\n",
    "gmf_chm_source1 = os.path.join(work_dir, 'gmf_Andros_TDX_DEM_12m_EGM2008_CanopyHeight.tif')\n",
    "gmw2016_chm_source1 = os.path.join(work_dir, 'gmw2016_Andros_TDX_DEM_12m_EGM2008_CanopyHeight.tif')\n",
    "wam_chm_source1 = os.path.join(work_dir, 'wam_Andros_TDX_DEM_12m_EGM2008_CanopyHeight.tif')\n",
    "tnc_chm_source1 = os.path.join(work_dir, 'tnc_Andros_TDX_DEM_12m_EGM2008_CanopyHeight.tif')\n",
    "# Version 2\n",
    "gmf_chm_source2 = os.path.join(work_dir, 'gmf_Andros_TDX_DEM_12m_EGM2008_CHM_Cal_mask.tif')\n",
    "gmw2016_chm_source2 = os.path.join(work_dir, 'gmw2016_Andros_TDX_DEM_12m_EGM2008_CHM_Cal_mask.tif')\n",
    "wam_chm_source2 = os.path.join(work_dir, 'wam_Andros_TDX_DEM_12m_EGM2008_CHM_Cal_mask.tif')\n",
    "tnc_chm_source2 = os.path.join(work_dir, 'tnc_Andros_TDX_DEM_12m_EGM2008_CHM_Cal_mask.tif')"
   ]
  },
  {
   "cell_type": "code",
   "execution_count": 3,
   "metadata": {},
   "outputs": [],
   "source": [
    "def rast2np(raster_source):\n",
    "    with rio.open(raster_source) as src:\n",
    "        raster_np = src.read(1, masked=True)\n",
    "        raster_meta = src.meta\n",
    "    return raster_np\n",
    "\n",
    "# Read in the mangrove extent canopy height rasters\n",
    "# Version 1\n",
    "gmf_tdxV1 = rast2np(gmf_chm_source1)\n",
    "gmw2016_tdxV1 = rast2np(gmw2016_chm_source1)\n",
    "wam_tdxV1 = rast2np(wam_chm_source1)\n",
    "tnc_tdxV1 = rast2np(wam_chm_source1)\n",
    "# Version 2\n",
    "gmf_tdxV2 = rast2np(gmf_chm_source2)\n",
    "gmw2016_tdxV2 = rast2np(gmw2016_chm_source2)\n",
    "wam_tdxV2 = rast2np(wam_chm_source2)\n",
    "tnc_tdxV2 = rast2np(wam_chm_source2)\n",
    "\n",
    "\n",
    "\n"
   ]
  },
  {
   "cell_type": "code",
   "execution_count": 8,
   "metadata": {},
   "outputs": [],
   "source": [
    "gmf_tdx_diff = gmf_tdxV1 - gmf_tdxV2"
   ]
  },
  {
   "cell_type": "code",
   "execution_count": 9,
   "metadata": {},
   "outputs": [
    {
     "data": {
      "text/plain": [
       "masked_array(\n",
       "  data=[[--, --, --, ..., --, --, --],\n",
       "        [--, --, --, ..., --, --, --],\n",
       "        [--, --, --, ..., --, --, --],\n",
       "        ...,\n",
       "        [--, --, --, ..., --, --, --],\n",
       "        [--, --, --, ..., --, --, --],\n",
       "        [--, --, --, ..., --, --, --]],\n",
       "  mask=[[ True,  True,  True, ...,  True,  True,  True],\n",
       "        [ True,  True,  True, ...,  True,  True,  True],\n",
       "        [ True,  True,  True, ...,  True,  True,  True],\n",
       "        ...,\n",
       "        [ True,  True,  True, ...,  True,  True,  True],\n",
       "        [ True,  True,  True, ...,  True,  True,  True],\n",
       "        [ True,  True,  True, ...,  True,  True,  True]],\n",
       "  fill_value=0.0,\n",
       "  dtype=float32)"
      ]
     },
     "execution_count": 9,
     "metadata": {},
     "output_type": "execute_result"
    }
   ],
   "source": [
    "gmf_tdx_diff"
   ]
  },
  {
   "cell_type": "code",
   "execution_count": 15,
   "metadata": {},
   "outputs": [
    {
     "data": {
      "image/png": "[encoded data removed]",
      "text/plain": [
       "<Figure size 1512x504 with 3 Axes>"
      ]
     },
     "metadata": {
      "needs_background": "light"
     },
     "output_type": "display_data"
    }
   ],
   "source": [
    "fig, (axv1, axv2, axdiff) = plt.subplots(1, 3, figsize=(21, 7))\n",
    "show_hist(gmf_tdxV1, ax=axv1, bins=100, lw=0.0, stacked=False, alpha=0.3, title=\"Histogram v1\")\n",
    "show_hist(gmf_tdxV2, ax=axv2, bins=100, lw=0.0, stacked=False, alpha=0.3, title=\"Histogram v2\")\n",
    "show_hist(gmf_tdx_diff, ax=axdiff, bins=100, lw=0.0, stacked=False, alpha=0.3, title=\"Histogram Diff\")\n",
    "plt.show()"
   ]
  },
  {
   "cell_type": "code",
   "execution_count": 21,
   "metadata": {},
   "outputs": [
    {
     "name": "stderr",
     "output_type": "stream",
     "text": [
      "/Users/arbailey/miniconda3/envs/geoenv/lib/python3.7/site-packages/scipy/stats/mstats_basic.py:2345: MaskedArrayFutureWarning: In the future the default for ma.minimum.reduce will be axis=0, not the current None, to match np.minimum.reduce. Explicitly pass 0 or None to silence this warning.\n",
      "  mm = (ma.minimum.reduce(a), ma.maximum.reduce(a))\n",
      "/Users/arbailey/miniconda3/envs/geoenv/lib/python3.7/site-packages/scipy/stats/mstats_basic.py:2345: MaskedArrayFutureWarning: In the future the default for ma.maximum.reduce will be axis=0, not the current None, to match np.maximum.reduce. Explicitly pass 0 or None to silence this warning.\n",
      "  mm = (ma.minimum.reduce(a), ma.maximum.reduce(a))\n"
     ]
    },
    {
     "data": {
      "text/plain": [
       "DescribeResult(nobs=array([3, 2, 3, ..., 6, 6, 6]), minmax=(masked_array(data=2.3599997,\n",
       "             mask=False,\n",
       "       fill_value=1e+20,\n",
       "            dtype=float32), masked_array(data=2.834453,\n",
       "             mask=False,\n",
       "       fill_value=1e+20,\n",
       "            dtype=float32)), mean=masked_array(data=[2.359999974568685, 2.3600001335144043,\n",
       "                   2.359999974568685, ..., 2.359999656677246,\n",
       "                   2.359999656677246, 2.359999656677246],\n",
       "             mask=[False, False, False, ..., False, False, False],\n",
       "       fill_value=1e+20), variance=masked_array(data=[1.2631870857957338e-14, 2.842170943040401e-14,\n",
       "                   1.2631870857957338e-14, ..., 0.0, 0.0, 0.0],\n",
       "             mask=[False, False, False, ..., False, False, False],\n",
       "       fill_value=0.0), skewness=masked_array(data=[0.7071067772352805, -1.414213562373095,\n",
       "                   0.7071067772352805, ..., 0.0, 0.0, 0.0],\n",
       "             mask=[False, False, False, ..., False, False, False],\n",
       "       fill_value=1e+20), kurtosis=masked_array(data=[-1.5000000037252903, -1.0, -1.5000000037252903, ...,\n",
       "                   -3.0, -3.0, -3.0],\n",
       "             mask=[False, False, False, ..., False, False, False],\n",
       "       fill_value=1e+20))"
      ]
     },
     "execution_count": 21,
     "metadata": {},
     "output_type": "execute_result"
    }
   ],
   "source": [
    "stats.mstats.describe(gmf_tdx_diff)"
   ]
  },
  {
   "cell_type": "code",
   "execution_count": 26,
   "metadata": {},
   "outputs": [
    {
     "data": {
      "text/plain": [
       "DescribeResult(nobs=17171, minmax=(array([0., 0., 0., ..., 0., 0., 0.], dtype=float32), array([2.3600001, 2.3600001, 2.3600001, ..., 2.3599997, 2.3599997,\n",
       "       2.3599997], dtype=float32)), mean=array([0.00041232, 0.00027488, 0.00041232, ..., 0.00082465, 0.00082465,\n",
       "       0.00082465], dtype=float32), variance=array([0.00097288, 0.00064865, 0.00097288, ..., 0.00194508, 0.00194508,\n",
       "       0.00194508], dtype=float32), skewness=array([75.645256, 92.650085, 75.645256, ..., 53.489285, 53.489285,\n",
       "       53.489285], dtype=float32), kurtosis=array([5719.6914, 8581.524 , 5719.6914, ..., 2858.3467, 2858.3467,\n",
       "       2858.3467], dtype=float32))"
      ]
     },
     "execution_count": 26,
     "metadata": {},
     "output_type": "execute_result"
    }
   ],
   "source": [
    "stats.describe(gmf_tdx_diff, axis=0)"
   ]
  },
  {
   "cell_type": "code",
   "execution_count": 22,
   "metadata": {},
   "outputs": [
    {
     "data": {
      "text/plain": [
       "DescribeResult(nobs=17171, minmax=(array([0., 0., 0., ..., 0., 0., 0.], dtype=float32), array([2.3600001, 2.3600001, 2.3600001, ..., 2.3599997, 2.3599997,\n",
       "       2.3599997], dtype=float32)), mean=array([0.00041232, 0.00027488, 0.00041232, ..., 0.00082465, 0.00082465,\n",
       "       0.00082465], dtype=float32), variance=array([0.00097288, 0.00064865, 0.00097288, ..., 0.00194508, 0.00194508,\n",
       "       0.00194508], dtype=float32), skewness=array([75.645256, 92.650085, 75.645256, ..., 53.489285, 53.489285,\n",
       "       53.489285], dtype=float32), kurtosis=array([5719.6914, 8581.524 , 5719.6914, ..., 2858.3467, 2858.3467,\n",
       "       2858.3467], dtype=float32))"
      ]
     },
     "execution_count": 22,
     "metadata": {},
     "output_type": "execute_result"
    }
   ],
   "source": [
    "stats.describe(gmf_tdx_diff)"
   ]
  },
  {
   "cell_type": "code",
   "execution_count": 27,
   "metadata": {},
   "outputs": [
    {
     "name": "stdout",
     "output_type": "stream",
     "text": [
      "2729730\n",
      "2.3599997\n",
      "2.834453\n",
      "2.3600002564356184\n"
     ]
    },
    {
     "name": "stderr",
     "output_type": "stream",
     "text": [
      "/Users/arbailey/miniconda3/envs/geoenv/lib/python3.7/site-packages/numpy/core/fromnumeric.py:745: UserWarning: Warning: 'partition' will ignore the 'mask' of the MaskedArray.\n",
      "  a.partition(kth, axis=axis, kind=kind, order=order)\n"
     ]
    },
    {
     "name": "stdout",
     "output_type": "stream",
     "text": [
      "--\n"
     ]
    }
   ],
   "source": [
    "print(gmf_tdx_diff.count())\n",
    "print(np.min(gmf_tdx_diff))\n",
    "print(np.max(gmf_tdx_diff))\n",
    "print(np.mean(gmf_tdx_diff))"
   ]
  },
  {
   "cell_type": "code",
   "execution_count": 28,
   "metadata": {},
   "outputs": [
    {
     "name": "stdout",
     "output_type": "stream",
     "text": [
      "counts: [217934791         0         0         0         0         0         0\n",
      "         0   2729729         1]\n",
      "bins: [0.         0.2834453  0.5668906  0.85033596 1.1337812  1.4172266\n",
      " 1.7006719  1.9841172  2.2675624  2.5510077  2.834453  ]\n"
     ]
    }
   ],
   "source": [
    "counts,bins = np.histogram(gmf_tdx_diff) \n",
    "print(\"counts:\", counts)\n",
    "print(\"bins:\", bins)"
   ]
  },
  {
   "cell_type": "code",
   "execution_count": 29,
   "metadata": {},
   "outputs": [
    {
     "name": "stdout",
     "output_type": "stream",
     "text": [
      "counts: [220534834    120264      6825      1601       371       255       179\n",
      "        99        53        40]\n",
      "bins: [ 0.        5.415357 10.830714 16.24607  21.661428 27.076786 32.49214\n",
      " 37.9075   43.322857 48.738216 54.153572]\n"
     ]
    }
   ],
   "source": [
    "counts,bins = np.histogram(gmf_tdxV1) \n",
    "print(\"counts:\", counts)\n",
    "print(\"bins:\", bins)"
   ]
  },
  {
   "cell_type": "code",
   "execution_count": 30,
   "metadata": {},
   "outputs": [
    {
     "name": "stdout",
     "output_type": "stream",
     "text": [
      "counts: [      654         0         0         0         0         0         0\n",
      "         0         0 220663867]\n",
      "bins: [-31067.455   -27952.53    -24837.604   -21722.678   -18607.752\n",
      " -15492.826   -12377.901    -9262.976    -6148.05     -3033.124\n",
      "     81.80176]\n"
     ]
    }
   ],
   "source": [
    "counts,bins = np.histogram(gmf_tdxV2)\n",
    "print(\"counts:\", counts)\n",
    "print(\"bins:\", bins)"
   ]
  },
  {
   "cell_type": "code",
   "execution_count": null,
   "metadata": {},
   "outputs": [],
   "source": []
  }
 ],
 "metadata": {
  "kernelspec": {
   "display_name": "Python 3",
   "language": "python",
   "name": "python3"
  },
  "language_info": {
   "codemirror_mode": {
    "name": "ipython",
    "version": 3
   },
   "file_extension": ".py",
   "mimetype": "text/x-python",
   "name": "python",
   "nbconvert_exporter": "python",
   "pygments_lexer": "ipython3",
   "version": "3.7.6"
  }
 },
 "nbformat": 4,
 "nbformat_minor": 4
}
