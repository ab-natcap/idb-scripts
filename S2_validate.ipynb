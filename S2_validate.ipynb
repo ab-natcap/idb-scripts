{
 "cells": [
  {
   "cell_type": "code",
   "execution_count": 1,
   "metadata": {},
   "outputs": [],
   "source": [
    "# Import Libraries\n",
    "import os\n",
    "import glob\n",
    "import numpy as np\n",
    "import pandas as pd\n",
    "import geopandas as gpd\n",
    "import rasterio\n",
    "from rasterio import Affine\n",
    "from rasterio.enums import Resampling\n",
    "from rasterstats import point_query\n",
    "from geojson import Feature, Point, FeatureCollection\n",
    "import earthpy.plot as ep\n",
    "from scipy import ndimage, stats\n",
    "import matplotlib.pyplot as plt\n",
    "import plotly.express as px"
   ]
  },
  {
   "cell_type": "code",
   "execution_count": 2,
   "metadata": {},
   "outputs": [],
   "source": [
    "# Directories and Source Files\n",
    "work_dir = '/Users/arbailey/natcap/idb/data/work/sentinel'\n",
    "tile = 'T16QDF'\n",
    "\n",
    "# All are in UTM16N, WGS-84, except for TNC raster\n",
    "# SDB bathy rasters for the blue/red and blue/green ratios\n",
    "sdb_red_file =  tile + \"_sdb_red.tif\" \n",
    "sdb_grn_file = tile + \"_sdb_grn.tif\" \n",
    "sdb_red_source = os.path.join(work_dir, sdb_red_file)\n",
    "sdb_grn_source = os.path.join(work_dir, sdb_grn_file)\n",
    "\n",
    "# TNC raster  \n",
    "tnc_source = '/Users/arbailey/natcap/idb/data/source/tnc/bathy_mar/tnc_bathy_MAR_32616.vrt'\n",
    "\n",
    "# CONABIO bathy (4m grid) as points\n",
    "conabio_path = '/Users/arbailey/natcap/idb/data/source/conabio/batimv2gw_c/batimv2uw_pts.csv'\n",
    "\n",
    "# Belize Lidar (2m grid) as points\n",
    "bzlidar_path = '/Users/arbailey/natcap/idb/data/source/bathy/bzczmai/bzczmai_bathy_pts.csv'"
   ]
  },
  {
   "cell_type": "code",
   "execution_count": 3,
   "metadata": {},
   "outputs": [
    {
     "name": "stdout",
     "output_type": "stream",
     "text": [
      "/Users/arbailey/natcap/idb/data/work/sentinel/T16QDF_sdb_red.tif\n",
      "[[-9.9990000e+03 -9.9990000e+03 -9.9990000e+03 ...  5.9397697e-01\n",
      "   5.4462147e-01 -9.4703770e-01]\n",
      " [-9.9990000e+03 -9.9990000e+03 -9.9990000e+03 ...  1.5838814e-01\n",
      "   1.0010452e+00  5.9087467e-01]\n",
      " [-9.9990000e+03 -9.9990000e+03 -1.5556593e+00 ...  6.6680145e-01\n",
      "   1.9336014e+00  1.9338369e+00]\n",
      " ...\n",
      " [-9.9990000e+03 -9.9990000e+03 -9.9990000e+03 ...  2.5529385e-01\n",
      "   3.2267475e-01  9.8939419e-01]\n",
      " [-9.9990000e+03 -9.9990000e+03 -9.9990000e+03 ...  9.0121460e-01\n",
      "   1.7607555e+00  2.1694021e+00]\n",
      " [-9.9990000e+03 -9.9990000e+03 -9.9990000e+03 ...  9.6288681e-01\n",
      "   5.6234550e-01  9.4233799e-01]]\n",
      "{'driver': 'GTiff', 'dtype': 'float32', 'nodata': -9999.0, 'width': 10980, 'height': 10980, 'count': 1, 'crs': CRS.from_epsg(32616), 'transform': Affine(10.0, 0.0, 399960.0,\n",
      "       0.0, -10.0, 2100000.0), 'tiled': False, 'interleave': 'band'}\n",
      "/Users/arbailey/natcap/idb/data/work/sentinel/T16QDF_sdb_grn.tif\n",
      "[[-9.9990000e+03 -9.9990000e+03 -9.9990000e+03 ...  1.1145851e+01\n",
      "   1.0091606e+01 -5.7686615e-01]\n",
      " [-9.9990000e+03 -9.9990000e+03 -9.9990000e+03 ...  5.8847809e+00\n",
      "   8.0136490e+00  6.3569183e+00]\n",
      " [-9.9990000e+03 -9.9990000e+03 -8.9320679e+00 ...  1.3035545e+01\n",
      "   1.3541779e+01  1.6033127e+01]\n",
      " ...\n",
      " [-9.9990000e+03 -9.9990000e+03 -9.9990000e+03 ...  8.4880753e+00\n",
      "   1.0054810e+01  1.9466652e+01]\n",
      " [-9.9990000e+03 -9.9990000e+03 -9.9990000e+03 ...  9.8687973e+00\n",
      "   1.2284317e+01  1.7167770e+01]\n",
      " [-9.9990000e+03 -9.9990000e+03 -9.9990000e+03 ...  9.0659866e+00\n",
      "   9.9222260e+00  1.3025764e+01]]\n",
      "{'driver': 'GTiff', 'dtype': 'float32', 'nodata': -9999.0, 'width': 10980, 'height': 10980, 'count': 1, 'crs': CRS.from_epsg(32616), 'transform': Affine(10.0, 0.0, 399960.0,\n",
      "       0.0, -10.0, 2100000.0), 'tiled': False, 'interleave': 'band'}\n",
      "/Users/arbailey/natcap/idb/data/source/tnc/bathy_mar/tnc_bathy_MAR_32616.vrt\n",
      "[[0. 0. 0. ... 0. 0. 0.]\n",
      " [0. 0. 0. ... 0. 0. 0.]\n",
      " [0. 0. 0. ... 0. 0. 0.]\n",
      " ...\n",
      " [0. 0. 0. ... 0. 0. 0.]\n",
      " [0. 0. 0. ... 0. 0. 0.]\n",
      " [0. 0. 0. ... 0. 0. 0.]]\n",
      "{'driver': 'VRT', 'dtype': 'float64', 'nodata': 0.0, 'width': 40942, 'height': 76203, 'count': 1, 'crs': CRS.from_epsg(32616), 'transform': Affine(9.829599584152938, 0.0, 266645.9426416332,\n",
      "       0.0, -9.829599584152938, 2457365.883822183), 'blockxsize': 512, 'blockysize': 128, 'tiled': True}\n"
     ]
    }
   ],
   "source": [
    "# Import Sentinel-2 bathy and TNC bathy rasters with rasterio\n",
    "print(sdb_red_source)\n",
    "with rasterio.open(sdb_red_source) as src:\n",
    "    sdb_red_profile = src.profile\n",
    "    sdb_red_np = src.read(1)\n",
    "    print(sdb_red_np)\n",
    "    print(sdb_red_profile)\n",
    "    \n",
    "print(sdb_grn_source)\n",
    "with rasterio.open(sdb_grn_source) as src:\n",
    "    sdb_grn_profile = src.profile\n",
    "    sdb_grn_np = src.read(1)\n",
    "    print(sdb_grn_np)\n",
    "    print(sdb_grn_profile)\n",
    "    \n",
    "print(tnc_source)\n",
    "with rasterio.open(tnc_source) as src:\n",
    "    tnc_profile = src.profile\n",
    "    tnc_np = src.read(1)\n",
    "    print(tnc_np)\n",
    "    print(tnc_profile)"
   ]
  },
  {
   "cell_type": "code",
   "execution_count": 4,
   "metadata": {},
   "outputs": [
    {
     "data": {
      "text/plain": [
       "masked_array(\n",
       "  data=[[--, --, --, ..., 11.145851135253906, 10.091606140136719,\n",
       "         -0.5768661499023438],\n",
       "        [--, --, --, ..., 5.8847808837890625, 8.013648986816406,\n",
       "         6.3569183349609375],\n",
       "        [--, --, -8.93206787109375, ..., 13.035545349121094,\n",
       "         13.541778564453125, 16.033126831054688],\n",
       "        ...,\n",
       "        [--, --, --, ..., 8.488075256347656, 10.0548095703125,\n",
       "         19.466651916503906],\n",
       "        [--, --, --, ..., 9.868797302246094, 12.284317016601562,\n",
       "         17.167770385742188],\n",
       "        [--, --, --, ..., 9.065986633300781, 9.922225952148438,\n",
       "         13.025764465332031]],\n",
       "  mask=[[ True,  True,  True, ..., False, False, False],\n",
       "        [ True,  True,  True, ..., False, False, False],\n",
       "        [ True,  True, False, ..., False, False, False],\n",
       "        ...,\n",
       "        [ True,  True,  True, ..., False, False, False],\n",
       "        [ True,  True,  True, ..., False, False, False],\n",
       "        [ True,  True,  True, ..., False, False, False]],\n",
       "  fill_value=-9999.0,\n",
       "  dtype=float32)"
      ]
     },
     "execution_count": 4,
     "metadata": {},
     "output_type": "execute_result"
    }
   ],
   "source": [
    "# Mask out the raster no data values\n",
    "sdb_red_masked = np.ma.masked_values(sdb_red_np, sdb_red_profile['nodata'])\n",
    "sdb_grn_masked = np.ma.masked_values(sdb_grn_np, sdb_grn_profile['nodata'])\n",
    "tnc_masked = np.ma.masked_values(tnc_np, tnc_profile['nodata'])\n",
    "sdb_grn_masked"
   ]
  },
  {
   "cell_type": "code",
   "execution_count": null,
   "metadata": {},
   "outputs": [],
   "source": [
    "conabio_df = pd.read_csv(conabio_path)\n",
    "conabio_gdf = gpd.GeoDataFrame(conabio_df, geometry=gpd.points_from_xy(conabio_df['X'], conabio_df['Y']))\n",
    "conabio_gdf.head()"
   ]
  },
  {
   "cell_type": "code",
   "execution_count": null,
   "metadata": {},
   "outputs": [],
   "source": [
    "bzlidar_df = pd.read_csv(bzlidar_path)\n",
    "bzlidar_gdf = gpd.GeoDataFrame(bzlidar_df, geometry=gpd.points_from_xy(bzlidar_df['X'], bzlidar_df['Y']))\n",
    "bzlidar_gdf.head()"
   ]
  },
  {
   "cell_type": "code",
   "execution_count": null,
   "metadata": {},
   "outputs": [],
   "source": [
    "# # SDB raster bathy values sampled from raster at CONABIO depth point locations  (uses rasterstats)\n",
    "# conabio_pts_grn = point_query(conabio_gdf, sdb_grn_masked, \n",
    "#                            affine=relbathy_profile['transform'], \n",
    "#                            geojson_out=True,\n",
    "#                            property_name='sdb_grn',\n",
    "#                            nodata=-99999\n",
    "#                           )\n",
    "# conabio_pts_grn  # GeoJSOn object   -- list of GeoJSON objects\n",
    "# collection = FeatureCollection(relbathy_pts)\n",
    "# conabio_pts_grn_gdf = gpd.GeoDataFrame.from_features(collection['features'])"
   ]
  },
  {
   "cell_type": "code",
   "execution_count": null,
   "metadata": {},
   "outputs": [],
   "source": [
    "# conabio_pts_grn_red = point_query(conabio_pts_grn, sdb_red_masked, \n",
    "#                            affine=relbathy_profile['transform'], \n",
    "#                            geojson_out=True,\n",
    "#                            property_name='sdb_red',\n",
    "#                            nodata=-99999\n",
    "#                           )\n",
    "# conabio_pts_grn_red  # GeoJSOn object   -- list of GeoJSON objects\n"
   ]
  }
 ],
 "metadata": {
  "kernelspec": {
   "display_name": "Python 3",
   "language": "python",
   "name": "python3"
  },
  "language_info": {
   "codemirror_mode": {
    "name": "ipython",
    "version": 3
   },
   "file_extension": ".py",
   "mimetype": "text/x-python",
   "name": "python",
   "nbconvert_exporter": "python",
   "pygments_lexer": "ipython3",
   "version": "3.7.6"
  }
 },
 "nbformat": 4,
 "nbformat_minor": 4
}
