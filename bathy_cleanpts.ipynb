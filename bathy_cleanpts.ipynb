{
 "cells": [
  {
   "cell_type": "code",
   "execution_count": 1,
   "metadata": {},
   "outputs": [],
   "source": [
    "import pandas as pd\n",
    "import geopandas as gpd"
   ]
  },
  {
   "cell_type": "code",
   "execution_count": 2,
   "metadata": {},
   "outputs": [],
   "source": [
    "# Constants\n",
    "nodataval = 0\n",
    "crs = {'init': 'epsg:32616'}"
   ]
  },
  {
   "cell_type": "code",
   "execution_count": 3,
   "metadata": {},
   "outputs": [],
   "source": [
    "def process_data(csv, shp):\n",
    "    df = pd.read_csv(csv)  # Create a Dataframe from CSV\n",
    "    print(csv)\n",
    "    print(df.head())\n",
    "    df = df[df.Z < nodataval] # Get rid of rows with no data value (used < for bzcamai data since there are +/- values)\n",
    "    print(df.head())\n",
    "    print(df.count())\n",
    "    # Convert to Geopandas datafram\n",
    "    gdf = gpd.GeoDataFrame(df, geometry=gpd.points_from_xy(df.X, df.Y), crs=crs)\n",
    "    print(gdf.head())\n",
    "    # Add column for consistent column name and sign  (works because all values are deeper than 0 depth)\n",
    "    gdf['dep_m'] = gdf['Z'].abs()\n",
    "    print(gdf.head())\n",
    "    print(shp)\n",
    "    gdf.to_file(shp) # output to shapefile"
   ]
  },
  {
   "cell_type": "code",
   "execution_count": 4,
   "metadata": {},
   "outputs": [
    {
     "name": "stdout",
     "output_type": "stream",
     "text": [
      "/Users/arbailey/natcap/idb/data/work/bathy/bzczmai_bathy_10m_pts.csv\n",
      "        X        Y    Z\n",
      "0  348914  2046290  0.0\n",
      "1  348924  2046290  0.0\n",
      "2  348934  2046290  0.0\n",
      "3  348944  2046290  0.0\n",
      "4  348954  2046290  0.0\n",
      "             X        Y         Z\n",
      "707843  363804  2045320 -0.036500\n",
      "707844  363814  2045320 -0.054000\n",
      "707845  363824  2045320 -0.110333\n",
      "707846  363834  2045320 -0.141500\n",
      "707847  363844  2045320 -0.124000\n",
      "X    21633631\n",
      "Y    21633631\n",
      "Z    21633631\n",
      "dtype: int64\n",
      "             X        Y         Z                        geometry\n",
      "707843  363804  2045320 -0.036500  POINT (363804.000 2045320.000)\n",
      "707844  363814  2045320 -0.054000  POINT (363814.000 2045320.000)\n",
      "707845  363824  2045320 -0.110333  POINT (363824.000 2045320.000)\n",
      "707846  363834  2045320 -0.141500  POINT (363834.000 2045320.000)\n",
      "707847  363844  2045320 -0.124000  POINT (363844.000 2045320.000)\n",
      "             X        Y         Z                        geometry     dep_m\n",
      "707843  363804  2045320 -0.036500  POINT (363804.000 2045320.000)  0.036500\n",
      "707844  363814  2045320 -0.054000  POINT (363814.000 2045320.000)  0.054000\n",
      "707845  363824  2045320 -0.110333  POINT (363824.000 2045320.000)  0.110333\n",
      "707846  363834  2045320 -0.141500  POINT (363834.000 2045320.000)  0.141500\n",
      "707847  363844  2045320 -0.124000  POINT (363844.000 2045320.000)  0.124000\n",
      "/Users/arbailey/natcap/idb/data/work/bathy/bzczmai_bathy_10m_pts.shp\n"
     ]
    }
   ],
   "source": [
    "sources = [\n",
    "    # '/Users/arbailey/natcap/idb/data/work/bathy/batimv2uw_subset_pts.csv',\n",
    "#     '/Users/arbailey/natcap/idb/data/work/bathy/gebco_mar_bathy_32616.csv',\n",
    "#     '/Users/arbailey/natcap/idb/data/work/bathy/tncmar/tnc_BancoChincorro_masked_pts.csv',\n",
    "#     '/Users/arbailey/natcap/idb/data/work/bathy/tncmar/tnc_BzIslands_masked_pts.csv',\n",
    "#     '/Users/arbailey/natcap/idb/data/work/bathy/tncmar/tnc_BzGtNearshore_masked_pts.csv',\n",
    "#     '/Users/arbailey/natcap/idb/data/work/bathy/tncmar/tnc_HondurasIslands_masked_pts.csv',\n",
    "#     '/Users/arbailey/natcap/idb/data/work/bathy/tncmar/tnc_Corozal_filter_pts.csv',\n",
    "#     '/Users/arbailey/natcap/idb/data/work/bathy/bzczmai_bathy_5m_pts.csv',\n",
    "    '/Users/arbailey/natcap/idb/data/work/bathy/bzczmai_bathy_10m_pts.csv',\n",
    "]\n",
    "\n",
    "output_files = [\n",
    "    # '/Users/arbailey/natcap/idb/data/work/bathy/batimv2uw_subset_pts.shp',\n",
    "#     '/Users/arbailey/natcap/idb/data/work/bathy/gebco_bathy_pts_32616.shp',\n",
    "#     '/Users/arbailey/natcap/idb/data/work/bathy/tncmar/tnc_BancoChincorro_masked_pts.shp',\n",
    "#     '/Users/arbailey/natcap/idb/data/work/bathy/tncmar/tnc_BzIslands_masked_pts.shp',\n",
    "#     '/Users/arbailey/natcap/idb/data/work/bathy/tncmar/tnc_BzGtNearshore_masked_pts.shp',\n",
    "#     '/Users/arbailey/natcap/idb/data/work/bathy/tncmar/tnc_HondurasIslands_masked_pts.shp',\n",
    "#     '/Users/arbailey/natcap/idb/data/work/bathy/tncmar/tnc_Corozal_filter_pts.shp',\n",
    "#     '/Users/arbailey/natcap/idb/data/work/bathy/bzczmai_bathy_5m_pts.shp',\n",
    "    '/Users/arbailey/natcap/idb/data/work/bathy/bzczmai_bathy_10m_pts.shp',\n",
    "]\n",
    "\n",
    "for source, outshp in zip(sources, output_files):\n",
    "    process_data(source, outshp)"
   ]
  },
  {
   "cell_type": "code",
   "execution_count": 5,
   "metadata": {},
   "outputs": [],
   "source": [
    "# df = pd.read_csv(source_csv)  # Create a Dataframe from CSV\n",
    "# df"
   ]
  },
  {
   "cell_type": "code",
   "execution_count": 6,
   "metadata": {},
   "outputs": [],
   "source": [
    "# # Get rid of rows with no data value\n",
    "# df = df[df.Z != nodataval]\n",
    "# df"
   ]
  },
  {
   "cell_type": "code",
   "execution_count": 7,
   "metadata": {},
   "outputs": [],
   "source": [
    "# # Convert to Geopandas datafram\n",
    "\n",
    "# gdf = gpd.GeoDataFrame(\n",
    "#     df, geometry=gpd.points_from_xy(df.X, df.Y), crs=crs)\n",
    "# gdf"
   ]
  },
  {
   "cell_type": "code",
   "execution_count": 8,
   "metadata": {},
   "outputs": [],
   "source": [
    "# # Add column for consistent column name and sign  (works because all values are deeper than 0 depth)\n",
    "# gdf['dep_m'] = gdf['Z'].abs()\n",
    "# gdf"
   ]
  },
  {
   "cell_type": "code",
   "execution_count": 9,
   "metadata": {},
   "outputs": [],
   "source": [
    "# gdf.to_file(output_shapefile)"
   ]
  },
  {
   "cell_type": "code",
   "execution_count": null,
   "metadata": {},
   "outputs": [],
   "source": []
  }
 ],
 "metadata": {
  "kernelspec": {
   "display_name": "Python 3",
   "language": "python",
   "name": "python3"
  },
  "language_info": {
   "codemirror_mode": {
    "name": "ipython",
    "version": 3
   },
   "file_extension": ".py",
   "mimetype": "text/x-python",
   "name": "python",
   "nbconvert_exporter": "python",
   "pygments_lexer": "ipython3",
   "version": "3.7.6"
  }
 },
 "nbformat": 4,
 "nbformat_minor": 4
}
