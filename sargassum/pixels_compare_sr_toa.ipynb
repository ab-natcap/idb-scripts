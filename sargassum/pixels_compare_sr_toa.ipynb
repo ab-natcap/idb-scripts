{
 "cells": [
  {
   "cell_type": "code",
   "execution_count": null,
   "id": "recent-focus",
   "metadata": {},
   "outputs": [],
   "source": [
    "# Import necessary packages\n",
    "import os\n",
    "\n",
    "import numpy as np\n",
    "import matplotlib.pyplot as plt\n",
    "import seaborn as sns\n",
    "# Use geopandas for vector data and xarray for raster data\n",
    "import geopandas as gpd\n",
    "import rioxarray as rxr\n",
    "\n",
    "import earthpy as et\n",
    "\n",
    "# Prettier plotting with seaborn\n",
    "sns.set(font_scale=1.5, style=\"white\")"
   ]
  },
  {
   "cell_type": "code",
   "execution_count": null,
   "id": "parallel-gates",
   "metadata": {},
   "outputs": [],
   "source": [
    "# Inspired by and borrowed heavily from:\n",
    "# https://www.earthdatascience.org/courses/use-data-open-source-python/intro-raster-data-python/raster-data-processing/classify-plot-raster-data-in-python/\n",
    "\n",
    "raster_toa_path = '/Users/arbailey/Google Drive/My Drive/sargassum/s2toa_classified'\n",
    "raster_sr_path = '/Users/arbailey/Google Drive/My Drive/sargassum/s2sr_classified'\n",
    "# raster_file = '20190226T161229_mosaic.vrt'\n",
    "# raster_file = '20190402T160901_mosaic.vrt'\n",
    "# raster_file = '20190507T160839_mosaic.vrt'\n",
    "# raster_file = '20190626T160839_mosaic.vrt'\n",
    "# raster_file = '20190914T160859_mosaic.vrt'\n",
    "# raster_file = '20191118T161551_mosaic.vrt'\n",
    "raster_file = '20191203T161629_mosaic.vrt'\n",
    "\n",
    "\n",
    "toa_xr = rxr.open_rasterio(os.path.join(raster_toa_path,raster_file), masked=True).squeeze()  # use squeeze for single band image to get ride of extra dimension\n",
    "sr_xr = rxr.open_rasterio(os.path.join(raster_sr_path,raster_file), masked=True).squeeze()\n",
    "\n",
    "sr_xr\n",
    "\n",
    "# '/Users/arbailey/Google Drive/My Drive/sargassum/s2toa_classified/20190226T161229_mosaic.vrt'\n",
    "# '/Users/arbailey/Google Drive/My Drive/sargassum/s2sr_classified/20190226T161229_mosaic.vrt'"
   ]
  },
  {
   "cell_type": "code",
   "execution_count": null,
   "id": "mineral-consequence",
   "metadata": {},
   "outputs": [],
   "source": [
    "toa_xr"
   ]
  },
  {
   "cell_type": "code",
   "execution_count": null,
   "id": "verified-frederick",
   "metadata": {},
   "outputs": [],
   "source": [
    "# Are the bounds the same?\n",
    "print(\"Is the spatial extent the same?\",\n",
    "      sr_xr.rio.bounds() == toa_xr.rio.bounds())\n",
    "\n",
    "# Is the resolution the same ??\n",
    "print(\"Is the resolution the same?\",\n",
    "      sr_xr.rio.resolution() == toa_xr.rio.resolution())\n"
   ]
  },
  {
   "cell_type": "code",
   "execution_count": null,
   "id": "acting-sigma",
   "metadata": {},
   "outputs": [],
   "source": [
    "diff_xr = sr_xr - toa_xr"
   ]
  },
  {
   "cell_type": "code",
   "execution_count": null,
   "id": "owned-socket",
   "metadata": {},
   "outputs": [],
   "source": [
    "diff_xr"
   ]
  },
  {
   "cell_type": "code",
   "execution_count": null,
   "id": "familiar-twenty",
   "metadata": {},
   "outputs": [],
   "source": [
    "# Make sure that your output data has a crs & no data value defined\n",
    "print(\"The crs is\", diff_xr.rio.crs)\n",
    "print(\"The no data value is\", diff_xr.rio.nodata)\n",
    "print(\"Difference Attributes\", diff_xr.attrs)\n",
    "print(\"Original Attributes\", sr_xr.attrs)"
   ]
  },
  {
   "cell_type": "code",
   "execution_count": null,
   "id": "arbitrary-emphasis",
   "metadata": {},
   "outputs": [],
   "source": [
    "# View min and max values in the data\n",
    "print('Difference min value:', np.nanmin(diff_xr))\n",
    "print('Difference max value:', np.nanmax(diff_xr))"
   ]
  },
  {
   "cell_type": "code",
   "execution_count": null,
   "id": "satisfactory-october",
   "metadata": {},
   "outputs": [],
   "source": [
    "print(np.histogram(diff_xr, bins=[-1, 0, 1, 2]))"
   ]
  },
  {
   "cell_type": "code",
   "execution_count": null,
   "id": "industrial-villa",
   "metadata": {},
   "outputs": [],
   "source": [
    "print(np.histogram(toa_xr, bins=[-1, 0, 1, 2]))"
   ]
  },
  {
   "cell_type": "code",
   "execution_count": null,
   "id": "fifteen-merit",
   "metadata": {},
   "outputs": [],
   "source": [
    "print(np.histogram(sr_xr, bins=[-1, 0, 1, 2]))"
   ]
  },
  {
   "cell_type": "code",
   "execution_count": null,
   "id": "chief-banner",
   "metadata": {},
   "outputs": [],
   "source": [
    "# Mask out values equal to -1 (clouds / No data)\n",
    "sr_xr_masked = sr_xr.where(sr_xr >= 0)\n",
    "print(np.histogram(sr_xr_masked, bins=[-1, 0, 1, 2]))"
   ]
  },
  {
   "cell_type": "code",
   "execution_count": null,
   "id": "aggregate-ideal",
   "metadata": {},
   "outputs": [],
   "source": [
    "toa_xr_masked = toa_xr.where(toa_xr >= 0)\n",
    "print(np.histogram(toa_xr_masked, bins=[-1, 0, 1, 2]))"
   ]
  },
  {
   "cell_type": "code",
   "execution_count": null,
   "id": "employed-subscriber",
   "metadata": {},
   "outputs": [],
   "source": [
    "print(\"The crs is\", toa_xr_masked.rio.crs)\n",
    "print(\"The no data value is\", toa_xr_masked.rio.nodata)\n",
    "toa_xr_masked   # looks like the stats get carried over (max, mean, min, even though they aren't correct anymore)"
   ]
  },
  {
   "cell_type": "code",
   "execution_count": null,
   "id": "specified-edmonton",
   "metadata": {},
   "outputs": [],
   "source": [
    "diff_xr_masked = sr_xr_masked - toa_xr_masked\n",
    "diff_xr_masked"
   ]
  },
  {
   "cell_type": "code",
   "execution_count": null,
   "id": "mineral-purchase",
   "metadata": {},
   "outputs": [],
   "source": [
    "print(raster_file)\n",
    "print(np.histogram(diff_xr_masked, bins=[-1, 0, 1, 2]))"
   ]
  },
  {
   "cell_type": "code",
   "execution_count": null,
   "id": "useful-knowing",
   "metadata": {},
   "outputs": [],
   "source": []
  }
 ],
 "metadata": {
  "kernelspec": {
   "display_name": "Python 3",
   "language": "python",
   "name": "python3"
  },
  "language_info": {
   "codemirror_mode": {
    "name": "ipython",
    "version": 3
   },
   "file_extension": ".py",
   "mimetype": "text/x-python",
   "name": "python",
   "nbconvert_exporter": "python",
   "pygments_lexer": "ipython3",
   "version": "3.8.8"
  }
 },
 "nbformat": 4,
 "nbformat_minor": 5
}
