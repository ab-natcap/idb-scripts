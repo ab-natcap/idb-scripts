{
 "cells": [
  {
   "cell_type": "code",
   "execution_count": 1,
   "id": "radio-group",
   "metadata": {},
   "outputs": [],
   "source": [
    "from rasterstats import zonal_stats  # https://pythonhosted.org/rasterstats/manual.html#zonal-statistics\n",
    "import os\n",
    "import glob\n",
    "import pandas as pd\n",
    "import geopandas as gpd\n",
    "import rasterio as rio"
   ]
  },
  {
   "cell_type": "code",
   "execution_count": 2,
   "id": "subtle-spencer",
   "metadata": {},
   "outputs": [],
   "source": [
    "# Source Raster paths and shoreline buffer polygons\n",
    "raster_toa_path = '/Users/arbailey/Google Drive/My Drive/sargassum/s2toa_classified_v1'\n",
    "raster_sr_path = '/Users/arbailey/Google Drive/My Drive/sargassum/s2sr_classified_v1'\n",
    "shore_buffer_path = '/Users/arbailey/natcap/idb/data/work/sargassum/shore_segments'\n",
    "shore_buffer_file = 'shoreQR_segments_20210331_buffer100m.shp'\n",
    "shore_buffer = os.path.join(shore_buffer_path, shore_buffer_file)"
   ]
  },
  {
   "cell_type": "code",
   "execution_count": 3,
   "id": "spectacular-prince",
   "metadata": {},
   "outputs": [],
   "source": [
    "#. Use Zonal stats to get count of each Land cover type (Sargassum present, absent, & no data)\n",
    "cmap = {1: 'pr', -1: 'nd', 0: 'ab', -9999: 'ab2'}  # convert numeric values to present/absent/no data 2-letter codes\n",
    "def sarg_segments(shore_polys, sarg_raster, affine=None):\n",
    "    zs = zonal_stats(shore_polys, sarg_raster,\n",
    "            stats=\"count\",\n",
    "            all_touched=True,\n",
    "            categorical=True, category_map=cmap,\n",
    "            geojson_out=True,\n",
    "            affine=affine)\n",
    "    return zs\n",
    "\n",
    "# Convert Zonal Stats GeoJSON result to Geodataframe for some field manipulations and joining\n",
    "def sargzs_gdf(zs_geojson, imgdate=None, imgtype=None):\n",
    "    zs_gdf = gpd.GeoDataFrame.from_features(zs_geojson)\n",
    "    zs_gdf.drop(columns=['geometry','fid', 'type_geomo','length_km', 'shore_desc', 'desc_abbre'], inplace=True, errors='ignore')\n",
    "    # Assign no data pixels to absent (because they are pre-masked as non-sargassum areas )\n",
    "    if 'ab2' in zs_gdf.columns:\n",
    "        zs_gdf['ab'] = zs_gdf['ab'] + zs_gdf['ab2']\n",
    "        zs_gdf.drop(columns=['ab2'], inplace=True, errors='ignore')\n",
    "    if imgdate:\n",
    "        zs_gdf['imgdate'] = imgdate\n",
    "    if imgtype:\n",
    "        zs_gdf.rename(columns={\"pr\": imgtype + \"_pr\", \n",
    "                           \"nd\": imgtype + \"_nd\", \n",
    "                           \"ab\": imgtype + \"_ab\",\n",
    "                           \"count\": imgtype + \"_cnt\"}, inplace=True)\n",
    "    return zs_gdf"
   ]
  },
  {
   "cell_type": "code",
   "execution_count": 4,
   "id": "threaded-translator",
   "metadata": {},
   "outputs": [],
   "source": [
    "# Example using rasterio array, get different numbers from pulling from VRT directly?!\n",
    "# with rio.open(os.path.join(raster_toa_path, '20190626T160839_mosaic.vrt')) as src:\n",
    "#     affine = src.transform\n",
    "#     array = src.read(1)\n",
    "# # zs = zonal_stats(shore_buffer, array, affine=affine)\n",
    "# zs = sarg_segments(shore_buffer, array, affine)\n",
    "# print(affine)\n",
    "# zs[0]"
   ]
  },
  {
   "cell_type": "code",
   "execution_count": 5,
   "id": "iraqi-burke",
   "metadata": {},
   "outputs": [
    {
     "name": "stdout",
     "output_type": "stream",
     "text": [
      "['20151119T161542_mosaic_nd0.vrt', '20151129T161622_mosaic_nd0.vrt', '20160427T162248_mosaic_nd0.vrt', '20160507T161858_mosaic_nd0.vrt', '20160616T162233_mosaic_nd0.vrt', '20161014T161342_mosaic_nd0.vrt', '20161203T161642_mosaic_nd0.vrt', '20161223T161702_mosaic_nd0.vrt', '20170112T161621_mosaic_nd0.vrt', '20170201T161501_mosaic_nd0.vrt', '20170221T161341_mosaic_nd0.vrt', '20170303T161341_mosaic_nd0.vrt', '20170323T161341_mosaic_nd0.vrt', '20170502T161351_mosaic_nd0.vrt', '20170522T161351_mosaic_nd0.vrt', '20170701T161341_mosaic_nd0.vrt', '20170810T161351_mosaic_nd0.vrt', '20170919T161341_mosaic_nd0.vrt', '20170924T161329_mosaic_nd0.vrt', '20171009T161341_mosaic_nd0.vrt', '20171029T161401_mosaic_nd0.vrt', '20171123T161559_mosaic_nd0.vrt', '20171208T161641_mosaic_nd0.vrt', '20171213T161649_mosaic_nd0.vrt', '20171223T161649_mosaic_nd0.vrt', '20171228T161651_mosaic_nd0.vrt', '20180112T161629_mosaic_nd0.vrt', '20180201T161459_mosaic_nd0.vrt', '20180206T161431_mosaic_nd0.vrt', '20180211T161359_mosaic_nd0.vrt', '20180216T161341_mosaic_nd0.vrt', '20180221T161339_mosaic_nd0.vrt', '20180226T161341_mosaic_nd0.vrt', '20180303T161339_mosaic_nd0.vrt', '20180318T161001_mosaic_nd0.vrt', '20180323T160929_mosaic_nd0.vrt', '20180328T161031_mosaic_nd0.vrt', '20180402T160859_mosaic_nd0.vrt', '20180407T160901_mosaic_nd0.vrt', '20180417T160901_mosaic_nd0.vrt', '20180422T160859_mosaic_nd0.vrt', '20180502T160859_mosaic_nd0.vrt', '20180507T160901_mosaic_nd0.vrt', '20180527T160901_mosaic_nd0.vrt', '20180606T161031_mosaic_nd0.vrt', '20180611T160829_mosaic_nd0.vrt', '20180621T160829_mosaic_nd0.vrt', '20180701T161019_mosaic_nd0.vrt', '20180711T160829_mosaic_nd0.vrt', '20180716T160901_mosaic_nd0.vrt', '20180721T161059_mosaic_nd0.vrt', '20180726T160901_mosaic_nd0.vrt', '20180731T160819_mosaic_nd0.vrt', '20180805T160901_mosaic_nd0.vrt', '20180815T161001_mosaic_nd0.vrt', '20180825T160901_mosaic_nd0.vrt', '20180830T160819_mosaic_nd0.vrt', '20180914T160901_mosaic_nd0.vrt', '20180929T161039_mosaic_nd0.vrt', '20181014T161221_mosaic_nd0.vrt', '20181024T161331_mosaic_nd0.vrt', '20181113T161521_mosaic_nd0.vrt', '20181118T161549_mosaic_nd0.vrt', '20181123T161601_mosaic_nd0.vrt', '20181203T161631_mosaic_nd0.vrt', '20181208T161639_mosaic_nd0.vrt', '20190112T161631_mosaic_nd0.vrt', '20190206T161439_mosaic_nd0.vrt', '20190211T161411_mosaic_nd0.vrt', '20190216T161339_mosaic_nd0.vrt', '20190226T161229_mosaic_nd0.vrt', '20190303T161151_mosaic_nd0.vrt', '20190308T161119_mosaic_nd0.vrt', '20190313T161041_mosaic_nd0.vrt', '20190323T160931_mosaic_nd0.vrt', '20190328T161029_mosaic_nd0.vrt', '20190402T160901_mosaic_nd0.vrt', '20190407T160829_mosaic_nd0.vrt', '20190412T160901_mosaic_nd0.vrt', '20190417T160829_mosaic_nd0.vrt', '20190422T160911_mosaic_nd0.vrt', '20190507T160839_mosaic_nd0.vrt', '20190512T160911_mosaic_nd0.vrt', '20190522T160911_mosaic_nd0.vrt', '20190527T160839_mosaic_nd0.vrt', '20190606T160839_mosaic_nd0.vrt', '20190611T160901_mosaic_nd0.vrt', '20190621T160911_mosaic_nd0.vrt', '20190626T160839_mosaic_nd0.vrt', '20190706T160839_mosaic_nd0.vrt', '20190726T160839_mosaic_nd0.vrt', '20190805T160839_mosaic_nd0.vrt', '20190810T160911_mosaic_nd0.vrt', '20190825T160829_mosaic_nd0.vrt', '20190904T160829_mosaic_nd0.vrt', '20190914T160859_mosaic_nd0.vrt', '20190919T160931_mosaic_nd0.vrt', '20190924T161009_mosaic_nd0.vrt', '20190929T161041_mosaic_nd0.vrt', '20191014T161229_mosaic_nd0.vrt', '20191024T161239_mosaic_nd0.vrt', '20191108T161501_mosaic_nd0.vrt', '20191118T161551_mosaic_nd0.vrt', '20191123T161559_mosaic_nd0.vrt', '20191203T161629_mosaic_nd0.vrt', '20191223T161659_mosaic_nd0.vrt', '20191228T161651_mosaic_nd0.vrt']\n",
      "Calculating TOA Sargassum and Nearshore Zonal Stats......\n"
     ]
    },
    {
     "name": "stderr",
     "output_type": "stream",
     "text": [
      "/Users/arbailey/opt/miniconda3/envs/geoenv/lib/python3.8/site-packages/rasterstats/io.py:302: UserWarning: Setting nodata to -999; specify nodata explicitly\n",
      "  warnings.warn(\"Setting nodata to -999; specify nodata explicitly\")\n"
     ]
    },
    {
     "data": {
      "text/html": [
       "<div>\n",
       "<style scoped>\n",
       "    .dataframe tbody tr th:only-of-type {\n",
       "        vertical-align: middle;\n",
       "    }\n",
       "\n",
       "    .dataframe tbody tr th {\n",
       "        vertical-align: top;\n",
       "    }\n",
       "\n",
       "    .dataframe thead th {\n",
       "        text-align: right;\n",
       "    }\n",
       "</style>\n",
       "<table border=\"1\" class=\"dataframe\">\n",
       "  <thead>\n",
       "    <tr style=\"text-align: right;\">\n",
       "      <th></th>\n",
       "      <th>seg_id</th>\n",
       "      <th>toa_nd</th>\n",
       "      <th>toa_ab</th>\n",
       "      <th>toa_cnt</th>\n",
       "      <th>toa_pr</th>\n",
       "      <th>imgdate</th>\n",
       "    </tr>\n",
       "  </thead>\n",
       "  <tbody>\n",
       "    <tr>\n",
       "      <th>0</th>\n",
       "      <td>1</td>\n",
       "      <td>3585.0</td>\n",
       "      <td>1426.0</td>\n",
       "      <td>5011</td>\n",
       "      <td>NaN</td>\n",
       "      <td>20151119</td>\n",
       "    </tr>\n",
       "    <tr>\n",
       "      <th>1</th>\n",
       "      <td>2</td>\n",
       "      <td>13.0</td>\n",
       "      <td>8204.0</td>\n",
       "      <td>8217</td>\n",
       "      <td>NaN</td>\n",
       "      <td>20151119</td>\n",
       "    </tr>\n",
       "    <tr>\n",
       "      <th>2</th>\n",
       "      <td>4</td>\n",
       "      <td>133.0</td>\n",
       "      <td>12107.0</td>\n",
       "      <td>12240</td>\n",
       "      <td>NaN</td>\n",
       "      <td>20151119</td>\n",
       "    </tr>\n",
       "    <tr>\n",
       "      <th>3</th>\n",
       "      <td>5</td>\n",
       "      <td>182.0</td>\n",
       "      <td>4600.0</td>\n",
       "      <td>4811</td>\n",
       "      <td>29.0</td>\n",
       "      <td>20151119</td>\n",
       "    </tr>\n",
       "    <tr>\n",
       "      <th>4</th>\n",
       "      <td>7</td>\n",
       "      <td>NaN</td>\n",
       "      <td>1029.0</td>\n",
       "      <td>1029</td>\n",
       "      <td>NaN</td>\n",
       "      <td>20151119</td>\n",
       "    </tr>\n",
       "    <tr>\n",
       "      <th>...</th>\n",
       "      <td>...</td>\n",
       "      <td>...</td>\n",
       "      <td>...</td>\n",
       "      <td>...</td>\n",
       "      <td>...</td>\n",
       "      <td>...</td>\n",
       "    </tr>\n",
       "    <tr>\n",
       "      <th>152</th>\n",
       "      <td>191</td>\n",
       "      <td>1718.0</td>\n",
       "      <td>17899.0</td>\n",
       "      <td>20585</td>\n",
       "      <td>968.0</td>\n",
       "      <td>20191228</td>\n",
       "    </tr>\n",
       "    <tr>\n",
       "      <th>153</th>\n",
       "      <td>194</td>\n",
       "      <td>NaN</td>\n",
       "      <td>15523.0</td>\n",
       "      <td>17603</td>\n",
       "      <td>2080.0</td>\n",
       "      <td>20191228</td>\n",
       "    </tr>\n",
       "    <tr>\n",
       "      <th>154</th>\n",
       "      <td>195</td>\n",
       "      <td>751.0</td>\n",
       "      <td>22820.0</td>\n",
       "      <td>23609</td>\n",
       "      <td>38.0</td>\n",
       "      <td>20191228</td>\n",
       "    </tr>\n",
       "    <tr>\n",
       "      <th>155</th>\n",
       "      <td>196</td>\n",
       "      <td>6.0</td>\n",
       "      <td>1696.0</td>\n",
       "      <td>1926</td>\n",
       "      <td>224.0</td>\n",
       "      <td>20191228</td>\n",
       "    </tr>\n",
       "    <tr>\n",
       "      <th>156</th>\n",
       "      <td>197</td>\n",
       "      <td>22.0</td>\n",
       "      <td>2336.0</td>\n",
       "      <td>2358</td>\n",
       "      <td>NaN</td>\n",
       "      <td>20191228</td>\n",
       "    </tr>\n",
       "  </tbody>\n",
       "</table>\n",
       "<p>16799 rows × 6 columns</p>\n",
       "</div>"
      ],
      "text/plain": [
       "     seg_id  toa_nd   toa_ab  toa_cnt  toa_pr   imgdate\n",
       "0         1  3585.0   1426.0     5011     NaN  20151119\n",
       "1         2    13.0   8204.0     8217     NaN  20151119\n",
       "2         4   133.0  12107.0    12240     NaN  20151119\n",
       "3         5   182.0   4600.0     4811    29.0  20151119\n",
       "4         7     NaN   1029.0     1029     NaN  20151119\n",
       "..      ...     ...      ...      ...     ...       ...\n",
       "152     191  1718.0  17899.0    20585   968.0  20191228\n",
       "153     194     NaN  15523.0    17603  2080.0  20191228\n",
       "154     195   751.0  22820.0    23609    38.0  20191228\n",
       "155     196     6.0   1696.0     1926   224.0  20191228\n",
       "156     197    22.0   2336.0     2358     NaN  20191228\n",
       "\n",
       "[16799 rows x 6 columns]"
      ]
     },
     "execution_count": 5,
     "metadata": {},
     "output_type": "execute_result"
    }
   ],
   "source": [
    "# TOA -- Calculate Zonal Stats & create stacked DF\n",
    "\n",
    "# Get list of all mosaic rasters\n",
    "os.chdir(raster_toa_path)\n",
    "# toa_mosaics = [f for f in glob.glob('*_mosaic.vrt')] \n",
    "toa_mosaics = [f for f in glob.glob('*_mosaic_nd0.vrt')]\n",
    "toa_mosaics.sort()\n",
    "print(toa_mosaics)\n",
    "\n",
    "dfs = []\n",
    "print('Calculating TOA Sargassum and Nearshore Zonal Stats......')\n",
    "for mosaic in toa_mosaics:\n",
    "    image_date = mosaic[0:8]\n",
    "    toa_zs = sarg_segments(shore_buffer, mosaic)\n",
    "    toa_shore_df = sargzs_gdf(toa_zs,image_date,'toa')\n",
    "    dfs.append(toa_shore_df)\n",
    "toa_shore_df = pd.concat(dfs)\n",
    "toa_shore_df"
   ]
  },
  {
   "cell_type": "code",
   "execution_count": 6,
   "id": "sweet-utility",
   "metadata": {},
   "outputs": [
    {
     "name": "stdout",
     "output_type": "stream",
     "text": [
      "[]\n",
      "Calculating SR Sargassum and Nearshore Zonal Stats......\n"
     ]
    },
    {
     "ename": "ValueError",
     "evalue": "No objects to concatenate",
     "output_type": "error",
     "traceback": [
      "\u001b[0;31m---------------------------------------------------------------------------\u001b[0m",
      "\u001b[0;31mValueError\u001b[0m                                Traceback (most recent call last)",
      "\u001b[0;32m<ipython-input-6-ae1115da00ee>\u001b[0m in \u001b[0;36m<module>\u001b[0;34m\u001b[0m\n\u001b[1;32m     15\u001b[0m     \u001b[0msr_shore_df\u001b[0m \u001b[0;34m=\u001b[0m \u001b[0msargzs_gdf\u001b[0m\u001b[0;34m(\u001b[0m\u001b[0msr_zs\u001b[0m\u001b[0;34m,\u001b[0m\u001b[0mimage_date\u001b[0m\u001b[0;34m,\u001b[0m\u001b[0;34m'sr'\u001b[0m\u001b[0;34m)\u001b[0m\u001b[0;34m\u001b[0m\u001b[0;34m\u001b[0m\u001b[0m\n\u001b[1;32m     16\u001b[0m     \u001b[0mdfs\u001b[0m\u001b[0;34m.\u001b[0m\u001b[0mappend\u001b[0m\u001b[0;34m(\u001b[0m\u001b[0msr_shore_df\u001b[0m\u001b[0;34m)\u001b[0m\u001b[0;34m\u001b[0m\u001b[0;34m\u001b[0m\u001b[0m\n\u001b[0;32m---> 17\u001b[0;31m \u001b[0msr_shore_df\u001b[0m \u001b[0;34m=\u001b[0m \u001b[0mpd\u001b[0m\u001b[0;34m.\u001b[0m\u001b[0mconcat\u001b[0m\u001b[0;34m(\u001b[0m\u001b[0mdfs\u001b[0m\u001b[0;34m)\u001b[0m\u001b[0;34m\u001b[0m\u001b[0;34m\u001b[0m\u001b[0m\n\u001b[0m\u001b[1;32m     18\u001b[0m \u001b[0msr_shore_df\u001b[0m\u001b[0;34m\u001b[0m\u001b[0;34m\u001b[0m\u001b[0m\n",
      "\u001b[0;32m~/opt/miniconda3/envs/geoenv/lib/python3.8/site-packages/pandas/core/reshape/concat.py\u001b[0m in \u001b[0;36mconcat\u001b[0;34m(objs, axis, join, ignore_index, keys, levels, names, verify_integrity, sort, copy)\u001b[0m\n\u001b[1;32m    283\u001b[0m     \u001b[0mValueError\u001b[0m\u001b[0;34m:\u001b[0m \u001b[0mIndexes\u001b[0m \u001b[0mhave\u001b[0m \u001b[0moverlapping\u001b[0m \u001b[0mvalues\u001b[0m\u001b[0;34m:\u001b[0m \u001b[0;34m[\u001b[0m\u001b[0;34m'a'\u001b[0m\u001b[0;34m]\u001b[0m\u001b[0;34m\u001b[0m\u001b[0;34m\u001b[0m\u001b[0m\n\u001b[1;32m    284\u001b[0m     \"\"\"\n\u001b[0;32m--> 285\u001b[0;31m     op = _Concatenator(\n\u001b[0m\u001b[1;32m    286\u001b[0m         \u001b[0mobjs\u001b[0m\u001b[0;34m,\u001b[0m\u001b[0;34m\u001b[0m\u001b[0;34m\u001b[0m\u001b[0m\n\u001b[1;32m    287\u001b[0m         \u001b[0maxis\u001b[0m\u001b[0;34m=\u001b[0m\u001b[0maxis\u001b[0m\u001b[0;34m,\u001b[0m\u001b[0;34m\u001b[0m\u001b[0;34m\u001b[0m\u001b[0m\n",
      "\u001b[0;32m~/opt/miniconda3/envs/geoenv/lib/python3.8/site-packages/pandas/core/reshape/concat.py\u001b[0m in \u001b[0;36m__init__\u001b[0;34m(self, objs, axis, join, keys, levels, names, ignore_index, verify_integrity, copy, sort)\u001b[0m\n\u001b[1;32m    340\u001b[0m \u001b[0;34m\u001b[0m\u001b[0m\n\u001b[1;32m    341\u001b[0m         \u001b[0;32mif\u001b[0m \u001b[0mlen\u001b[0m\u001b[0;34m(\u001b[0m\u001b[0mobjs\u001b[0m\u001b[0;34m)\u001b[0m \u001b[0;34m==\u001b[0m \u001b[0;36m0\u001b[0m\u001b[0;34m:\u001b[0m\u001b[0;34m\u001b[0m\u001b[0;34m\u001b[0m\u001b[0m\n\u001b[0;32m--> 342\u001b[0;31m             \u001b[0;32mraise\u001b[0m \u001b[0mValueError\u001b[0m\u001b[0;34m(\u001b[0m\u001b[0;34m\"No objects to concatenate\"\u001b[0m\u001b[0;34m)\u001b[0m\u001b[0;34m\u001b[0m\u001b[0;34m\u001b[0m\u001b[0m\n\u001b[0m\u001b[1;32m    343\u001b[0m \u001b[0;34m\u001b[0m\u001b[0m\n\u001b[1;32m    344\u001b[0m         \u001b[0;32mif\u001b[0m \u001b[0mkeys\u001b[0m \u001b[0;32mis\u001b[0m \u001b[0;32mNone\u001b[0m\u001b[0;34m:\u001b[0m\u001b[0;34m\u001b[0m\u001b[0;34m\u001b[0m\u001b[0m\n",
      "\u001b[0;31mValueError\u001b[0m: No objects to concatenate"
     ]
    }
   ],
   "source": [
    "# SR -- Calculate Zonal Stats & create stacked DF\n",
    "\n",
    "# Get list of all mosaic rasters\n",
    "os.chdir(raster_sr_path)\n",
    "# sr_mosaics = [f for f in glob.glob('*_mosaic.vrt')]\n",
    "sr_mosaics = [f for f in glob.glob('*_mosaic_nd0.vrt')]\n",
    "sr_mosaics.sort()\n",
    "print(sr_mosaics)\n",
    "\n",
    "dfs = []\n",
    "print('Calculating SR Sargassum and Nearshore Zonal Stats......')\n",
    "for mosaic in sr_mosaics:\n",
    "    image_date = mosaic[0:8]\n",
    "    sr_zs = sarg_segments(shore_buffer, mosaic)\n",
    "    sr_shore_df = sargzs_gdf(sr_zs,image_date,'sr')\n",
    "    dfs.append(sr_shore_df)\n",
    "sr_shore_df = pd.concat(dfs)\n",
    "sr_shore_df\n"
   ]
  },
  {
   "cell_type": "code",
   "execution_count": null,
   "id": "clear-packet",
   "metadata": {},
   "outputs": [],
   "source": [
    "# DB-style inner join SR and TOA \n",
    "joined_shore_df = pd.merge(right=sr_shore_df, left=toa_shore_df, how='inner',on=['seg_id','imgdate'])  # uses fields in common by default\n",
    "joined_shore_df = joined_shore_df.fillna(0, )\n",
    "joined_shore_df"
   ]
  },
  {
   "cell_type": "code",
   "execution_count": null,
   "id": "vietnamese-wyoming",
   "metadata": {},
   "outputs": [],
   "source": [
    "joined_shore_df['pr_diff'] = joined_shore_df['toa_pr'] - joined_shore_df['sr_pr']\n",
    "joined_shore_df"
   ]
  },
  {
   "cell_type": "code",
   "execution_count": null,
   "id": "perfect-anthony",
   "metadata": {},
   "outputs": [],
   "source": [
    "joined_shore_df['pr_diff'].plot.hist(bins=100, figsize=(20,12))"
   ]
  },
  {
   "cell_type": "code",
   "execution_count": null,
   "id": "unusual-avatar",
   "metadata": {},
   "outputs": [],
   "source": [
    "import seaborn as sns\n",
    "import matplotlib as mpl\n",
    "import matplotlib.pyplot as plt\n",
    "sns.set_theme(style=\"ticks\")\n",
    "sns.set_theme(style=\"darkgrid\")\n",
    "\n",
    "f, ax = plt.subplots(figsize=(20, 12))\n",
    "sns.despine(f)\n",
    "\n",
    "sns.histplot(\n",
    "    joined_shore_df,\n",
    "    x=\"pr_diff\",\n",
    ")"
   ]
  },
  {
   "cell_type": "code",
   "execution_count": null,
   "id": "liked-context",
   "metadata": {},
   "outputs": [],
   "source": [
    "f, ax = plt.subplots(figsize=(20, 12))\n",
    "sns.set_theme(style=\"darkgrid\")\n",
    "ax.set_xticks([-300, -200, -100,0, 100, 200, 300, 400, 500, 600, 700, 800, 900, 1000, 1100, 1200])\n",
    "ax.set_yticks([0.0, 0.1, 0.2, 0.3, 0.4, 0.5, 0.6, 0.7, 0.8, 0.9, 1.0])\n",
    "ax.set_ylabel('Cumulative Percent')\n",
    "sns.histplot(\n",
    "    joined_shore_df,\n",
    "    x=\"pr_diff\",\n",
    "    cumulative = True,\n",
    "    stat = 'probability',\n",
    ")"
   ]
  },
  {
   "cell_type": "code",
   "execution_count": null,
   "id": "animated-shame",
   "metadata": {},
   "outputs": [],
   "source": [
    "#### Output\n",
    "output_path = '/Users/arbailey/natcap/idb/data/work/sargassum/ip'\n",
    "output_csv = os.path.join(output_path, 'shore100m_sargassum_stats.csv')\n",
    "print('output dataframe to ' + output_csv)\n",
    "joined_shore_df.to_csv(path_or_buf=output_csv, index=False)"
   ]
  },
  {
   "cell_type": "code",
   "execution_count": null,
   "id": "earlier-relay",
   "metadata": {},
   "outputs": [],
   "source": []
  }
 ],
 "metadata": {
  "kernelspec": {
   "display_name": "Python 3",
   "language": "python",
   "name": "python3"
  },
  "language_info": {
   "codemirror_mode": {
    "name": "ipython",
    "version": 3
   },
   "file_extension": ".py",
   "mimetype": "text/x-python",
   "name": "python",
   "nbconvert_exporter": "python",
   "pygments_lexer": "ipython3",
   "version": "3.8.10"
  }
 },
 "nbformat": 4,
 "nbformat_minor": 5
}
