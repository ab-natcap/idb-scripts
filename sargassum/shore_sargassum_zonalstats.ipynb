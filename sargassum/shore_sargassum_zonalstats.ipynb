{
 "cells": [
  {
   "cell_type": "code",
   "execution_count": null,
   "id": "orange-bride",
   "metadata": {},
   "outputs": [],
   "source": [
    "from rasterstats import zonal_stats  # https://pythonhosted.org/rasterstats/manual.html#zonal-statistics\n",
    "import os\n",
    "import glob\n",
    "import pandas as pd\n",
    "import geopandas as gpd\n",
    "import rasterio as rio\n",
    "import matplotlib.pyplot as plt\n",
    "import matplotlib.dates as mdates\n",
    "import seaborn as sns\n",
    "sns.set_theme()"
   ]
  },
  {
   "cell_type": "code",
   "execution_count": null,
   "id": "dangerous-qualification",
   "metadata": {},
   "outputs": [],
   "source": [
    "# Source Raster paths and shoreline buffer polygons\n",
    "shore_buffer_path = '/Users/arbailey/natcap/idb/data/work/sargassum/shore_segments'\n",
    "shore_buffer_file = 'shoreQR_segments_20210331_buffer100m.shp'\n",
    "shore_buffer = os.path.join(shore_buffer_path, shore_buffer_file)"
   ]
  },
  {
   "cell_type": "markdown",
   "id": "specialized-gentleman",
   "metadata": {},
   "source": [
    "## Classifed Image Mosaics to Geodataframes of Presence/Absence/No Data Zonal Stats by Shoreline Segment (100m buffer)"
   ]
  },
  {
   "cell_type": "code",
   "execution_count": null,
   "id": "close-extension",
   "metadata": {},
   "outputs": [],
   "source": [
    "#. Use Zonal stats to get count of each Land cover type (Sargassum present, absent, & no data)\n",
    "cmap = {1: 'pr', -1: 'nd', 0: 'ab', -9999: 'ab2'}  # convert numeric values to present/absent/no data 2-letter codes\n",
    "\n",
    "def sarg_segments(shore_polys, sarg_raster, affine=None):\n",
    "    zs = zonal_stats(shore_polys, sarg_raster,\n",
    "            stats=\"count\",\n",
    "            all_touched=True,\n",
    "            categorical=True, category_map=cmap,\n",
    "            geojson_out=True,\n",
    "            affine=affine)\n",
    "    return zs\n",
    "\n",
    "# Convert Zonal Stats GeoJSON result to Geodataframe for some field manipulations and joining\n",
    "def sargzs_gdf(zs_geojson, imgdate=None, imgtime=None):\n",
    "    zs_gdf = gpd.GeoDataFrame.from_features(zs_geojson)\n",
    "    zs_gdf.drop(columns=['geometry','fid', 'type_geomo','length_km', 'shore_desc', 'desc_abbre'], inplace=True, errors='ignore')\n",
    "    # Assign no data pixels to absent (because they are pre-masked as non-sargassum areas )\n",
    "    if 'ab2' in zs_gdf.columns:\n",
    "        zs_gdf['ab'] = zs_gdf['ab'] + zs_gdf['ab2']\n",
    "        zs_gdf.drop(columns=['ab2'], inplace=True, errors='ignore')\n",
    "    if imgdate:\n",
    "        zs_gdf['imgdate'] = imgdate\n",
    "    if imgtime:\n",
    "        zs_gdf['imgtime'] = imgtime\n",
    "    return zs_gdf\n",
    "\n",
    "def classed_to_gdf(raster_path):\n",
    "    # Get list of all mosaic rasters\n",
    "    os.chdir(raster_path)\n",
    "#     mosaics = [f for f in glob.glob('*_mosaic.vrt')] \n",
    "    mosaics = [f for f in glob.glob('*_mosaic_nd0.vrt')] \n",
    "    mosaics.sort()\n",
    "#     print(mosaics)\n",
    "    \n",
    "    dfs = []\n",
    "    print('Calculating TOA Sargassum and Nearshore Zonal Stats......')\n",
    "    for mosaic in mosaics:\n",
    "        image_date = mosaic[0:8]\n",
    "        image_time = mosaic[9:15]\n",
    "        zs = sarg_segments(shore_buffer, mosaic)\n",
    "        shore_df = sargzs_gdf(zs,image_date,image_time)\n",
    "        shore_df = shore_df.fillna(0)\n",
    "        dfs.append(shore_df)\n",
    "        \n",
    "    shore_df = pd.concat(dfs, ignore_index=True)\n",
    "    shore_df['Date']= pd.to_datetime(shore_df['imgdate'])\n",
    "    return shore_df    \n"
   ]
  },
  {
   "cell_type": "code",
   "execution_count": null,
   "id": "unexpected-window",
   "metadata": {},
   "outputs": [],
   "source": [
    "# TOA v1 -- Calculate Zonal Stats & create stacked DF\n",
    "raster_path = '/Users/arbailey/Google Drive/My Drive/sargassum/s2toa_classified_v1'\n",
    "shore_df_toaV1 = classed_to_gdf(raster_path)\n",
    "shore_df_toaV1"
   ]
  },
  {
   "cell_type": "code",
   "execution_count": null,
   "id": "automatic-induction",
   "metadata": {},
   "outputs": [],
   "source": [
    "# # TOA v2 -- Calculate Zonal Stats & create stacked DF\n",
    "# raster_path = '/Users/arbailey/Google Drive/My Drive/sargassum/s2toa_classified_v2'\n",
    "# shore_df_toaV2 = classed_to_gdf(raster_path)\n",
    "# shore_df_toaV2"
   ]
  },
  {
   "cell_type": "code",
   "execution_count": null,
   "id": "coated-tongue",
   "metadata": {},
   "outputs": [],
   "source": [
    "# TOA v3 -- Calculate Zonal Stats & create stacked DF\n",
    "raster_path = '/Users/arbailey/Google Drive/My Drive/sargassum/s2toa_classified_v3'\n",
    "shore_df_toaV3 = classed_to_gdf(raster_path)\n",
    "shore_df_toaV3"
   ]
  },
  {
   "cell_type": "code",
   "execution_count": null,
   "id": "acceptable-screening",
   "metadata": {},
   "outputs": [],
   "source": [
    "# # SR v1\n",
    "# raster_path = '/Users/arbailey/Google Drive/My Drive/sargassum/s2sr_classified'\n",
    "# shore_df_srV1 = classed_to_gdf(raster_path)\n",
    "# shore_df_srV1"
   ]
  },
  {
   "cell_type": "code",
   "execution_count": null,
   "id": "a70df7c3-1b38-4ec7-9c0c-9e8402d222a0",
   "metadata": {},
   "outputs": [],
   "source": [
    "# Combine individual results from different training sets  \n",
    "# toaV1\n",
    "shore_df_toaV1_output = shore_df_toaV1.copy()\n",
    "shore_df_toaV1_output = shore_df_toaV1_output[['seg_id', 'Date', 'pr', 'nd','count']]\n",
    "shore_df_toaV1_output['nd_prop_toa1'] = shore_df_toaV1_output['nd'] / shore_df_toaV1_output['count']\n",
    "shore_df_toaV1_output = shore_df_toaV1_output.rename(columns={'Date':'image_date','pr':'pr_pxl_toa1','nd':'nd_pxl_toa1','count':'cnt_pxl_toa1'})\n",
    "shore_df_toaV1_output\n"
   ]
  },
  {
   "cell_type": "code",
   "execution_count": null,
   "id": "469663ce-e5e4-4676-9d84-f7186bd037cf",
   "metadata": {},
   "outputs": [],
   "source": [
    "shore_df_toaV3_output = shore_df_toaV3.copy()\n",
    "shore_df_toaV3_output = shore_df_toaV3_output[['seg_id', 'Date', 'pr', 'nd','count']]\n",
    "shore_df_toaV3_output['nd_prop_toa3'] = shore_df_toaV3_output['nd'] / shore_df_toaV3_output['count']\n",
    "shore_df_toaV3_output = shore_df_toaV3_output.rename(columns={'Date':'image_date','pr':'pr_pxl_toa3','nd':'nd_pxl_toa3','count':'cnt_pxl_toa3'})\n",
    "shore_df_toaV3_output"
   ]
  },
  {
   "cell_type": "code",
   "execution_count": null,
   "id": "9b0beeee-eca7-4c58-98fd-85d0f9b3f3cf",
   "metadata": {},
   "outputs": [],
   "source": [
    "shore_df = pd.merge(shore_df_toaV1_output,shore_df_toaV3_output)\n",
    "shore_df"
   ]
  },
  {
   "cell_type": "code",
   "execution_count": null,
   "id": "40b757ec-b0e3-412d-b8b4-29f2e38ac5a1",
   "metadata": {},
   "outputs": [],
   "source": [
    "#### Output\n",
    "output_path = '/Users/arbailey/natcap/idb/data/work/sargassum/ip'\n",
    "output_csv = os.path.join(output_path, 'shore100m_sargassum_stats.csv')\n",
    "print('output dataframe to ' + output_csv)\n",
    "shore_df.to_csv(path_or_buf=output_csv, index=False)"
   ]
  },
  {
   "cell_type": "markdown",
   "id": "ordered-wisconsin",
   "metadata": {},
   "source": [
    "## Sum pixels (area) by date for each source"
   ]
  },
  {
   "cell_type": "code",
   "execution_count": null,
   "id": "announced-extraction",
   "metadata": {},
   "outputs": [],
   "source": [
    "def groupbydate(df, source):\n",
    "    grouped_df = df.groupby(['Date','imgdate', 'imgtime']).agg({'pr':['sum'] ,'ab':['sum'],'nd':['sum'],'count':['sum']})  #.reset_index()\n",
    "    grouped_df.columns = ['_'.join(col) for col in grouped_df.columns.values]\n",
    "    grouped_df = grouped_df.reset_index()\n",
    "    grouped_df = grouped_df.set_index('Date')\n",
    "    grouped_df['source']= source\n",
    "    return grouped_df\n",
    "# shore_grouped_df = shore_df.groupby(['Date','imgdate', 'imgtime']).agg({'pr':['sum'] ,'ab':['sum'],'nd':['sum'],'count':['sum']}).reset_index()\n",
    "# shore_grouped_df"
   ]
  },
  {
   "cell_type": "code",
   "execution_count": null,
   "id": "regional-translation",
   "metadata": {},
   "outputs": [],
   "source": [
    "shore_grouped_toaV1 = groupbydate(shore_df_toaV1,'toaV1')\n",
    "shore_grouped_toaV1"
   ]
  },
  {
   "cell_type": "code",
   "execution_count": null,
   "id": "significant-teach",
   "metadata": {},
   "outputs": [],
   "source": [
    "# shore_grouped_toaV2 = groupbydate(shore_df_toaV2, 'toaV2')\n",
    "# shore_grouped_toaV2"
   ]
  },
  {
   "cell_type": "code",
   "execution_count": null,
   "id": "particular-prospect",
   "metadata": {},
   "outputs": [],
   "source": [
    "shore_grouped_toaV3 = groupbydate(shore_df_toaV3, 'toaV3')\n",
    "shore_grouped_toaV3"
   ]
  },
  {
   "cell_type": "code",
   "execution_count": null,
   "id": "occupied-murray",
   "metadata": {},
   "outputs": [],
   "source": [
    "# shore_grouped_srV1 = groupbydate(shore_df_srV1, 'srV1')\n",
    "# shore_grouped_srV1"
   ]
  },
  {
   "cell_type": "markdown",
   "id": "employed-prefix",
   "metadata": {},
   "source": [
    "## Visualize Time series of total Sargassum Area - Across Study Area"
   ]
  },
  {
   "cell_type": "code",
   "execution_count": null,
   "id": "apart-promotion",
   "metadata": {},
   "outputs": [],
   "source": [
    "shore_grouped_toaV3['pr_sum'].plot(figsize=(20, 10))\n",
    "# shore_grouped_toaV3.set_index('Date')['pr_sum'].plot.bar(figsize=(20, 10))"
   ]
  },
  {
   "cell_type": "code",
   "execution_count": null,
   "id": "laden-violation",
   "metadata": {},
   "outputs": [],
   "source": [
    "# shore_grouped_all = pd.concat([shore_grouped_srV1, shore_grouped_toaV1, shore_grouped_toaV2, shore_grouped_toaV3], axis=0).reset_index()\n",
    "shore_grouped_all = pd.concat([shore_grouped_toaV1, shore_grouped_toaV3], axis=0).reset_index()\n",
    "shore_grouped_all"
   ]
  },
  {
   "cell_type": "code",
   "execution_count": null,
   "id": "2ceaae67-fdf4-4f9b-97ca-d40952fa73ab",
   "metadata": {},
   "outputs": [],
   "source": [
    "shore_grouped_all['sum2'] = shore_grouped_all['pr_sum'] + shore_grouped_all['ab_sum'] + shore_grouped_all['nd_sum']\n",
    "shore_grouped_all"
   ]
  },
  {
   "cell_type": "code",
   "execution_count": null,
   "id": "ee347a5f-384c-4dd5-8411-b0e558161504",
   "metadata": {},
   "outputs": [],
   "source": [
    "shore_grouped_all[shore_grouped_all['count_sum'] < 1401942]"
   ]
  },
  {
   "cell_type": "code",
   "execution_count": null,
   "id": "specialized-shuttle",
   "metadata": {},
   "outputs": [],
   "source": [
    "sns.set_theme(style='darkgrid', palette='Set3', font='Arial', font_scale=1.2)\n",
    "# sns.relplot(data=shore_grouped_all, x=\"Date\", y=\"pr_sum\", hue=\"source\", kind=\"line\", height=10, aspect=2)\n",
    "# sns.relplot(data=shore_grouped_all[shore_grouped_all['Date'] > '2019-01-01'], x=\"Date\", y=\"pr_sum\", hue=\"source\", kind=\"line\", height=10, aspect=2)"
   ]
  },
  {
   "cell_type": "code",
   "execution_count": null,
   "id": "assisted-macro",
   "metadata": {},
   "outputs": [],
   "source": [
    "## Full Time Series. -- Sargassum Area \n",
    "f,ax = plt.subplots(figsize=(20, 10))\n",
    "sns.lineplot(data=shore_grouped_all, x=\"Date\", y=\"pr_sum\", hue=\"source\", ax=ax)\n",
    "ax.set(xlabel='', ylabel = 'Sargassum Pixels')\n",
    "# Major ticks every 3 months.\n",
    "fmt_quarter = mdates.MonthLocator(interval=3)\n",
    "ax.xaxis.set_major_locator(fmt_quarter)\n",
    "\n",
    "\n",
    "f,ax = plt.subplots(figsize=(20, 10))\n",
    "sns.lineplot(data=shore_grouped_all[shore_grouped_all['Date'] > '2019-01-01'], x=\"Date\", y=\"pr_sum\", hue=\"source\", ax=ax)\n",
    "ax.set(xlabel='', ylabel = 'Sargassum Pixels')\n",
    "# fmt_month = mdates.MonthLocator()\n",
    "# ax.xaxis.set_major_locator(fmt_month)"
   ]
  },
  {
   "cell_type": "code",
   "execution_count": null,
   "id": "finished-framing",
   "metadata": {},
   "outputs": [],
   "source": [
    "f,ax = plt.subplots(figsize=(20, 10))\n",
    "# sns.lineplot(data=shore_grouped_all, x=\"Date\", y=\"pr_sum\", hue=\"source\", ax=ax)\n",
    "sns.lineplot(data=shore_grouped_all, x=\"Date\", y=\"nd_sum\", hue=\"source\", ax=ax)\n",
    "ax.set(xlabel='', ylabel = 'No Data (clouds) Pixels')"
   ]
  },
  {
   "cell_type": "code",
   "execution_count": null,
   "id": "lonely-underwear",
   "metadata": {},
   "outputs": [],
   "source": [
    "# sns.relplot(data=shore_grouped_all, x=\"Date\", y=\"ab_sum\", hue=\"source\", kind=\"line\", height=10, aspect=2)\n",
    "f,ax = plt.subplots(figsize=(20, 10))\n",
    "sns.lineplot(data=shore_grouped_all, x=\"Date\", y=\"ab_sum\", hue=\"source\", ax=ax)"
   ]
  },
  {
   "cell_type": "code",
   "execution_count": null,
   "id": "opposite-pioneer",
   "metadata": {},
   "outputs": [],
   "source": [
    "# Test Dates only\n",
    "# fast method\n",
    "test_dates = ['2019-02-26', '2019-04-02', '2019-05-07', '2019-06-26', '2019-09-14', '2019-11-18', '2019-12-03']\n",
    "# movies[movies.genre.isin(filter_list)]\n",
    "shore_grouped_testdates = shore_grouped_all[shore_grouped_all.Date.isin(test_dates)]\n",
    "shore_grouped_testdates['sarg_ha'] = shore_grouped_testdates[\"pr_sum\"]/ 100\n",
    "shore_grouped_testdates\n",
    "f,ax = plt.subplots(figsize=(20, 10))\n",
    "sns.lineplot(data=shore_grouped_testdates, x=\"Date\", y=\"sarg_ha\", hue=\"source\", ax=ax)\n",
    "ax.set(xlabel='', ylabel = 'Sargassum Area (ha)', yticks=[0,50,100,150,200,250,300,350,400,450,500,550,600])\n",
    "# https://matplotlib.org/stable/gallery/text_labels_and_annotations/date.html\n",
    "# major ticks every month.\n",
    "fmt_month = mdates.MonthLocator()\n",
    "ax.xaxis.set_major_locator(fmt_month)\n",
    "\n",
    "# # Text in the x axis will be displayed in 'YYYY-mm' format.\n",
    "# ax.xaxis.set_major_formatter(mdates.DateFormatter('%Y-%m'))"
   ]
  },
  {
   "cell_type": "code",
   "execution_count": null,
   "id": "opposite-military",
   "metadata": {},
   "outputs": [],
   "source": [
    "# Very simple one-liner using our agg_tips DataFrame.\n",
    "# sns.set_theme(style='darkgrid', palette='deep', font='Arial', font_scale=1.2)\n",
    "sns.set(palette='deep')\n",
    "shore_grouped_toaV3.set_index('imgdate')[['pr_sum','ab_sum','nd_sum']].plot(kind='bar', stacked=True,figsize=(20, 10))\n",
    "\n",
    "# # Just add a title and rotate the x-axis labels to be horizontal.\n",
    "# plt.title('Tips by Day and Gender')\n",
    "# plt.xticks(rotation=0, ha='center')"
   ]
  },
  {
   "cell_type": "code",
   "execution_count": null,
   "id": "latter-manor",
   "metadata": {},
   "outputs": [],
   "source": [
    "# Make sure there's no correlation between Sargassum area and Clouds\n",
    "shore_grouped_all.plot.scatter(x='pr_sum', y='nd_sum',figsize=(10,10)).set(ylabel='No Data (Clouds) Pixel Count',xlabel='Sargassum Pixel Count')"
   ]
  },
  {
   "cell_type": "markdown",
   "id": "further-underwear",
   "metadata": {},
   "source": [
    "## Compare Moon Palace Daily Sargassum Volume with Sentinel-2 Sargassum Area for Segment 130"
   ]
  },
  {
   "cell_type": "code",
   "execution_count": null,
   "id": "neutral-northeast",
   "metadata": {},
   "outputs": [],
   "source": [
    "moon_palace_spreadsheet = '/Users/arbailey/natcap/idb/data/work/sargassum/groundtruth/rosa/MoonPalace_Daily_2015_2019.xlsx'\n",
    "\n",
    "moon_palace_df = pd.read_excel(moon_palace_spreadsheet, usecols=('Date','Species','VolTot','VolSar','VolSarkm')) #, dtype={'Species': str})  \n",
    "moon_palace_df"
   ]
  },
  {
   "cell_type": "code",
   "execution_count": null,
   "id": "certified-notebook",
   "metadata": {},
   "outputs": [],
   "source": [
    "moon_palace_segment_df = shore_df_toaV3[shore_df_toaV3[\"seg_id\"] == 130]\n",
    "moon_palace_segment_df"
   ]
  },
  {
   "cell_type": "code",
   "execution_count": null,
   "id": "handed-dover",
   "metadata": {},
   "outputs": [],
   "source": [
    "# moon_palace_df.set_index('Date')[['VolSar','VolSarkm']].plot(figsize=(24, 12), xlim=(('2015-11-01','2020-01-01')))\n",
    "moon_palace_df.set_index('Date')[['VolSar']].plot(figsize=(24, 12), xlim=(('2015-11-01','2020-01-01')))"
   ]
  },
  {
   "cell_type": "code",
   "execution_count": null,
   "id": "retained-hybrid",
   "metadata": {},
   "outputs": [],
   "source": [
    "# moon_palace_segment_df.set_index('Date')['pr'].plot(figsize=(24, 12), xlim=(('2015-11-01','2020-01-01')))"
   ]
  },
  {
   "cell_type": "code",
   "execution_count": null,
   "id": "middle-professional",
   "metadata": {},
   "outputs": [],
   "source": [
    "# Join Moon Palace Daily time series with Sentinel-2 Segment 130 Sargassum on date\n",
    "sargshore_moonpalace_df = pd.merge(moon_palace_segment_df, moon_palace_df, how=\"left\", on=\"Date\")\n",
    "sargshore_moonpalace_df"
   ]
  },
  {
   "cell_type": "code",
   "execution_count": null,
   "id": "central-processing",
   "metadata": {},
   "outputs": [],
   "source": [
    "sargshore_moonpalace_df.set_index('Date')[['pr','VolSar']].plot(figsize=(24, 12), xlim=(('2015-11-01','2020-01-01')))"
   ]
  },
  {
   "cell_type": "code",
   "execution_count": null,
   "id": "incorporate-fisher",
   "metadata": {},
   "outputs": [],
   "source": [
    "sargshore_moonpalace_df.plot.scatter(x='pr', y='VolSar',figsize=(10,10)).set(xlabel='Sargassum Area (pixel count) from Sentinel-2',ylabel='Sargassum Vol (m3) at Moon Palace')"
   ]
  },
  {
   "cell_type": "code",
   "execution_count": null,
   "id": "historic-correlation",
   "metadata": {},
   "outputs": [],
   "source": [
    "# sargshore_moonpalace_df.plot.scatter(x='pr', y='VolSar',loglog=True, figsize=(10,10)).set(xlabel='Sargassum Area (pixel count) from Sentinel-2',ylabel='Sargassum Vol (m3) at Moon Palace')"
   ]
  },
  {
   "cell_type": "markdown",
   "id": "handy-minutes",
   "metadata": {},
   "source": [
    "## Compare Data from Chavez et al. 2020 with Sentinel-2 Sargassum Area"
   ]
  },
  {
   "cell_type": "markdown",
   "id": "black-papua",
   "metadata": {},
   "source": [
    "### Landsat Time Series, 2016-2020 for Cancun to Xcalak"
   ]
  },
  {
   "cell_type": "code",
   "execution_count": null,
   "id": "tracked-integration",
   "metadata": {},
   "outputs": [],
   "source": [
    "source_dir = '/Users/arbailey/natcap/idb/data/source/abigail_sargassum'\n",
    "data_file = 'time series sargasso cover.txt'\n",
    "landsat_timeseries_path = os.path.join(source_dir, data_file)\n",
    "landsat_ts_df = pd.read_table(landsat_timeseries_path, names=['intdate','Date','area_ha'], parse_dates=['Date'], dayfirst=True)\n",
    "landsat_ts_df['source'] = 'landsat'\n",
    "landsat_ts_df = landsat_ts_df.drop(columns=['intdate'])\n",
    "landsat_ts_df"
   ]
  },
  {
   "cell_type": "code",
   "execution_count": null,
   "id": "minute-harassment",
   "metadata": {},
   "outputs": [],
   "source": [
    "landsat_ts_df.dtypes"
   ]
  },
  {
   "cell_type": "code",
   "execution_count": null,
   "id": "curious-neighbor",
   "metadata": {},
   "outputs": [],
   "source": [
    "s2ts_4landsat_df = shore_grouped_all[['Date','pr_sum','source']]\n",
    "s2ts_4landsat_df['area_ha'] = s2ts_4landsat_df['pr_sum']  # / 100 # /10000\n",
    "s2ts_4landsat_df = s2ts_4landsat_df.drop(columns=['pr_sum'])\n",
    "s2ts_4landsat_df"
   ]
  },
  {
   "cell_type": "code",
   "execution_count": null,
   "id": "buried-equation",
   "metadata": {},
   "outputs": [],
   "source": [
    "# landsat_s2_ts_df = pd.concat([landsat_ts_df, s2ts_4landsat_df], axis=0).reset_index()\n",
    "landsat_s2_ts_df = pd.concat([landsat_ts_df, s2ts_4landsat_df.loc[s2ts_4landsat_df.source == 'toaV3']], axis=0).reset_index()"
   ]
  },
  {
   "cell_type": "code",
   "execution_count": null,
   "id": "super-interest",
   "metadata": {},
   "outputs": [],
   "source": [
    "landsat_s2_ts_df"
   ]
  },
  {
   "cell_type": "code",
   "execution_count": null,
   "id": "attended-focus",
   "metadata": {},
   "outputs": [],
   "source": [
    "sns.relplot(data=landsat_s2_ts_df, x=\"Date\", y=\"area_ha\", hue=\"source\", kind=\"line\", height=10, aspect=2)"
   ]
  },
  {
   "cell_type": "code",
   "execution_count": null,
   "id": "verbal-silly",
   "metadata": {},
   "outputs": [],
   "source": [
    "landsat_ts_df.set_index('Date')[['area_ha']].plot(figsize=(24, 12))"
   ]
  },
  {
   "cell_type": "markdown",
   "id": "global-stability",
   "metadata": {},
   "source": [
    "### Puerto Morelos Beach Segment Biomass Compared to Sargassum Pixel count for Segment 195"
   ]
  },
  {
   "cell_type": "code",
   "execution_count": null,
   "id": "promotional-reflection",
   "metadata": {},
   "outputs": [],
   "source": [
    "fig6_spreadsheet = '/Users/arbailey/natcap/idb/data/work/sargassum/groundtruth/Biomass_sargassum_Brigit.xlsx'\n",
    "fig6_df = pd.read_excel(fig6_spreadsheet, usecols=('Date','Biomass')) #, dtype={'Species': str})  \n",
    "fig6_df['source'] = 'field'\n",
    "\n",
    "fig6_df"
   ]
  },
  {
   "cell_type": "code",
   "execution_count": null,
   "id": "sublime-ridge",
   "metadata": {},
   "outputs": [],
   "source": [
    "fig6_df.set_index('Date')[['Biomass']].plot(figsize=(24, 12),xlim=(('2015-11-01','2020-01-01')))"
   ]
  },
  {
   "cell_type": "code",
   "execution_count": null,
   "id": "resident-hometown",
   "metadata": {},
   "outputs": [],
   "source": [
    "fig6_segment_df = shore_df_toaV3[shore_df_toaV3[\"seg_id\"] == 195]\n",
    "fig6_segment_df.set_index('Date')[['pr']].plot(figsize=(24, 12),xlim=(('2015-11-01','2020-01-01')))"
   ]
  },
  {
   "cell_type": "code",
   "execution_count": null,
   "id": "analyzed-advertising",
   "metadata": {},
   "outputs": [],
   "source": [
    "fig6_df.set_index('Date')[['Biomass']].plot(figsize=(24, 12),xlim=(('2015-11-01','2020-01-01')))"
   ]
  },
  {
   "cell_type": "code",
   "execution_count": null,
   "id": "dress-watson",
   "metadata": {},
   "outputs": [],
   "source": [
    "f, ax = plt.subplots(figsize=(20, 10))\n",
    "fig6_segment_df.set_index('Date')[['pr']].plot(ax=ax, xlim=(('2015-11-01','2020-01-01')))\n",
    "fig6_df.set_index('Date')[['Biomass']].plot(ax=ax, xlim=(('2015-11-01','2020-01-01')), secondary_y=True)\n",
    "ax.set_ylabel(\"Sargassum Pixels Detected\");\n",
    "ax.right_ax.set_ylabel(\"Biomass (kg/m2)\")"
   ]
  },
  {
   "cell_type": "code",
   "execution_count": null,
   "id": "banned-phase",
   "metadata": {},
   "outputs": [],
   "source": []
  }
 ],
 "metadata": {
  "kernelspec": {
   "display_name": "Python 3",
   "language": "python",
   "name": "python3"
  },
  "language_info": {
   "codemirror_mode": {
    "name": "ipython",
    "version": 3
   },
   "file_extension": ".py",
   "mimetype": "text/x-python",
   "name": "python",
   "nbconvert_exporter": "python",
   "pygments_lexer": "ipython3",
   "version": "3.8.10"
  }
 },
 "nbformat": 4,
 "nbformat_minor": 5
}
