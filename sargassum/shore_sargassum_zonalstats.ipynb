{
 "cells": [
  {
   "cell_type": "code",
   "execution_count": null,
   "id": "radio-group",
   "metadata": {},
   "outputs": [],
   "source": [
    "from rasterstats import zonal_stats  # https://pythonhosted.org/rasterstats/manual.html#zonal-statistics\n",
    "import os\n",
    "import glob\n",
    "import pandas as pd\n",
    "import geopandas as gpd\n",
    "import rasterio as rio"
   ]
  },
  {
   "cell_type": "code",
   "execution_count": null,
   "id": "subtle-spencer",
   "metadata": {},
   "outputs": [],
   "source": [
    "# Source Raster paths and shoreline buffer polygons\n",
    "raster_toa_path = '/Users/arbailey/Google Drive/My Drive/sargassum/s2toa_classified'\n",
    "raster_sr_path = '/Users/arbailey/Google Drive/My Drive/sargassum/s2sr_classified'\n",
    "shore_buffer_path = '/Users/arbailey/natcap/idb/data/work/sargassum/shore_segments'\n",
    "shore_buffer_file = 'shoreQR_segments_20210331_buffer100m.shp'\n",
    "shore_buffer = os.path.join(shore_buffer_path, shore_buffer_file)"
   ]
  },
  {
   "cell_type": "code",
   "execution_count": null,
   "id": "spectacular-prince",
   "metadata": {},
   "outputs": [],
   "source": [
    "#. Use Zonal stats to get count of each Land cover type (Sargassum present, absent, & no data)\n",
    "cmap = {1: 'pr', -1: 'nd', 0: 'ab', -9999: 'ab2'}  # convert numeric values to present/absent/no data 2-letter codes\n",
    "def sarg_segments(shore_polys, sarg_raster, affine=None):\n",
    "    zs = zonal_stats(shore_polys, sarg_raster,\n",
    "            stats=\"count\",\n",
    "            all_touched=True,\n",
    "            categorical=True, category_map=cmap,\n",
    "            geojson_out=True,\n",
    "            affine=affine)\n",
    "    return zs\n",
    "\n",
    "# Convert Zonal Stats GeoJSON result to Geodataframe for some field manipulations and joining\n",
    "def sargzs_gdf(zs_geojson, imgdate=None, imgtype=None):\n",
    "    zs_gdf = gpd.GeoDataFrame.from_features(zs_geojson)\n",
    "    zs_gdf.drop(columns=['geometry','fid', 'type_geomo','length_km', 'shore_desc', 'desc_abbre'], inplace=True, errors='ignore')\n",
    "    # Assign no data pixels to absent (because they are pre-masked as non-sargassum areas )\n",
    "    if 'ab2' in zs_gdf.columns:\n",
    "        zs_gdf['ab'] = zs_gdf['ab'] + zs_gdf['ab2']\n",
    "        zs_gdf.drop(columns=['ab2'], inplace=True, errors='ignore')\n",
    "    if imgdate:\n",
    "        zs_gdf['imgdate'] = imgdate\n",
    "    if imgtype:\n",
    "        zs_gdf.rename(columns={\"pr\": imgtype + \"_pr\", \n",
    "                           \"nd\": imgtype + \"_nd\", \n",
    "                           \"ab\": imgtype + \"_ab\",\n",
    "                           \"count\": imgtype + \"_cnt\"}, inplace=True)\n",
    "    return zs_gdf"
   ]
  },
  {
   "cell_type": "code",
   "execution_count": null,
   "id": "threaded-translator",
   "metadata": {},
   "outputs": [],
   "source": [
    "# Example using rasterio array, get different numbers from pulling from VRT directly?!\n",
    "# with rio.open(os.path.join(raster_toa_path, '20190626T160839_mosaic.vrt')) as src:\n",
    "#     affine = src.transform\n",
    "#     array = src.read(1)\n",
    "# # zs = zonal_stats(shore_buffer, array, affine=affine)\n",
    "# zs = sarg_segments(shore_buffer, array, affine)\n",
    "# print(affine)\n",
    "# zs[0]"
   ]
  },
  {
   "cell_type": "code",
   "execution_count": null,
   "id": "iraqi-burke",
   "metadata": {},
   "outputs": [],
   "source": [
    "# TOA -- Calculate Zonal Stats & create stacked DF\n",
    "\n",
    "# Get list of all mosaic rasters\n",
    "os.chdir(raster_toa_path)\n",
    "# toa_mosaics = [f for f in glob.glob('*_mosaic.vrt')] \n",
    "toa_mosaics = [f for f in glob.glob('*_mosaic_nd0.vrt')]\n",
    "toa_mosaics.sort()\n",
    "print(toa_mosaics)\n",
    "\n",
    "dfs = []\n",
    "print('Calculating TOA Sargassum and Nearshore Zonal Stats......')\n",
    "for mosaic in toa_mosaics:\n",
    "    image_date = mosaic[0:8]\n",
    "    toa_zs = sarg_segments(shore_buffer, mosaic)\n",
    "    toa_shore_df = sargzs_gdf(toa_zs,image_date,'toa')\n",
    "    dfs.append(toa_shore_df)\n",
    "toa_shore_df = pd.concat(dfs)\n",
    "toa_shore_df"
   ]
  },
  {
   "cell_type": "code",
   "execution_count": null,
   "id": "sweet-utility",
   "metadata": {},
   "outputs": [],
   "source": [
    "# SR -- Calculate Zonal Stats & create stacked DF\n",
    "\n",
    "# Get list of all mosaic rasters\n",
    "os.chdir(raster_sr_path)\n",
    "# sr_mosaics = [f for f in glob.glob('*_mosaic.vrt')]\n",
    "sr_mosaics = [f for f in glob.glob('*_mosaic_nd0.vrt')]\n",
    "sr_mosaics.sort()\n",
    "print(sr_mosaics)\n",
    "\n",
    "dfs = []\n",
    "print('Calculating SR Sargassum and Nearshore Zonal Stats......')\n",
    "for mosaic in sr_mosaics:\n",
    "    image_date = mosaic[0:8]\n",
    "    sr_zs = sarg_segments(shore_buffer, mosaic)\n",
    "    sr_shore_df = sargzs_gdf(sr_zs,image_date,'sr')\n",
    "    dfs.append(sr_shore_df)\n",
    "sr_shore_df = pd.concat(dfs)\n",
    "sr_shore_df\n"
   ]
  },
  {
   "cell_type": "code",
   "execution_count": null,
   "id": "clear-packet",
   "metadata": {},
   "outputs": [],
   "source": [
    "# DB-style inner join SR and TOA \n",
    "joined_shore_df = pd.merge(right=sr_shore_df, left=toa_shore_df, how='inner',on=['seg_id','imgdate'])  # uses fields in common by default\n",
    "joined_shore_df = joined_shore_df.fillna(0, )\n",
    "joined_shore_df"
   ]
  },
  {
   "cell_type": "code",
   "execution_count": null,
   "id": "vietnamese-wyoming",
   "metadata": {},
   "outputs": [],
   "source": [
    "joined_shore_df['pr_diff'] = joined_shore_df['toa_pr'] - joined_shore_df['sr_pr']\n",
    "joined_shore_df"
   ]
  },
  {
   "cell_type": "code",
   "execution_count": null,
   "id": "perfect-anthony",
   "metadata": {},
   "outputs": [],
   "source": [
    "joined_shore_df['pr_diff'].plot.hist(bins=100, figsize=(20,12))"
   ]
  },
  {
   "cell_type": "code",
   "execution_count": null,
   "id": "unusual-avatar",
   "metadata": {},
   "outputs": [],
   "source": [
    "import seaborn as sns\n",
    "import matplotlib as mpl\n",
    "import matplotlib.pyplot as plt\n",
    "sns.set_theme(style=\"ticks\")\n",
    "sns.set_theme(style=\"darkgrid\")\n",
    "\n",
    "f, ax = plt.subplots(figsize=(20, 12))\n",
    "sns.despine(f)\n",
    "\n",
    "sns.histplot(\n",
    "    joined_shore_df,\n",
    "    x=\"pr_diff\",\n",
    ")"
   ]
  },
  {
   "cell_type": "code",
   "execution_count": null,
   "id": "liked-context",
   "metadata": {},
   "outputs": [],
   "source": [
    "f, ax = plt.subplots(figsize=(20, 12))\n",
    "sns.set_theme(style=\"darkgrid\")\n",
    "ax.set_xticks([-300, -200, -100,0, 100, 200, 300, 400, 500, 600, 700, 800, 900, 1000, 1100, 1200])\n",
    "ax.set_yticks([0.0, 0.1, 0.2, 0.3, 0.4, 0.5, 0.6, 0.7, 0.8, 0.9, 1.0])\n",
    "ax.set_ylabel('Cumulative Percent')\n",
    "sns.histplot(\n",
    "    joined_shore_df,\n",
    "    x=\"pr_diff\",\n",
    "    cumulative = True,\n",
    "    stat = 'probability',\n",
    ")"
   ]
  },
  {
   "cell_type": "code",
   "execution_count": null,
   "id": "animated-shame",
   "metadata": {},
   "outputs": [],
   "source": [
    "#### Output\n",
    "output_path = '/Users/arbailey/natcap/idb/data/work/sargassum/ip'\n",
    "output_csv = os.path.join(output_path, 'shore100m_sargassum_stats.csv')\n",
    "print('output dataframe to ' + output_csv)\n",
    "joined_shore_df.to_csv(path_or_buf=output_csv, index=False)"
   ]
  },
  {
   "cell_type": "code",
   "execution_count": null,
   "id": "earlier-relay",
   "metadata": {},
   "outputs": [],
   "source": []
  }
 ],
 "metadata": {
  "kernelspec": {
   "display_name": "Python 3",
   "language": "python",
   "name": "python3"
  },
  "language_info": {
   "codemirror_mode": {
    "name": "ipython",
    "version": 3
   },
   "file_extension": ".py",
   "mimetype": "text/x-python",
   "name": "python",
   "nbconvert_exporter": "python",
   "pygments_lexer": "ipython3",
   "version": "3.8.8"
  }
 },
 "nbformat": 4,
 "nbformat_minor": 5
}
