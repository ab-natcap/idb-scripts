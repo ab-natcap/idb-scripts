{
 "cells": [
  {
   "cell_type": "code",
   "execution_count": null,
   "id": "d0fb89ce-afd4-414a-949e-fde7083c0921",
   "metadata": {},
   "outputs": [],
   "source": [
    "import os\n",
    "import glob\n",
    "import pandas as pd\n",
    "import matplotlib.pyplot as plt\n",
    "import matplotlib.dates as mdates\n",
    "import seaborn as sns\n",
    "sns.set_theme()\n",
    "import plotly.express as px\n"
   ]
  },
  {
   "cell_type": "code",
   "execution_count": null,
   "id": "ff419da5-3b60-400f-8c18-b9031cf80404",
   "metadata": {},
   "outputs": [],
   "source": [
    "# Directory and data locations\n",
    "analysis_dir = '/Users/arbailey/Google Drive/My Drive/sargassum/paper2022/data/work/analysis'\n",
    "overlapping_buffer_file = 'overlap_buffers_s2_ls_2016_2019.csv'\n",
    "ovlp_file_path = os.path.join(analysis_dir, overlapping_buffer_file)"
   ]
  },
  {
   "cell_type": "code",
   "execution_count": null,
   "id": "ace105bc-dd71-4ef1-b030-237d080827a1",
   "metadata": {},
   "outputs": [],
   "source": [
    "# Import file to data frame\n",
    "ovlp_df = pd.read_csv(ovlp_file_path)\n",
    "ovlp_df"
   ]
  },
  {
   "cell_type": "code",
   "execution_count": null,
   "id": "6631b16a-2187-42b3-8058-990e0f723000",
   "metadata": {},
   "outputs": [],
   "source": [
    "# Seaborn Regression Plot with \n",
    "sns.lmplot(x='s2area_m2', y='lsarac2k', data=ovlp_df, height=6)\n",
    "sns.lmplot(x='s2rcr', y='lsrcr2k', data=ovlp_df, height=6)"
   ]
  },
  {
   "cell_type": "code",
   "execution_count": null,
   "id": "0af77b50-565c-4daa-91ed-35544106a9a5",
   "metadata": {},
   "outputs": [],
   "source": [
    "# Plotly Regression by Area and Recurrence at different buffer distances\n",
    "fig = px.scatter(ovlp_df, x='s2rcr', y='lsrcr2k', color=\"region\", trendline=\"ols\", \n",
    "                title='Recurrence - Nearshore vs. 2 km buffer',\n",
    "                width=600, height=600,\n",
    "                labels={\"s2rcr\": \"Nearshore Recurrence\",  \"lsrcr2k\": \"Offshore Recurrence\"})\n",
    "fig.show()\n",
    "results = px.get_trendline_results(fig)\n",
    "print(results)\n",
    "print(results.px_fit_results.iloc[0].summary())  # Mainland\n",
    "print(results.px_fit_results.iloc[1].summary()) # Cozumel"
   ]
  },
  {
   "cell_type": "code",
   "execution_count": null,
   "id": "f896693d-20ab-4325-a223-1d001e0c3ee2",
   "metadata": {},
   "outputs": [],
   "source": [
    "fig = px.scatter(ovlp_df, x='s2area_m2', y='lsarac2k', color=\"region\", trendline=\"ols\",\n",
    "                title='Area - Nearshore vs. 2 km buffer',\n",
    "                width=600, height=600,\n",
    "                labels={\"s2area_m2\": \"Nearshore Area (sq m)\",  \"lsarac2k\": \"Offshore Area (ac)\"})\n",
    "fig.show()\n",
    "results = px.get_trendline_results(fig)\n",
    "print(results)\n",
    "print(results.px_fit_results.iloc[0].summary())  # Mainland\n",
    "print(results.px_fit_results.iloc[1].summary()) # Cozumel"
   ]
  },
  {
   "cell_type": "code",
   "execution_count": null,
   "id": "6967d61a-e183-4682-a43d-38ae70934891",
   "metadata": {},
   "outputs": [],
   "source": [
    "fig = px.scatter(ovlp_df, x='s2rcr', y='lsrcr5k', color=\"region\", trendline=\"ols\",\n",
    "                title='Recurrence - Nearshore vs. 5 km buffer',\n",
    "                width=600, height=600,\n",
    "                labels={\"s2rcr\": \"Nearshore Recurrence\",  \"lsrcr5k\": \"Offshore Recurrence\"})\n",
    "\n",
    "fig.show()\n",
    "results = px.get_trendline_results(fig)\n",
    "print(results)\n",
    "print(results.px_fit_results.iloc[0].summary())  # Mainland\n",
    "print(results.px_fit_results.iloc[1].summary()) # Cozumel"
   ]
  },
  {
   "cell_type": "code",
   "execution_count": null,
   "id": "b3ccc1d0-845f-46b0-9766-8a6ae4825567",
   "metadata": {},
   "outputs": [],
   "source": [
    "fig = px.scatter(ovlp_df, x='s2area_m2', y='lsarac5k', color=\"region\", trendline=\"ols\",\n",
    "                title='Area - Nearshore vs. 5 km buffer',\n",
    "                width=600, height=600,\n",
    "                labels={\"s2area_m2\": \"Nearshore Area (sq m)\",  \"lsarac5k\": \"Offshore Area (ac)\"})\n",
    "fig.show()\n",
    "results = px.get_trendline_results(fig)\n",
    "print(results)\n",
    "print(results.px_fit_results.iloc[0].summary())  # Mainland\n",
    "print(results.px_fit_results.iloc[1].summary()) # Cozumel"
   ]
  },
  {
   "cell_type": "code",
   "execution_count": null,
   "id": "d1afdaa9-423b-4fa5-88d6-a0621085a0d1",
   "metadata": {},
   "outputs": [],
   "source": [
    "fig = px.scatter(ovlp_df, x='s2rcr', y='lsrcr10k', color=\"region\", trendline=\"ols\",\n",
    "                title='Recurrence - Nearshore vs. 10 km buffer',\n",
    "                width=600, height=600,\n",
    "                labels={\"s2rcr\": \"Nearshore Recurrence\",  \"lsrcr10k\": \"Offshore Recurrence\"})\n",
    "fig.show()\n",
    "results = px.get_trendline_results(fig)\n",
    "print(results)\n",
    "print(results.px_fit_results.iloc[0].summary())  # Mainland\n",
    "print(results.px_fit_results.iloc[1].summary()) # Cozumel"
   ]
  },
  {
   "cell_type": "code",
   "execution_count": null,
   "id": "ebfb043c-b300-4a73-8c88-e05d33fffe51",
   "metadata": {},
   "outputs": [],
   "source": [
    "fig = px.scatter(ovlp_df, x='s2area_m2', y='lsarac10k', color=\"region\", trendline=\"ols\",\n",
    "                title='Area - Nearshore vs. 10 km buffer',\n",
    "                width=600, height=600,\n",
    "                labels={\"s2area_m2\": \"Nearshore Area (sq m)\",  \"lsarac10k\": \"Offshore Area (ac)\"})\n",
    "fig.show()\n",
    "results = px.get_trendline_results(fig)\n",
    "print(results)\n",
    "print(results.px_fit_results.iloc[0].summary())  # Mainland\n",
    "print(results.px_fit_results.iloc[1].summary()) # Cozumel"
   ]
  },
  {
   "cell_type": "code",
   "execution_count": null,
   "id": "7886e6ba-3bb2-4203-bf9d-7dabc55d0c51",
   "metadata": {},
   "outputs": [],
   "source": []
  }
 ],
 "metadata": {
  "kernelspec": {
   "display_name": "Python 3 (ipykernel)",
   "language": "python",
   "name": "python3"
  },
  "language_info": {
   "codemirror_mode": {
    "name": "ipython",
    "version": 3
   },
   "file_extension": ".py",
   "mimetype": "text/x-python",
   "name": "python",
   "nbconvert_exporter": "python",
   "pygments_lexer": "ipython3",
   "version": "3.8.10"
  }
 },
 "nbformat": 4,
 "nbformat_minor": 5
}
