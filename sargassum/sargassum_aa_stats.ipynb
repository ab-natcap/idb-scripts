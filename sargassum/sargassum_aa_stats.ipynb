{
 "cells": [
  {
   "cell_type": "markdown",
   "metadata": {},
   "source": [
    "# Accuracy Assessment Stats and Confusion Matrices for Sargassum Classification"
   ]
  },
  {
   "cell_type": "code",
   "execution_count": null,
   "metadata": {},
   "outputs": [],
   "source": [
    "import os\n",
    "import pandas as pd\n",
    "import geopandas as gpd\n",
    "import numpy as np\n",
    "from sklearn.metrics import confusion_matrix\n",
    "from sklearn.metrics import classification_report\n",
    "from sklearn.metrics import accuracy_score"
   ]
  },
  {
   "cell_type": "markdown",
   "metadata": {},
   "source": [
    "## Load the AA shapefiles into GeodataFrame"
   ]
  },
  {
   "cell_type": "code",
   "execution_count": null,
   "metadata": {},
   "outputs": [],
   "source": [
    "# Get individual date accuracy assessment shapefiles\n",
    "source_dir = r'/Users/arbailey/Google Drive/My Drive/sargassum/aa'\n",
    "\n",
    "# # Merge Individual files here\n",
    "# files = [file for file in os.listdir(source_dir) if file.endswith('validated.shp') and file.startswith('aaPoints')]\n",
    "# files.sort()\n",
    "# print(files)\n",
    "# # Append all AA shapefiles into one GeoDataFrame\n",
    "# for file in files:\n",
    "#     temp_gdf = gpd.read_file(os.path.join(source_dir,file))\n",
    "#     if files.index(file) == 0:\n",
    "#         sargassum_aa_gdf = temp_gdf.copy()\n",
    "#     else:\n",
    "#         sargassum_aa_gdf = sargassum_aa_gdf.append(temp_gdf)\n",
    "        \n",
    "# Use already existing files merged across all dates\n",
    "file = 'aaPoints_validated_2019.shp'\n",
    "sargassum_aa_gdf = gpd.read_file(os.path.join(source_dir,file))\n",
    "\n",
    "        \n",
    "sargassum_aa_gdf = sargassum_aa_gdf.dropna()  # remove rows w/null\n",
    "print(sargassum_aa_gdf.describe())\n",
    "sargassum_aa_gdf = sargassum_aa_gdf.astype({\"validclass\": int, \"validpa\": int})\n",
    "sargassum_aa_gdf\n"
   ]
  },
  {
   "cell_type": "code",
   "execution_count": null,
   "metadata": {},
   "outputs": [],
   "source": [
    "# Original Patches\n",
    "orig_patch_file = 'aaPatches_2019.shp'\n",
    "orig_patch_gdf = gpd.read_file(os.path.join(source_dir,orig_patch_file))\n",
    "# Updated training sites\n",
    "# SR\n",
    "sr_patch_file = 'aaPatches_2019sr.shp'\n",
    "toa_patch_file = 'aaPatches_2019toa.shp'\n",
    "sr_patch_gdf = gpd.read_file(os.path.join(source_dir,sr_patch_file))\n",
    "toa_patch_gdf = gpd.read_file(os.path.join(source_dir,toa_patch_file))\n",
    "print(orig_patch_gdf.head())\n",
    "print(sr_patch_gdf.head())\n",
    "print(toa_patch_gdf.head())"
   ]
  },
  {
   "cell_type": "code",
   "execution_count": null,
   "metadata": {},
   "outputs": [],
   "source": [
    "# Join these data to validated AA points\n",
    "combined_aa_df = pd.merge(sargassum_aa_gdf, orig_patch_gdf.drop(columns=['geometry']), on=\"aa_id\", how=\"left\")\n",
    "combined_aa_df = pd.merge(combined_aa_df, sr_patch_gdf.drop(columns=['geometry']), on=\"aa_id\", how=\"left\")\n",
    "combined_aa_df = pd.merge(combined_aa_df, toa_patch_gdf.drop(columns=['geometry']), on=\"aa_id\", how=\"left\")\n",
    "combined_aa_df = combined_aa_df.fillna(0)\n",
    "# print(combined_aa_df.dtypes)\n",
    "combined_aa_df = combined_aa_df.astype({\"patch\": 'int64', \"sr_sarg\": 'int64', \"sr_patch\": 'int64', \"toa_patch\": 'int64', \"toa_sarg\": 'int64'})\n",
    "# print(combined_aa_df.dtypes)\n",
    "combined_aa_df"
   ]
  },
  {
   "cell_type": "code",
   "execution_count": null,
   "metadata": {},
   "outputs": [],
   "source": [
    "# Join these data to validated AA points\n",
    "sargassum_aa_gdf = pd.merge(sargassum_aa_gdf, orig_patch_gdf.drop(columns=['geometry']), on=\"aa_id\", how=\"left\")\n",
    "sargassum_aa_gdf = pd.merge(sargassum_aa_gdf, sr_patch_gdf.drop(columns=['geometry']), on=\"aa_id\", how=\"left\")\n",
    "sargassum_aa_gdf = pd.merge(sargassum_aa_gdf, toa_patch_gdf.drop(columns=['geometry']), on=\"aa_id\", how=\"left\")\n",
    "sargassum_aa_gdf = sargassum_aa_gdf.fillna(0)\n",
    "# print(combined_aa_df.dtypes)\n",
    "sargassum_aa_gdf = sargassum_aa_gdf.astype({\"patch\": 'int64', \"sr_sarg\": 'int64', \"sr_patch\": 'int64', \"toa_patch\": 'int64', \"toa_sarg\": 'int64'})\n",
    "# print(combined_aa_df.dtypes)\n",
    "sargassum_aa_gdf"
   ]
  },
  {
   "cell_type": "markdown",
   "metadata": {},
   "source": [
    "## Error Matrices and Accuracy Stats"
   ]
  },
  {
   "cell_type": "markdown",
   "metadata": {},
   "source": [
    "### All Dates Together"
   ]
  },
  {
   "cell_type": "code",
   "execution_count": null,
   "metadata": {},
   "outputs": [],
   "source": [
    "def accuracy_report(df, groundtruth, predicted):\n",
    "    print(confusion_matrix(df[groundtruth], df[predicted]))\n",
    "    print(classification_report(df[groundtruth], df[predicted], labels=[0, 1]))\n",
    "    print(accuracy_score(df[groundtruth], df[predicted]))"
   ]
  },
  {
   "cell_type": "code",
   "execution_count": null,
   "metadata": {},
   "outputs": [],
   "source": [
    "print('<------ All Dates - Original Training Sites ------>')\n",
    "accuracy_report(sargassum_aa_gdf,'validpa','sargassum')\n",
    "print('\\n<------ All Dates - New Training Sites - SR ------>')\n",
    "accuracy_report(sargassum_aa_gdf,'validpa','sr_sarg')\n",
    "print('\\n<------ All Dates - Original Training Sites - TOA ------>')\n",
    "accuracy_report(sargassum_aa_gdf,'validpa','toa_sarg')"
   ]
  },
  {
   "cell_type": "markdown",
   "metadata": {},
   "source": [
    "### Individual Dates"
   ]
  },
  {
   "cell_type": "code",
   "execution_count": null,
   "metadata": {},
   "outputs": [],
   "source": [
    "image_dates = sargassum_aa_gdf['imagedate'].unique()\n",
    "# print(image_dates)\n",
    "\n",
    "print('<------ Individual Dates - Original Training Sites ------>')\n",
    "for date2test in image_dates:\n",
    "    sargassum_aa_subset_gdf = sargassum_aa_gdf[sargassum_aa_gdf['imagedate']== date2test]\n",
    "    print('\\nDate: ' + date2test)\n",
    "    accuracy_report(sargassum_aa_subset_gdf,'validpa','sargassum')"
   ]
  },
  {
   "cell_type": "code",
   "execution_count": null,
   "metadata": {},
   "outputs": [],
   "source": [
    "print('<------ Individual Dates - New Training Sites - SR ------>')\n",
    "for date2test in image_dates:\n",
    "    sargassum_aa_subset_gdf = sargassum_aa_gdf[sargassum_aa_gdf['imagedate']== date2test]\n",
    "    print('\\nDate: ' + date2test)\n",
    "    accuracy_report(sargassum_aa_subset_gdf,'validpa','sr_sarg')"
   ]
  },
  {
   "cell_type": "code",
   "execution_count": null,
   "metadata": {},
   "outputs": [],
   "source": [
    "print('<------ Individual Dates - Original Training Sites - TOA ------>')\n",
    "for date2test in image_dates:\n",
    "    sargassum_aa_subset_gdf = sargassum_aa_gdf[sargassum_aa_gdf['imagedate']== date2test]\n",
    "    print('\\nDate: ' + date2test)\n",
    "    accuracy_report(sargassum_aa_subset_gdf,'validpa','toa_sarg')"
   ]
  },
  {
   "cell_type": "code",
   "execution_count": null,
   "metadata": {},
   "outputs": [],
   "source": [
    "sargassum_aa_gdf.groupby(['sargassum','validclass','classdesc','validpa']).count()\n",
    "# .agg(['count'])"
   ]
  },
  {
   "cell_type": "code",
   "execution_count": null,
   "metadata": {},
   "outputs": [],
   "source": [
    "sargassum_aa_gdf.groupby(['sr_sarg','validclass','classdesc','validpa']).count()\n"
   ]
  },
  {
   "cell_type": "code",
   "execution_count": null,
   "metadata": {},
   "outputs": [],
   "source": [
    "sargassum_aa_gdf.groupby(['toa_sarg','validclass','classdesc','validpa']).count()"
   ]
  },
  {
   "cell_type": "code",
   "execution_count": null,
   "metadata": {},
   "outputs": [],
   "source": [
    "# df = df[['STNAME','CTYNAME']].groupby(['STNAME'])['CTYNAME'] \\\n",
    "#                              .count() \\\n",
    "#                              .reset_index(name='count') \\\n",
    "#                              .sort_values(['count'], ascending=False) \\\n",
    "#                              .head(5)\n",
    "\n",
    "def patch_summary(df, sarg, patch_id, cutoff=10):\n",
    "    print(df.groupby(sarg).size())\n",
    "    patchcount = df[patch_id].unique().size\n",
    "    print('Patch Count: ' + str(patchcount))\n",
    "    print(df.groupby(patch_id).size().nlargest(cutoff))"
   ]
  },
  {
   "cell_type": "code",
   "execution_count": null,
   "metadata": {},
   "outputs": [],
   "source": [
    "print('Sargassum Patches - Original Training Sites - SR')\n",
    "patch_summary(sargassum_aa_gdf, 'sargassum', 'patch', 25)"
   ]
  },
  {
   "cell_type": "code",
   "execution_count": null,
   "metadata": {},
   "outputs": [],
   "source": [
    "print('Sargassum Patches - New Training Sites - SR')\n",
    "patch_summary(sargassum_aa_gdf, 'sr_sarg', 'sr_patch')"
   ]
  },
  {
   "cell_type": "code",
   "execution_count": null,
   "metadata": {},
   "outputs": [],
   "source": [
    "print('Sargassum Patches - Original Training Sites - TOA')\n",
    "patch_summary(sargassum_aa_gdf, 'toa_sarg', 'toa_patch')"
   ]
  },
  {
   "cell_type": "code",
   "execution_count": null,
   "metadata": {},
   "outputs": [],
   "source": [
    "print('<------ Individual Dates - Original Training Sites - SR ------>')\n",
    "for date2test in image_dates:\n",
    "    sargassum_aa_subset_gdf = sargassum_aa_gdf[sargassum_aa_gdf['imagedate']== date2test]\n",
    "    print('\\nDate: ' + date2test)\n",
    "    patch_summary(sargassum_aa_subset_gdf,'sargassum','patch')"
   ]
  },
  {
   "cell_type": "code",
   "execution_count": null,
   "metadata": {},
   "outputs": [],
   "source": [
    "print('<------ Individual Dates - New Training Sites - SR ------>')\n",
    "for date2test in image_dates:\n",
    "    sargassum_aa_subset_gdf = sargassum_aa_gdf[sargassum_aa_gdf['imagedate']== date2test]\n",
    "    print('\\nDate: ' + date2test)\n",
    "    patch_summary(sargassum_aa_subset_gdf,'sr_sarg','sr_patch')"
   ]
  },
  {
   "cell_type": "code",
   "execution_count": null,
   "metadata": {},
   "outputs": [],
   "source": [
    "print('<------ Individual Dates - Original Training Sites - TOA ------>')\n",
    "for date2test in image_dates:\n",
    "    sargassum_aa_subset_gdf = sargassum_aa_gdf[sargassum_aa_gdf['imagedate']== date2test]\n",
    "    print('\\nDate: ' + date2test)\n",
    "    patch_summary(sargassum_aa_subset_gdf,'toa_sarg','toa_patch')"
   ]
  },
  {
   "cell_type": "code",
   "execution_count": null,
   "metadata": {},
   "outputs": [],
   "source": [
    "sargassum_aa_gdf"
   ]
  },
  {
   "cell_type": "code",
   "execution_count": null,
   "metadata": {},
   "outputs": [],
   "source": [
    "def by_patch(gdf,patch,date,predicted,groundtruth):\n",
    "    absent_gdf = gdf[gdf[patch] == 0][[patch,date,predicted,groundtruth]]\n",
    "    present_gdf = gdf[gdf[patch] > 0].groupby([patch,date], as_index=False)[predicted,groundtruth].first()\n",
    "    polygons_gdf = pd.concat([absent_gdf, present_gdf], axis=0) \n",
    "    return polygons_gdf\n",
    "\n",
    "# Original Training sites, by polygon\n",
    "sargassum_aa_polygons_gdf = by_patch(sargassum_aa_gdf, 'patch','imagedate','sargassum','validpa')\n",
    "print(sargassum_aa_polygons_gdf)\n",
    "accuracy_report(sargassum_aa_polygons_gdf,'validpa','sargassum')"
   ]
  },
  {
   "cell_type": "code",
   "execution_count": null,
   "metadata": {},
   "outputs": [],
   "source": [
    "print('<------ Individual Dates - Original Training Sites -- Polygon AA ------>')\n",
    "for date2test in image_dates:\n",
    "    sargassum_aa_polygons_subset_gdf = sargassum_aa_polygons_gdf[sargassum_aa_polygons_gdf['imagedate']== date2test]\n",
    "    print('\\nDate: ' + date2test)\n",
    "    accuracy_report(sargassum_aa_polygons_subset_gdf,'validpa','sargassum')"
   ]
  },
  {
   "cell_type": "code",
   "execution_count": null,
   "metadata": {},
   "outputs": [],
   "source": [
    "# Original Training sites TOA, by polygon\n",
    "sargassum_aa_polygons_gdf = by_patch(sargassum_aa_gdf, 'toa_patch','imagedate','toa_sarg','validpa')\n",
    "print(sargassum_aa_polygons_gdf)\n",
    "accuracy_report(sargassum_aa_polygons_gdf,'validpa','toa_sarg')"
   ]
  },
  {
   "cell_type": "code",
   "execution_count": null,
   "metadata": {},
   "outputs": [],
   "source": [
    "print('<------ Individual Dates - Original Training Sites TOA -- Polygon AA ------>')\n",
    "for date2test in image_dates:\n",
    "    sargassum_aa_polygons_subset_gdf = sargassum_aa_polygons_gdf[sargassum_aa_polygons_gdf['imagedate']== date2test]\n",
    "    print('\\nDate: ' + date2test)\n",
    "    accuracy_report(sargassum_aa_polygons_subset_gdf,'validpa','toa_sarg')"
   ]
  },
  {
   "cell_type": "code",
   "execution_count": null,
   "metadata": {},
   "outputs": [],
   "source": []
  }
 ],
 "metadata": {
  "kernelspec": {
   "display_name": "Python 3",
   "language": "python",
   "name": "python3"
  },
  "language_info": {
   "codemirror_mode": {
    "name": "ipython",
    "version": 3
   },
   "file_extension": ".py",
   "mimetype": "text/x-python",
   "name": "python",
   "nbconvert_exporter": "python",
   "pygments_lexer": "ipython3",
   "version": "3.8.8"
  }
 },
 "nbformat": 4,
 "nbformat_minor": 4
}
