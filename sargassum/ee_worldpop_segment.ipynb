{
 "cells": [
  {
   "cell_type": "markdown",
   "id": "dd42f066-7fef-4aa3-92c2-dc6d9e2cbc33",
   "metadata": {},
   "source": [
    "## Sum WorldPop Population by Sargassum Analysis Segment"
   ]
  },
  {
   "cell_type": "code",
   "execution_count": null,
   "id": "4d19b540-d5c8-4531-bffd-8d1f3c6ee0d5",
   "metadata": {},
   "outputs": [],
   "source": [
    "# Import GEE & initialize\n",
    "import os\n",
    "import ee\n",
    "import geemap\n",
    "from pprint import pprint\n",
    "# Initialize GEE\n",
    "try:\n",
    "    ee.Initialize()\n",
    "except Exception as e:\n",
    "    ee.Authenticate()\n",
    "    ee.Initialize()\n",
    "import numpy as np\n",
    "import pandas as pd"
   ]
  },
  {
   "cell_type": "markdown",
   "id": "8d73951d-0d6f-4da3-802c-5b7aee75e535",
   "metadata": {},
   "source": [
    "## Add / Import Data sets"
   ]
  },
  {
   "cell_type": "markdown",
   "id": "c79a7337-ebdd-404a-a323-1a35e2ace54d",
   "metadata": {},
   "source": [
    "### Shoreline Segments"
   ]
  },
  {
   "cell_type": "code",
   "execution_count": null,
   "id": "97b9a9b0-661f-4489-97ab-fe18e31708c7",
   "metadata": {},
   "outputs": [],
   "source": [
    "# Shoreline Segments\n",
    "shore_segments = ee.FeatureCollection('users/allison_bailey/sargassum/shoreQR_segments_20210331')\n",
    "print(shore_segments.size().getInfo())"
   ]
  },
  {
   "cell_type": "markdown",
   "id": "6ca4b13d-6765-4ab8-9171-638bb9d4e32a",
   "metadata": {},
   "source": [
    "### WorldPop 2015-2020"
   ]
  },
  {
   "cell_type": "code",
   "execution_count": null,
   "id": "4faca5c9-cbe5-4d8e-a377-de62dff582d2",
   "metadata": {},
   "outputs": [],
   "source": [
    "# WorldPop -- Mexico, 2015-2020\n",
    "worldpop_coll = ee.ImageCollection('WorldPop/GP/100m/pop')\\\n",
    "        .filter(ee.Filter.inList('country',ee.List(['MEX'])))\\\n",
    "        .filterDate('2015-01-01', '2020-12-31') \n",
    "# print(worldpop.first().propertyNames().getInfo())\n",
    "# print(worldpop.first().getInfo())"
   ]
  },
  {
   "cell_type": "code",
   "execution_count": null,
   "id": "a96e3210-2a92-4677-b2ec-46e9df8c6690",
   "metadata": {},
   "outputs": [],
   "source": [
    "worldpop_stack = worldpop_coll.toBands()\n",
    "# pprint(worldpop_stack.getInfo())"
   ]
  },
  {
   "cell_type": "markdown",
   "id": "f050f45f-5c33-4c10-8892-b8b3406a4f39",
   "metadata": {
    "tags": []
   },
   "source": [
    "### Agreggating tips https://spatialthoughts.com/2021/05/13/aggregating-population-data-gee/"
   ]
  },
  {
   "cell_type": "code",
   "execution_count": null,
   "id": "5ea3e3ec-91c3-477d-8956-a6ad34d86cd5",
   "metadata": {},
   "outputs": [],
   "source": [
    "# At 100 meters resolution, there are a lot of areas where the segments do not intersect the population data\n",
    "# So, Aggregate Population raster to 500m \n",
    "\n",
    "# Get the projection at required scale\n",
    "wpproj = ee.Image(worldpop_coll.first()).projection()\n",
    "projectionAt500m = ee.Image(worldpop_coll.first()).projection().atScale(500)\n",
    "print(wpproj.getInfo())\n",
    "print(projectionAt500m.crs().getInfo())\n",
    "\n",
    "worldpop_500m = worldpop_stack.reduceResolution(**{\n",
    "    'reducer': ee.Reducer.sum().unweighted(),\n",
    "    'maxPixels': 1024\n",
    "  }).reproject(**{\n",
    "    'crs': projectionAt500m,\n",
    "  })\n",
    "print(worldpop_500m.projection().getInfo())"
   ]
  },
  {
   "cell_type": "markdown",
   "id": "ff8c3026-3c47-47d3-a032-c41a36733acf",
   "metadata": {},
   "source": [
    "## Summarize Population by Segment"
   ]
  },
  {
   "cell_type": "code",
   "execution_count": null,
   "id": "07235a11-5413-437b-bfdb-7196947a028d",
   "metadata": {},
   "outputs": [],
   "source": [
    "# Sum the annual worldpop pixels for each segment -- 100 m (source data native resolution)\n",
    "segment_wpsum_100m = worldpop_stack.reduceRegions(**{\n",
    "  'collection': shore_segments,\n",
    "  'reducer': ee.Reducer.sum(),\n",
    "  'scale': 100,\n",
    "})\n",
    "\n",
    "segment_wpsum_500m = worldpop_500m.reduceRegions(**{\n",
    "  'collection': shore_segments,\n",
    "  'reducer': ee.Reducer.sum(),\n",
    "  'scale': 500,\n",
    "})\n",
    "# Print the first feature, to illustrate the result.\n",
    "# pprint(segment_wpsum_100m.first().getInfo())\n",
    "# pprint(segment_wpsum_500m.first().getInfo())"
   ]
  },
  {
   "cell_type": "markdown",
   "id": "e7d9eeaa-359f-4054-9a71-a527cdcb1e14",
   "metadata": {},
   "source": [
    "## Visualization"
   ]
  },
  {
   "cell_type": "code",
   "execution_count": null,
   "id": "5d4505a1-d7e3-4ea1-9498-f1400db8d931",
   "metadata": {},
   "outputs": [],
   "source": [
    "# Map = geemap.Map(center=[20,-87], zoom=8)  # Center on Quintana Roo\n",
    "Map = geemap.Map(center=[21.1,-86.8], zoom=12)  #   Zoomed in \n",
    "\n",
    "# Basemap\n",
    "# Map.add_basemap('Esri Ocean')\n",
    "\n",
    "#WorldPop Raster\n",
    "visualization = {\n",
    "  'bands': ['population'],\n",
    "  'min': 0.0,\n",
    "  'max': 50.0,\n",
    "  'palette': ['24126c', '1fff4f', 'd4ff50']\n",
    "};\n",
    "Map.addLayer(worldpop_coll, visualization, 'Population Collection');\n",
    "Map.addLayer(worldpop_stack, {}, 'Population Image',False);\n",
    "Map.addLayer(worldpop_500m, {}, '500m Population Image',False);\n",
    "\n",
    "\n",
    "# Shoreline Segment vectors\n",
    "Map.addLayer(segment_wpsum_100m, {}, 'Shoreline Segments', False)\n",
    "\n",
    "# Display outline of Nearshore Mask\n",
    "# Create an empty image into which to paint the features, cast to byte.\n",
    "empty = ee.Image().byte();\n",
    "# Paint all the polygon edges with the same number and width, display.\n",
    "segments_image = empty.paint(**{\n",
    "  'featureCollection': segment_wpsum_100m,\n",
    "  'color': 1,\n",
    "  'width': 1.5\n",
    "});\n",
    "Map.addLayer(segments_image,  {'palette':'orange'}, 'Shoreline Segments Img', True); # orange\n",
    "\n",
    "Map"
   ]
  },
  {
   "cell_type": "markdown",
   "id": "ffca0e94-f4c4-483d-857b-fca954bb4e9c",
   "metadata": {},
   "source": [
    "## Exporting"
   ]
  },
  {
   "cell_type": "code",
   "execution_count": null,
   "id": "660e2ba5-826b-475d-ad07-c7c90592d80e",
   "metadata": {},
   "outputs": [],
   "source": [
    "# Pull out essential properties to create final table\n",
    "# This function creates a new feature with null geometry, since we don't need location\n",
    "def outTable(feature):\n",
    "    outfeature = ee.Feature(None, { \n",
    "    'seg_id' : feature.get('seg_id'),\n",
    "    'pop_sum2015': feature.get('MEX_2015_population'),\n",
    "    'pop_sum2016': feature.get('MEX_2016_population'),\n",
    "    'pop_sum2017': feature.get('MEX_2017_population'),\n",
    "    'pop_sum2018': feature.get('MEX_2018_population'),\n",
    "    'pop_sum2019': feature.get('MEX_2019_population'),\n",
    "    'pop_sum2020': feature.get('MEX_2020_population'),\n",
    "    })\n",
    "    return outfeature\n",
    "\n",
    "# Create Final table with key properties for export\n",
    "segment_wpsum_500m_output = segment_wpsum_500m.map(outTable)\n",
    "print(segment_wpsum_500m_output.first().getInfo())"
   ]
  },
  {
   "cell_type": "code",
   "execution_count": null,
   "id": "31e6041e-8aa7-4d97-98c0-029e46e99e58",
   "metadata": {},
   "outputs": [],
   "source": [
    "#  Convert GEE ouptut feature class (with null geometry) to Pandas data frame\n",
    "pop_columns = ['seg_id','pop_sum2015', 'pop_sum2016', 'pop_sum2017', 'pop_sum2018', 'pop_sum2019', 'pop_sum2020']\n",
    "def fc_to_df(fc, outcols):\n",
    "    listlen = len(outcols)\n",
    "    nested_list = fc.reduceColumns(ee.Reducer.toList(len(outcols)), outcols).values().get(0)\n",
    "    df = pd.DataFrame(nested_list.getInfo(), columns=outcols)\n",
    "    return df\n",
    "wpsum500m_df = fc_to_df(segment_wpsum_500m_output, pop_columns)\n",
    "wpsum500m_df"
   ]
  },
  {
   "cell_type": "code",
   "execution_count": null,
   "id": "f653b38a-664d-42a0-9cf6-935a531e6e40",
   "metadata": {},
   "outputs": [],
   "source": [
    "out_dir = '/Users/arbailey/natcap/idb/data/work/sargassum/shore_segments'\n",
    "wpsum500m_df.to_csv(os.path.join(out_dir,'shoreQR_segments_pop500m.csv'),header=pop_columns, index=False)"
   ]
  }
 ],
 "metadata": {
  "kernelspec": {
   "display_name": "Python 3 (ipykernel)",
   "language": "python",
   "name": "python3"
  },
  "language_info": {
   "codemirror_mode": {
    "name": "ipython",
    "version": 3
   },
   "file_extension": ".py",
   "mimetype": "text/x-python",
   "name": "python",
   "nbconvert_exporter": "python",
   "pygments_lexer": "ipython3",
   "version": "3.8.10"
  }
 },
 "nbformat": 4,
 "nbformat_minor": 5
}
