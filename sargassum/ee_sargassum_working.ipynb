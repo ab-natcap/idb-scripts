{
 "cells": [
  {
   "cell_type": "markdown",
   "metadata": {},
   "source": [
    "# Testing Sargassum Data Review in EE / Python"
   ]
  },
  {
   "cell_type": "code",
   "execution_count": 1,
   "metadata": {},
   "outputs": [],
   "source": [
    "# Import GEE & initialize\n",
    "import ee\n",
    "# Trigger the authentication flow. \n",
    "# -- I think this was a onetime thing, but keeping here in case\n",
    "# ee.Authenticate()\n",
    "# Initialize the library.\n",
    "ee.Initialize()\n",
    "import geemap"
   ]
  },
  {
   "cell_type": "markdown",
   "metadata": {},
   "source": [
    "## Set up the interactive map.  Uses geemap - https://geemap.org/"
   ]
  },
  {
   "cell_type": "code",
   "execution_count": 2,
   "metadata": {},
   "outputs": [
    {
     "data": {
      "application/vnd.jupyter.widget-view+json": {
       "model_id": "cb672273ecec4acd99985a734070b50a",
       "version_major": 2,
       "version_minor": 0
      },
      "text/plain": [
       "Map(center=[20, -87], controls=(WidgetControl(options=['position', 'transparent_bg'], widget=HBox(children=(To…"
      ]
     },
     "metadata": {},
     "output_type": "display_data"
    }
   ],
   "source": [
    "Map = geemap.Map(center=[20,-87], zoom=8)  # Center on Quintana Roo\n",
    "Map.add_basemap('Esri Ocean')\n",
    "Map.add_basemap('Esri Satellite')\n",
    "Map.add_basemap('HYBRID')\n",
    "Map"
   ]
  },
  {
   "cell_type": "markdown",
   "metadata": {},
   "source": [
    "## Add Data Layers"
   ]
  },
  {
   "cell_type": "code",
   "execution_count": 3,
   "metadata": {},
   "outputs": [
    {
     "name": "stdout",
     "output_type": "stream",
     "text": [
      "Image Date {'type': 'Date', 'value': 1557187200000}\n",
      "Count:  6\n"
     ]
    }
   ],
   "source": [
    "# Data sets\n",
    "classified = ee.Image(\"projects/ee-abnatcap/assets/sargassum/sargassum_20190507_subNoSWIR\")  #_16QDH\")\n",
    "training = ee.FeatureCollection(\"projects/ee-abnatcap/assets/sargassum/trainingsites20190507\")\n",
    "s2image = ee.Image('COPERNICUS/S2_SR/20190507T160839_20190507T162405_T16QDH')\n",
    "\n",
    "classified_all = ee.Image(\"projects/ee-abnatcap/assets/sargassum/sargassum_20190507_16QDH_allbands\")  #_16QDH\")\n",
    "classified_best = ee.Image(\"projects/ee-abnatcap/assets/sargassum/sargassum_20190507_16QDH_lowcorr\")  #_16QDH\")\n",
    "classified_subNoSWIR = ee.Image(\"projects/ee-abnatcap/assets/sargassum/sargassum_20190507_16QDH_subNoSWIR\")  #_16QDH\")\n",
    "classified_subSWIR = ee.Image(\"projects/ee-abnatcap/assets/sargassum/sargassum_20190507_16QDH_subSWIR\")  #_16QDH\")\n",
    "\n",
    "\n",
    "image_date = ee.Date('2019-05-07')\n",
    "print('Image Date', image_date.getInfo())\n",
    "QR_multipoint = ee.Geometry.MultiPoint([[-87.4, 21.2],[-86.6, 21.2],[-87.4, 20.3],[-86.6, 20.3],[-87.4, 19.3],[-87.4, 18.3]]);\n",
    "S2bands = ee.List(['B2','B3','B4','B5','B6','B7','B8','B8A','B11','B12','QA60'])\n",
    "\n",
    "s2collection = ee.ImageCollection('COPERNICUS/S2_SR').filterDate(image_date,image_date.advance(1,'day')).filterBounds(QR_multipoint).select(S2bands)\n",
    "# print(s2collection.getInfo())\n",
    "\n",
    "count = s2collection.size()\n",
    "print('Count: ', count.getInfo())\n",
    "\n",
    "s2mosaic = s2collection.mosaic()\n",
    "\n",
    "# dem = ee.Image('USGS/SRTMGL1_003')\n",
    "# landcover = ee.Image(\"ESA/GLOBCOVER_L4_200901_200912_V2_3\").select('landcover')\n",
    "# landsat7 = ee.Image('LE7_TOA_5YEAR/1999_2003')\n",
    "# states = ee.FeatureCollection(\"TIGER/2018/States\")"
   ]
  },
  {
   "cell_type": "code",
   "execution_count": 4,
   "metadata": {},
   "outputs": [],
   "source": [
    "# Visualization parameters\n",
    "sargassum_vis = {\n",
    "    'min': 1, \n",
    "    'max': 1, \n",
    "    'palette':'fb04ff'\n",
    "}\n",
    "\n",
    "# Sentinel-2 bands\n",
    "BLUE = 'B2' # 490 nmn, 10m\n",
    "GREEN = 'B3' # 560 nm, 10m\n",
    "RED = 'B4' # 665 nm, 10m\n",
    "REDEDGE1 = 'B5' # 705 nm, 20m\n",
    "REDEDGE2 = 'B6' # 740 nm, 20m\n",
    "REDEDGE3 = 'B7' # 783 nm, 20m\n",
    "NIR = 'B8' # 842 nm, 10m\n",
    "NIR2 = 'B8A' # 865 nm, 20m\n",
    "SWIR1 = 'B11' # 1610nm, 20m\n",
    "SWIR2 = 'B12' # 2190 nm, 20m\n",
    "\n",
    "rgbVis = {\n",
    "  'min': 0,\n",
    "  'max': 2500,\n",
    "  'bands': [RED, GREEN, BLUE],\n",
    "}\n",
    "cirVis = {\n",
    "  'min': 0,\n",
    "  'max': 2500,\n",
    "  'bands': [NIR, RED, GREEN],\n",
    "}\n",
    "rgbVisReflectance = {\n",
    "  'min': 0.0,\n",
    "  'max': 0.25,\n",
    "  'bands': [RED, GREEN, BLUE],\n",
    "}\n",
    "cirVisReflectance = {\n",
    "  'min': 0.0,\n",
    "  'max': 0.25,\n",
    "  'bands': [NIR, RED, GREEN],\n",
    "}\n",
    "\n",
    "# Training points and classified data\n",
    "vis_params = {\n",
    "    'color': '000000', \n",
    "    'colorOpacity': 1,\n",
    "    'pointSize': 3,\n",
    "    'pointShape': 'circle',\n",
    "    'width': 0.5,\n",
    "    'lineType': 'solid', \n",
    "    'fillColorOpacity': 0.66    \n",
    "}\n",
    "\n",
    "palette = ['d825ff', '3dd626', 'ffc372', '0b4a8b', 'd4d656']\n",
    "\n"
   ]
  },
  {
   "cell_type": "code",
   "execution_count": 5,
   "metadata": {},
   "outputs": [],
   "source": [
    "# PLANET Images \n",
    "PlanetScope_Collection = ee.ImageCollection(\"projects/ee-abnatcap/assets/PSScene4Band_MAR\")\n",
    "PS_201905_Collection = PlanetScope_Collection.filterDate(image_date, image_date.advance(2,'day')) \n",
    "\n",
    "PlanetRGBvis = {\"opacity\":1,\"bands\":[\"B3\",\"B2\",\"B1\"],\"min\":405.79,\"max\":4499.71,\"gamma\":2.331}\n",
    "PlanetCIRvis = {\"opacity\":1,\"bands\":[\"B4\",\"B2\",\"B3\"],\"min\":405.79,\"max\":4499.71,\"gamma\":2.331}\n",
    "\n",
    "Map.addLayer(PS_201905_Collection, PlanetRGBvis, \"Planet RGB\", False)\n",
    "Map.addLayer(PS_201905_Collection, PlanetCIRvis, \"Planet CIR\", False)"
   ]
  },
  {
   "cell_type": "code",
   "execution_count": 6,
   "metadata": {},
   "outputs": [],
   "source": [
    "# Map.addLayer(s2image, cirVis, \"S2 CIR - 2019-05-07\", False)\n",
    "# Map.addLayer(s2image, rgbVis, \"S2 RGB - 2019-05-07\", False)\n",
    "# Map.addLayer(s2collection, cirVis, \"S2 CIR collection - 2019-05-07\", False)\n",
    "Map.addLayer(s2mosaic, cirVis, \"S2 CIR mosaic - 2019-05-07\", False)\n",
    "Map.addLayer(s2mosaic, rgbVis, \"S2 RGB mosaic - 2019-05-07\", False)\n",
    "\n",
    "\n",
    "Map.addLayer(classified, sargassum_vis, 'Sargassum - region mosaic', True)\n",
    "Map.addLayer(classified_all, {'min': 1, 'max': 1, 'palette':'42f545'},'T16QDH - all bands', True) # green\n",
    "Map.addLayer(classified_best, {'min': 1, 'max': 1, 'palette':'f5d742'}, 'T16QDH - best bands', True) # gold\n",
    "Map.addLayer(classified, {'min': 1, 'max': 1, 'palette':'42ecf5'}, 'T16QDH - subset w/SWIR', True) # cyan\n",
    "Map.addLayer(classified, {'min': 1, 'max': 1, 'palette':'bc42f5'}, 'T16QDH - subset no SWIR', True) # purple\n",
    "\n",
    "\n",
    "\n",
    "Map.addLayer(training, {}, 'training', False)"
   ]
  },
  {
   "cell_type": "code",
   "execution_count": 7,
   "metadata": {},
   "outputs": [],
   "source": [
    "Map.add_styled_vector(training, column=\"lc_code\", palette=palette, layer_name=\"land cover\", **vis_params)"
   ]
  },
  {
   "cell_type": "code",
   "execution_count": 8,
   "metadata": {},
   "outputs": [
    {
     "data": {
      "text/plain": [
       "{'max': {'classification': 0},\n",
       " 'mean': {'classification': 0},\n",
       " 'min': {'classification': 0},\n",
       " 'std': {'classification': 0},\n",
       " 'sum': {'classification': 0}}"
      ]
     },
     "execution_count": 8,
     "metadata": {},
     "output_type": "execute_result"
    }
   ],
   "source": [
    "classified_stats = geemap.image_stats(classified)\n",
    "classified_stats.getInfo()"
   ]
  },
  {
   "cell_type": "code",
   "execution_count": null,
   "metadata": {},
   "outputs": [],
   "source": []
  }
 ],
 "metadata": {
  "kernelspec": {
   "display_name": "Python 3",
   "language": "python",
   "name": "python3"
  },
  "language_info": {
   "codemirror_mode": {
    "name": "ipython",
    "version": 3
   },
   "file_extension": ".py",
   "mimetype": "text/x-python",
   "name": "python",
   "nbconvert_exporter": "python",
   "pygments_lexer": "ipython3",
   "version": "3.8.8"
  }
 },
 "nbformat": 4,
 "nbformat_minor": 4
}
