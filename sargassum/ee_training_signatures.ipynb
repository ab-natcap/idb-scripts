{
 "cells": [
  {
   "cell_type": "markdown",
   "id": "fresh-colombia",
   "metadata": {},
   "source": [
    "## Compare Training Site Spectral Signatures between SR and TOA Data"
   ]
  },
  {
   "cell_type": "code",
   "execution_count": null,
   "id": "cellular-dialogue",
   "metadata": {},
   "outputs": [],
   "source": [
    "# Import GEE & initialize\n",
    "import os\n",
    "import ee\n",
    "# import geemap\n",
    "import numpy as np\n",
    "import pandas as pd\n",
    "import geopandas as gpd\n",
    "import seaborn as sns\n",
    "import matplotlib.pyplot as plt\n",
    "\n",
    "# Initialize GEE\n",
    "try:\n",
    "    ee.Initialize()\n",
    "except Exception as e:\n",
    "    ee.Authenticate()\n",
    "    ee.Initialize()"
   ]
  },
  {
   "cell_type": "markdown",
   "id": "injured-reduction",
   "metadata": {},
   "source": [
    "### Import Training Data"
   ]
  },
  {
   "cell_type": "code",
   "execution_count": null,
   "id": "cutting-communist",
   "metadata": {},
   "outputs": [],
   "source": [
    "# Source Assets\n",
    "assets_locn = \"projects/ee-abnatcap/assets/sargassum\"\n",
    "# SR samples\n",
    "sr_samples = \"samples_S2sr_20190507_allbands\"\n",
    "samples_sr_ee = ee.FeatureCollection(os.path.join(assets_locn, sr_samples))\n",
    "print(\"Column names: \", samples_sr_ee.first().propertyNames().getInfo())\n",
    "print('Count: ', samples_sr_ee.size().getInfo())\n",
    "# TOA samples\n",
    "toa_samples = \"samples_S2toa_20190507_allbands\"\n",
    "samples_toa_ee = ee.FeatureCollection(os.path.join(assets_locn, toa_samples))\n",
    "print(\"Column names: \", samples_toa_ee.first().propertyNames().getInfo())\n",
    "print('Count: ', samples_toa_ee.size().getInfo())"
   ]
  },
  {
   "cell_type": "code",
   "execution_count": null,
   "id": "negative-updating",
   "metadata": {},
   "outputs": [],
   "source": [
    "## Export Training Samples to Google Drive  -- One Time only\n",
    "google_drive_local = '/Users/arbailey/Google Drive/My Drive'\n",
    "output_folder = 'geeout'\n",
    "\n",
    "# Only needed to do this once or when the training sites change\n",
    "# # SR Ouptut\n",
    "# task = ee.batch.Export.table.toDrive(collection=samples_sr_ee,\n",
    "#                                          description=sr_samples,\n",
    "#                                          folder=output_folder,\n",
    "#                                          fileFormat='GeoJSON')\n",
    "# task.start()\n",
    "# # TOA Ouptut\n",
    "# task = ee.batch.Export.table.toDrive(collection=samples_toa_ee,\n",
    "#                                          description=toa_samples,\n",
    "#                                          folder=output_folder,\n",
    "#                                          fileFormat='GeoJSON')\n",
    "# task.start()"
   ]
  },
  {
   "cell_type": "code",
   "execution_count": null,
   "id": "right-exhibit",
   "metadata": {},
   "outputs": [],
   "source": [
    "# Import Samples into GeoDataFrame\n",
    "samples_sr_geojson = os.path.join(google_drive_local,output_folder,sr_samples + \".geojson\")\n",
    "samples_toa_geojson = os.path.join(google_drive_local,output_folder,toa_samples  + \".geojson\")\n",
    "\n",
    "samples_sr_gdf = gpd.read_file(samples_sr_geojson)\n",
    "samples_toa_gdf = gpd.read_file(samples_toa_geojson)\n",
    "\n",
    "print(samples_sr_gdf.crs)\n",
    "print(samples_sr_gdf.columns)\n",
    "print(samples_sr_gdf.head)\n",
    "print(samples_toa_gdf.head)"
   ]
  },
  {
   "cell_type": "markdown",
   "id": "specified-combine",
   "metadata": {},
   "source": [
    "### Reshape and Plot Signatures"
   ]
  },
  {
   "cell_type": "code",
   "execution_count": null,
   "id": "united-timothy",
   "metadata": {},
   "outputs": [],
   "source": [
    "# Reshape data frame to a normalized format for bands/indices plotting\n",
    "\n",
    "model_bands = ['B2','B5','B8','B8A','B12','FAI','SEI', 'NDVI','NDVI_median','NDVI_min','NDVI_dmed']\n",
    "\n",
    "def normalize_gdf(samples_gdf): \n",
    "    normalized_gdf = samples_gdf.melt(id_vars=['lc_code'], value_vars=model_bands,\n",
    "        var_name='band_index', value_name='value')\n",
    "    conditions = [\n",
    "        (normalized_gdf['lc_code'] == 0),\n",
    "        (normalized_gdf['lc_code'] == 1),\n",
    "        (normalized_gdf['lc_code'] == 2),\n",
    "        (normalized_gdf['lc_code'] == 3),\n",
    "        (normalized_gdf['lc_code'] == 4),\n",
    "        ]\n",
    "    lc_names = ['sargassum', 'other veg', 'beach', 'buildings', 'clouds']\n",
    "    normalized_gdf['lc'] = np.select(conditions, lc_names)\n",
    "    return normalized_gdf\n",
    "\n",
    "samples_sr_norm_gdf = normalize_gdf(samples_sr_gdf)\n",
    "samples_sr_norm_gdf\n",
    "\n",
    "samples_toa_norm_gdf = normalize_gdf(samples_toa_gdf)\n",
    "samples_toa_norm_gdf"
   ]
  },
  {
   "cell_type": "markdown",
   "id": "casual-spine",
   "metadata": {},
   "source": [
    "#### Grouped Boxplot for All Land Cover -- SR & TOA"
   ]
  },
  {
   "cell_type": "code",
   "execution_count": null,
   "id": "lyric-canvas",
   "metadata": {},
   "outputs": [],
   "source": [
    "lc_palette = {\"sargassum\": \"gold\", \"other veg\": \"limegreen\", \"beach\":\"beige\", 'buildings':'brown', 'clouds':'lightgrey'}\n",
    "\n",
    "def group_boxplot(samples_norm_gdf):\n",
    "    \"\"\" Creates a grouped box plot for a all landcover codes\"\"\"\n",
    "    sns.set_style(\"whitegrid\")\n",
    "    sns.set_context(\"notebook\", font_scale=2, rc={\"lines.linewidth\": 1})\n",
    "    f, ax = plt.subplots(figsize=(24, 12))\n",
    "    plt.ylim(-1, 1)\n",
    "    sns.boxplot(x='band_index', y='value', hue='lc', data=samples_norm_gdf, palette=lc_palette)    \n",
    "\n",
    "group_boxplot(samples_sr_norm_gdf)\n",
    "group_boxplot(samples_toa_norm_gdf)"
   ]
  },
  {
   "cell_type": "markdown",
   "id": "crucial-warner",
   "metadata": {},
   "source": [
    "#### Box Plots for each Land Cover Individually -- SR & TOA"
   ]
  },
  {
   "cell_type": "code",
   "execution_count": null,
   "id": "administrative-stanford",
   "metadata": {},
   "outputs": [],
   "source": [
    "def single_boxplot(samples_norm_gdf, lc_code):\n",
    "    \"\"\" Creates a box plot for a single landcover code\"\"\"\n",
    "    sns.set_context(\"notebook\", font_scale=1.2, rc={\"lines.linewidth\": 1})\n",
    "    f, ax = plt.subplots(figsize=(10, 10))\n",
    "    plt.ylim(-1, 1)\n",
    "    sns.boxplot(x='band_index', y='value', hue='lc', data=samples_norm_gdf[samples_norm_gdf[\"lc_code\"] == lc_code], palette=lc_palette)"
   ]
  },
  {
   "cell_type": "code",
   "execution_count": null,
   "id": "cellular-optimum",
   "metadata": {},
   "outputs": [],
   "source": [
    "# Single BoxPlots - SR\n",
    "single_boxplot(samples_sr_norm_gdf, 0)\n",
    "single_boxplot(samples_sr_norm_gdf, 1)\n",
    "single_boxplot(samples_sr_norm_gdf, 2)\n",
    "single_boxplot(samples_sr_norm_gdf, 3)\n",
    "single_boxplot(samples_sr_norm_gdf, 4)\n"
   ]
  },
  {
   "cell_type": "code",
   "execution_count": null,
   "id": "lasting-sustainability",
   "metadata": {},
   "outputs": [],
   "source": [
    "# Single BoxPlots - TOA\n",
    "single_boxplot(samples_toa_norm_gdf, 0)\n",
    "single_boxplot(samples_toa_norm_gdf, 1)\n",
    "single_boxplot(samples_toa_norm_gdf, 2)\n",
    "single_boxplot(samples_toa_norm_gdf, 3)\n",
    "single_boxplot(samples_toa_norm_gdf, 4)"
   ]
  },
  {
   "cell_type": "code",
   "execution_count": null,
   "id": "preceding-nutrition",
   "metadata": {},
   "outputs": [],
   "source": [
    "def multi_boxplot(samples_norm_gdf):\n",
    "    \"\"\" Creates a set of box plots for all land cover codes\"\"\"\n",
    "    sns.set_context(\"notebook\", font_scale=1.2, rc={\"lines.linewidth\": 1})\n",
    "    f, axes = plt.subplots(2, 3,figsize=(24, 12), sharey=True)\n",
    "    plt.ylim(-1, 1)\n",
    "    sns.boxplot(ax=axes[0, 0], x='band_index', y='value', hue='lc', data=samples_norm_gdf[samples_norm_gdf[\"lc_code\"] == 0], palette=lc_palette)\n",
    "    sns.boxplot(ax=axes[0, 1], x='band_index', y='value', hue='lc', data=samples_norm_gdf[samples_norm_gdf[\"lc_code\"] == 1], palette=lc_palette)\n",
    "    sns.boxplot(ax=axes[0, 2], x='band_index', y='value', hue='lc', data=samples_norm_gdf[samples_norm_gdf[\"lc_code\"] == 4], palette=lc_palette)\n",
    "    sns.boxplot(ax=axes[1, 1], x='band_index', y='value', hue='lc', data=samples_norm_gdf[samples_norm_gdf[\"lc_code\"] == 2], palette=lc_palette)\n",
    "    sns.boxplot(ax=axes[1, 2], x='band_index', y='value', hue='lc', data=samples_norm_gdf[samples_norm_gdf[\"lc_code\"] == 3], palette=lc_palette)\n",
    "    f.delaxes(ax=axes[1,0])"
   ]
  },
  {
   "cell_type": "code",
   "execution_count": null,
   "id": "fallen-jerusalem",
   "metadata": {},
   "outputs": [],
   "source": [
    "multi_boxplot(samples_sr_norm_gdf)\n"
   ]
  },
  {
   "cell_type": "code",
   "execution_count": null,
   "id": "promising-irrigation",
   "metadata": {},
   "outputs": [],
   "source": [
    "multi_boxplot(samples_toa_norm_gdf)"
   ]
  },
  {
   "cell_type": "code",
   "execution_count": null,
   "id": "brief-stevens",
   "metadata": {},
   "outputs": [],
   "source": [
    "def dual_boxplot(sr_norm_gdf,toa_norm_gdf, lc_code):\n",
    "    \"\"\" Creates a set of box plots for all land cover codes\"\"\"\n",
    "    sns.set_context(\"notebook\", font_scale=1.2, rc={\"lines.linewidth\": 1})\n",
    "    f, axes = plt.subplots(1, 2,figsize=(24, 12), sharey=True)\n",
    "    plt.ylim(-1, 1)\n",
    "    sns.boxplot(ax=axes[0], x='band_index', y='value', hue='lc', data=sr_norm_gdf[sr_norm_gdf[\"lc_code\"] == lc_code], palette=lc_palette)\n",
    "    axes[0].set_title(label=\"SR\")\n",
    "    sns.boxplot(ax=axes[1], x='band_index', y='value', hue='lc', data=toa_norm_gdf[toa_norm_gdf[\"lc_code\"] == lc_code], palette=lc_palette)\n",
    "    axes[1].set_title(label=\"TOA\")"
   ]
  },
  {
   "cell_type": "code",
   "execution_count": null,
   "id": "downtown-austin",
   "metadata": {},
   "outputs": [],
   "source": [
    "dual_boxplot(samples_sr_norm_gdf, samples_toa_norm_gdf, 0)\n",
    "dual_boxplot(samples_sr_norm_gdf, samples_toa_norm_gdf, 1)\n",
    "dual_boxplot(samples_sr_norm_gdf, samples_toa_norm_gdf, 4)\n",
    "dual_boxplot(samples_sr_norm_gdf, samples_toa_norm_gdf, 3)\n",
    "dual_boxplot(samples_sr_norm_gdf, samples_toa_norm_gdf, 2)\n"
   ]
  },
  {
   "cell_type": "code",
   "execution_count": null,
   "id": "productive-temple",
   "metadata": {},
   "outputs": [],
   "source": []
  }
 ],
 "metadata": {
  "kernelspec": {
   "display_name": "Python 3",
   "language": "python",
   "name": "python3"
  },
  "language_info": {
   "codemirror_mode": {
    "name": "ipython",
    "version": 3
   },
   "file_extension": ".py",
   "mimetype": "text/x-python",
   "name": "python",
   "nbconvert_exporter": "python",
   "pygments_lexer": "ipython3",
   "version": "3.8.8"
  }
 },
 "nbformat": 4,
 "nbformat_minor": 5
}
