{
 "cells": [
  {
   "cell_type": "markdown",
   "id": "unsigned-ambassador",
   "metadata": {},
   "source": [
    "## Example for Creating Accuracy Assessment Points - Map Visualization"
   ]
  },
  {
   "cell_type": "code",
   "execution_count": 1,
   "id": "ruled-worry",
   "metadata": {},
   "outputs": [],
   "source": [
    "# Import GEE & initialize\n",
    "import os\n",
    "import ee\n",
    "import geemap\n",
    "# import numpy as np\n",
    "# import pandas as pd\n",
    "# import matplotlib.pyplot as plt\n",
    "# import matplotlib.ticker as ticker\n",
    "# import seaborn as sns\n",
    "# sns.set_theme(style=\"darkgrid\")\n",
    "\n",
    "# Initialize GEE\n",
    "try:\n",
    "    ee.Initialize()\n",
    "except Exception as e:\n",
    "    ee.Authenticate()\n",
    "    ee.Initialize()"
   ]
  },
  {
   "cell_type": "markdown",
   "id": "heard-celtic",
   "metadata": {},
   "source": [
    "## Add / Import Data sets"
   ]
  },
  {
   "cell_type": "code",
   "execution_count": 2,
   "id": "motivated-louisville",
   "metadata": {},
   "outputs": [
    {
     "name": "stdout",
     "output_type": "stream",
     "text": [
      "{'type': 'Image', 'bands': [{'id': 'sargassum', 'data_type': {'type': 'PixelType', 'precision': 'int', 'min': -2147483648, 'max': 2147483647}, 'dimensions': [14814, 39867], 'crs': 'EPSG:32616', 'crs_transform': [10, 0, 394190, 0, -10, 2399960]}], 'version': 1615835007722328, 'id': 'projects/ee-abnatcap/assets/sargassum/classclipped_20190402', 'properties': {'system:footprint': {'type': 'LinearRing', 'coordinates': [[-86.59071049015424, 21.70250552185316], [-86.59078515218833, 21.70259572676351], [-88.02295445876494, 21.699944926321034], [-88.01981477862928, 21.249683233311362], [-88.01675707980556, 20.79948702394507], [-88.01377973662241, 20.349266810702474], [-88.01088164522679, 19.899023086688608], [-88.00806185039394, 19.44875610132152], [-88.00531924686656, 18.99846648213763], [-88.00265295275857, 18.54815459491377], [-88.000061936187, 18.097820806471727], [-87.99998821648875, 18.097731252598233], [-86.59996610706003, 18.099908939559636], [-86.5998712961599, 18.09997837655819], [-86.59776740166919, 19.000760701949606], [-86.59554150730169, 19.901434714427385], [-86.59319028700926, 20.802017510215233], [-86.59071049015424, 21.70250552185316]]}, 'image_date': '20190402', 'system:asset_size': 7360874}}\n"
     ]
    }
   ],
   "source": [
    "# Data sets\n",
    "classified = ee.Image(\"projects/ee-abnatcap/assets/sargassum/classclipped_20190402\")\n",
    "nearshore_mask = ee.FeatureCollection(\"projects/ee-abnatcap/assets/sargassum/S2_sargassum_mask\")\n",
    "sargassum = classified.select(\"sargassum\").eq(1).selfMask();\n",
    "print(classified.getInfo())\n",
    "\n",
    "S2bands = ee.List(['B2', 'B3', 'B4', 'B5', 'B8', 'B8A', 'B11', 'B12', 'QA60'])\n",
    "QR_multipoint = ee.Geometry.MultiPoint(\n",
    "    [[-87.4, 21.2], [-86.6, 21.2], [-87.4, 20.3], [-86.6, 20.3], [-87.4, 19.3], [-87.4, 18.3]])\n",
    "s2mosaic = ee.ImageCollection('COPERNICUS/S2_SR') \\\n",
    "        .filterBounds(QR_multipoint) \\\n",
    "        .filterDate('2019-04-02', '2019-04-03') \\\n",
    "        .select(S2bands).mosaic()\n",
    "# print(s2mosaic.getInfo())"
   ]
  },
  {
   "cell_type": "markdown",
   "id": "extraordinary-microphone",
   "metadata": {},
   "source": [
    "## Visualization"
   ]
  },
  {
   "cell_type": "code",
   "execution_count": 3,
   "id": "oriental-pantyhose",
   "metadata": {},
   "outputs": [],
   "source": [
    "# Visualization parameters\n",
    "sargassum_vis = {\n",
    "    'min': 1, \n",
    "    'max': 1, \n",
    "    'palette':'fb04ff' # pink\n",
    "}\n",
    "\n",
    "# Sentinel-2 bands\n",
    "BLUE = 'B2' # 490 nmn, 10m\n",
    "GREEN = 'B3' # 560 nm, 10m\n",
    "RED = 'B4' # 665 nm, 10m\n",
    "REDEDGE1 = 'B5' # 705 nm, 20m\n",
    "REDEDGE2 = 'B6' # 740 nm, 20m\n",
    "REDEDGE3 = 'B7' # 783 nm, 20m\n",
    "NIR = 'B8' # 842 nm, 10m\n",
    "NIR2 = 'B8A' # 865 nm, 20m\n",
    "SWIR1 = 'B11' # 1610nm, 20m\n",
    "SWIR2 = 'B12' # 2190 nm, 20m\n",
    "\n",
    "rgbVis = {\n",
    "  'min': 0,\n",
    "  'max': 2500,\n",
    "  'bands': [RED, GREEN, BLUE],\n",
    "}\n",
    "cirVis = {\n",
    "  'min': 0,\n",
    "  'max': 2500,\n",
    "  'bands': [NIR, RED, GREEN],\n",
    "}"
   ]
  },
  {
   "cell_type": "code",
   "execution_count": 4,
   "id": "aquatic-worthy",
   "metadata": {},
   "outputs": [],
   "source": [
    "Map = geemap.Map(center=[20,-87], zoom=8)  # Center on Quintana Roo\n",
    "Map.add_basemap('Esri Ocean')\n",
    "Map.add_basemap('Esri Satellite')\n",
    "Map.add_basemap('HYBRID')"
   ]
  },
  {
   "cell_type": "code",
   "execution_count": 5,
   "id": "great-salvation",
   "metadata": {},
   "outputs": [],
   "source": [
    "# Display Sentinel-2 CIR and natural color mosaics\n",
    "Map.addLayer(s2mosaic, cirVis, \"S2 CIR mosaic - 2019-04-02\", False)\n",
    "Map.addLayer(s2mosaic, rgbVis, \"S2 RGB mosaic - 2019-04-02\", False)"
   ]
  },
  {
   "cell_type": "code",
   "execution_count": 6,
   "id": "pointed-franchise",
   "metadata": {},
   "outputs": [],
   "source": [
    "# Display outline of Nearshore Mask\n",
    "# Create an empty image into which to paint the features, cast to byte.\n",
    "empty = ee.Image().byte();\n",
    "# Paint all the polygon edges with the same number and width, display.\n",
    "nearshoreoutline = empty.paint(**{\n",
    "  'featureCollection': nearshore_mask,\n",
    "  'color': 1,\n",
    "  'width': 1.5\n",
    "});\n",
    "Map.addLayer(nearshoreoutline,  {'palette':'cyan'}, 'Nearshore mask', True); # orange"
   ]
  },
  {
   "cell_type": "code",
   "execution_count": 7,
   "id": "turkish-intent",
   "metadata": {},
   "outputs": [
    {
     "data": {
      "application/vnd.jupyter.widget-view+json": {
       "model_id": "5212fdd3263f4ba68ebcbc8da6f07d1c",
       "version_major": 2,
       "version_minor": 0
      },
      "text/plain": [
       "Map(center=[20, -87], controls=(WidgetControl(options=['position', 'transparent_bg'], widget=HBox(children=(To…"
      ]
     },
     "metadata": {},
     "output_type": "display_data"
    }
   ],
   "source": [
    "# Display classified mosaic\n",
    "# Classified region, 1=present, 0=absent, -1=no data\n",
    "p_a_nd_palette = [\"white\", \"blue\", \"fb04ff\"]\n",
    "Map.addLayer(classified, {'min':-1, 'max':1, 'palette':p_a_nd_palette }, 'Classified', False)\n",
    "# Sargassum only\n",
    "Map.addLayer(sargassum, {'min': 1, 'max': 1, 'palette':'42f545'}, 'Sargassum', True)  # cyan\n",
    "\n",
    "Map"
   ]
  },
  {
   "cell_type": "markdown",
   "id": "bigger-windsor",
   "metadata": {},
   "source": [
    "## Create Accuracy Assessment Random Samples"
   ]
  },
  {
   "cell_type": "code",
   "execution_count": 8,
   "id": "entertaining-garage",
   "metadata": {},
   "outputs": [
    {
     "name": "stdout",
     "output_type": "stream",
     "text": [
      "Creating AA points..\n",
      "AA points 300\n",
      "AA Points {'type': 'Feature', 'geometry': {'geodesic': False, 'type': 'Point', 'coordinates': [-87.02582294507685, 20.361220501449772]}, 'id': '0', 'properties': {'sargassum': -1}}\n"
     ]
    }
   ],
   "source": [
    "## Accuracy Assessment Random Samples\n",
    "image_prj = classified.select('sargassum').projection()\n",
    "print('Creating AA points..')\n",
    "aaPoints = classified.stratifiedSample(\n",
    "    numPoints=100,\n",
    "    classBand='sargassum',\n",
    "    projection=image_prj,\n",
    "    scale=10,\n",
    "    region=nearshore_mask.geometry(), \n",
    "    dropNulls=False,\n",
    "    geometries=True\n",
    ")\n",
    "print('AA points', aaPoints.size().getInfo())\n",
    "print('AA Points', aaPoints.first().getInfo())\n"
   ]
  },
  {
   "cell_type": "code",
   "execution_count": 9,
   "id": "combined-prototype",
   "metadata": {},
   "outputs": [],
   "source": [
    "# Training points and classified data\n",
    "vis_params = {\n",
    "    'color': '000000', \n",
    "    'colorOpacity': 1,\n",
    "    'pointSize': 5,\n",
    "    'pointShape': 'circle',\n",
    "    'width': 0.5,\n",
    "    'lineType': 'solid', \n",
    "    'fillColorOpacity': 0.66    \n",
    "}\n",
    "Map.add_styled_vector(aaPoints, column=\"sargassum\", palette=p_a_nd_palette, layer_name=\"land cover\", **vis_params)"
   ]
  },
  {
   "cell_type": "code",
   "execution_count": 14,
   "id": "improving-prague",
   "metadata": {},
   "outputs": [],
   "source": [
    "classed_tile = os.path.join('/Users/arbailey/Google Drive/My Drive/geeout/s2sr_classified', \n",
    "                          '20190402T160901_20190402T162422_T16QDH.tif')\n",
    "Map.add_raster(classed_tile, colormap='terrain', layer_name='clipped tile T16QDH')"
   ]
  },
  {
   "cell_type": "code",
   "execution_count": null,
   "id": "individual-filling",
   "metadata": {},
   "outputs": [],
   "source": []
  }
 ],
 "metadata": {
  "kernelspec": {
   "display_name": "Python 3",
   "language": "python",
   "name": "python3"
  },
  "language_info": {
   "codemirror_mode": {
    "name": "ipython",
    "version": 3
   },
   "file_extension": ".py",
   "mimetype": "text/x-python",
   "name": "python",
   "nbconvert_exporter": "python",
   "pygments_lexer": "ipython3",
   "version": "3.8.8"
  }
 },
 "nbformat": 4,
 "nbformat_minor": 5
}
