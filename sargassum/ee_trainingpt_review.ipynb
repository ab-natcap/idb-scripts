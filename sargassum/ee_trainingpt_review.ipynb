{
 "cells": [
  {
   "cell_type": "markdown",
   "metadata": {},
   "source": [
    "## Review Training point band statistics, correlations for final band selection"
   ]
  },
  {
   "cell_type": "code",
   "execution_count": null,
   "metadata": {},
   "outputs": [],
   "source": [
    "# Import GEE & initialize\n",
    "import ee\n",
    "# Trigger the authentication flow. \n",
    "# -- I think this was a onetime thing, but keeping here in case\n",
    "# ee.Authenticate()\n",
    "# Initialize the library.\n",
    "ee.Initialize()\n",
    "import geemap"
   ]
  },
  {
   "cell_type": "code",
   "execution_count": null,
   "metadata": {},
   "outputs": [],
   "source": [
    "# Import Libraries\n",
    "import os\n",
    "import pandas as pd\n",
    "import geopandas as gpd\n",
    "import numpy as np\n",
    "import plotly.express as px\n",
    "import seaborn as sns\n",
    "import matplotlib.pyplot as plt"
   ]
  },
  {
   "cell_type": "code",
   "execution_count": null,
   "metadata": {},
   "outputs": [],
   "source": [
    "samples_ee = ee.FeatureCollection(\"projects/ee-abnatcap/assets/sargassum/samples20190507_allbands\")\n",
    "print(\"Column names: \", samples_ee.first().propertyNames().getInfo())\n",
    "print('Count: ', samples_ee.size().getInfo())"
   ]
  },
  {
   "cell_type": "code",
   "execution_count": null,
   "metadata": {},
   "outputs": [],
   "source": [
    "# samples_geojson = geemap.ee_to_geojson(samples_ee)\n",
    "#  Doesn't work -- got error: Collection query aborted after accumulating over 5000 elements."
   ]
  },
  {
   "cell_type": "code",
   "execution_count": null,
   "metadata": {},
   "outputs": [],
   "source": [
    "samples_geojson = '/Users/arbailey/Google Drive File Stream/My Drive/geeout/samples20190507_allbands.geojson'\n",
    "samples_gdf = gpd.read_file(samples_geojson)\n",
    "print(samples_gdf.crs)\n",
    "print(samples_gdf.columns)\n",
    "samples_gdf"
   ]
  },
  {
   "cell_type": "code",
   "execution_count": null,
   "metadata": {},
   "outputs": [],
   "source": [
    "fig = px.scatter_matrix(samples_gdf,\n",
    "    dimensions=[\"AFAI\", \"FAI\", \"SAVI\", \"SEI\", \"NDVI\"],\n",
    "    color=\"lc_code\")\n",
    "fig.update_traces(diagonal_visible=False)\n",
    "fig.show()"
   ]
  },
  {
   "cell_type": "code",
   "execution_count": null,
   "metadata": {},
   "outputs": [],
   "source": [
    "fig = px.scatter_matrix(samples_gdf,\n",
    "    dimensions=['AFAI', 'FAI', 'SAVI', 'SEI', 'NDVI', 'NDVI_max', 'NDVI_mean', 'NDVI_median', 'NDVI_min', 'NDVI_stdDev'],\n",
    "    color = 'lc_code')\n",
    "fig.update_traces(diagonal_visible=False)\n",
    "fig.show()"
   ]
  },
  {
   "cell_type": "code",
   "execution_count": null,
   "metadata": {},
   "outputs": [],
   "source": [
    "fig = px.scatter_matrix(samples_gdf,\n",
    "    dimensions=['NDVI', 'NDVI_max', 'NDVI_mean', 'NDVI_median', 'NDVI_min', 'NDVI_stdDev'] ,\n",
    "    color = 'lc_code')\n",
    "fig.update_traces(diagonal_visible=False)\n",
    "fig.show()"
   ]
  },
  {
   "cell_type": "code",
   "execution_count": null,
   "metadata": {},
   "outputs": [],
   "source": [
    "fig = px.scatter_matrix(samples_gdf,\n",
    "    dimensions=['B2', 'B3', 'B4', 'B5', 'B6', 'B7', 'B8','B8A', 'B11', 'B12'],\n",
    "    color ='lc_code')\n",
    "fig.update_traces(diagonal_visible=False)\n",
    "fig.show()"
   ]
  },
  {
   "cell_type": "code",
   "execution_count": null,
   "metadata": {},
   "outputs": [],
   "source": [
    "fig = px.scatter_matrix(samples_gdf,\n",
    "    dimensions=[ 'B11', 'B12'],\n",
    "    color ='lc_code')\n",
    "fig.update_traces(diagonal_visible=False)\n",
    "fig.show()"
   ]
  },
  {
   "cell_type": "code",
   "execution_count": null,
   "metadata": {},
   "outputs": [],
   "source": [
    "fig = px.scatter_matrix(samples_gdf,\n",
    "    dimensions=['B5', 'B6', 'B7', 'B8','B8A'],\n",
    "    color = 'lc_code')\n",
    "fig.update_traces(diagonal_visible=False)\n",
    "fig.show()"
   ]
  },
  {
   "cell_type": "code",
   "execution_count": null,
   "metadata": {},
   "outputs": [],
   "source": [
    "fig = px.scatter_matrix(samples_gdf,\n",
    "    dimensions=['FAI', 'NDVI'],\n",
    "    color = 'lc_code')\n",
    "fig.update_traces(diagonal_visible=False)\n",
    "fig.show()"
   ]
  },
  {
   "cell_type": "code",
   "execution_count": null,
   "metadata": {},
   "outputs": [],
   "source": [
    "fig = px.scatter_matrix(samples_gdf,\n",
    "    dimensions=['NDVI','SEI'],\n",
    "    color = 'lc_code')\n",
    "fig.update_traces(diagonal_visible=False)\n",
    "fig.show()"
   ]
  },
  {
   "cell_type": "code",
   "execution_count": null,
   "metadata": {},
   "outputs": [],
   "source": [
    "fig = px.scatter_matrix(samples_gdf,\n",
    "    dimensions=['B8','B8A'],\n",
    "    color = 'lc_code')\n",
    "fig.update_traces(diagonal_visible=False)\n",
    "fig.show()"
   ]
  },
  {
   "cell_type": "code",
   "execution_count": null,
   "metadata": {},
   "outputs": [],
   "source": [
    "allbands_pluslc = ['B2', 'B3', 'B4', 'B5', 'B6', 'B7', 'B8','B8A', 'B11', 'B12', 'AFAI', 'FAI', 'NDVI', 'NDVI_max', 'NDVI_mean', 'NDVI_median','NDVI_min', 'NDVI_stdDev', 'NDVI_dmed', 'SAVI', 'SEI', 'lc_code']\n",
    "samples_pluslc_df = samples_gdf[allbands_pluslc]\n",
    "samples_pluslc_df"
   ]
  },
  {
   "cell_type": "code",
   "execution_count": null,
   "metadata": {},
   "outputs": [],
   "source": [
    "allbands_nolc = ['B2', 'B3', 'B4', 'B5', 'B6', 'B7', 'B8','B8A', 'B11', 'B12', 'AFAI', 'FAI', 'NDVI', 'NDVI_max', 'NDVI_mean', 'NDVI_median','NDVI_min', 'NDVI_stdDev', 'NDVI_dmed', 'SAVI', 'SEI']\n",
    "samples_nolc_df = samples_gdf[allbands_nolc]\n",
    "samples_nolc_df"
   ]
  },
  {
   "cell_type": "code",
   "execution_count": null,
   "metadata": {},
   "outputs": [],
   "source": [
    "bands_lowcorr = ['B2','B5','B8A','B12','FAI','SEI', 'NDVI','NDVI_median','NDVI_min']\n",
    "bands_lowcorr = ['B2','B5','B8','B8A','B12','FAI','SEI', 'NDVI','NDVI_median','NDVI_min','NDVI_dmed']"
   ]
  },
  {
   "cell_type": "code",
   "execution_count": null,
   "metadata": {},
   "outputs": [],
   "source": [
    "fig = px.scatter_matrix(samples_gdf,\n",
    "    dimensions=bands_lowcorr,\n",
    "    color = 'lc_code')\n",
    "fig.update_traces(diagonal_visible=False)\n",
    "fig.show()"
   ]
  },
  {
   "cell_type": "code",
   "execution_count": null,
   "metadata": {},
   "outputs": [],
   "source": [
    "# https://heartbeat.fritz.ai/seaborn-heatmaps-13-ways-to-customize-correlation-matrix-visualizations-f1c49c816f07\n",
    "# https://seaborn.pydata.org/examples/many_pairwise_correlations.html\n",
    "matrix = np.triu(samples_nolc_df.corr())\n",
    "sns.heatmap(samples_nolc_df.corr(), annot=True, mask=matrix)"
   ]
  },
  {
   "cell_type": "code",
   "execution_count": null,
   "metadata": {},
   "outputs": [],
   "source": [
    "# Correlation matrix for ALL land cover classes together\n",
    "mask = np.triu(samples_nolc_df.corr()) # use to block out top half of matrix viz\n",
    "cmap = sns.diverging_palette(220, 20, as_cmap=True)\n",
    "f, ax = plt.subplots(figsize=(20, 14))\n",
    "sns.heatmap(samples_nolc_df.corr(), annot=True, mask=mask, square=True, cmap='vlag', vmin=-1, vmax=1, center= 0, fmt='.1g')"
   ]
  },
  {
   "cell_type": "code",
   "execution_count": null,
   "metadata": {},
   "outputs": [],
   "source": [
    "f, ax = plt.subplots(figsize=(20, 14))\n",
    "sns.heatmap(samples_nolc_df.corr(), annot=True, square=True, cmap='vlag', vmin=-1, vmax=1, center= 0)\n",
    "ax.set_title('All Bands, All Classes - ' + str(len(samples_gdf)) + ' samples')"
   ]
  },
  {
   "cell_type": "code",
   "execution_count": null,
   "metadata": {},
   "outputs": [],
   "source": [
    "f, ax = plt.subplots(figsize=(20, 14))\n",
    "samples_sarg_df = samples_gdf.loc[samples_gdf[\"lc_code\"] == 0,allbands_nolc]\n",
    "sns.heatmap(samples_sarg_df.corr(), annot=True, square=True, cmap='vlag', vmin=-1, vmax=1, center= 0)\n",
    "ax.set_title('Sargassum - ' + str(len(samples_sarg_df)) + ' samples')"
   ]
  },
  {
   "cell_type": "code",
   "execution_count": null,
   "metadata": {},
   "outputs": [],
   "source": [
    "f, ax = plt.subplots(figsize=(20, 14))\n",
    "samples_lowcorr_gdf = samples_gdf[bands_lowcorr]\n",
    "sns.heatmap(samples_lowcorr_gdf.corr(), annot=True, square=True, cmap='vlag', vmin=-1, vmax=1, center= 0)\n",
    "ax.set_title('All Classes - ' + str(len(samples_gdf)) + ' samples')"
   ]
  },
  {
   "cell_type": "code",
   "execution_count": null,
   "metadata": {},
   "outputs": [],
   "source": [
    "samples_sarg_df = samples_gdf.loc[samples_gdf[\"lc_code\"] == 0, bands_lowcorr]\n",
    "f, ax = plt.subplots(figsize=(20, 14))\n",
    "sns.heatmap(samples_sarg_df.corr(), annot=True, square=True, cmap='vlag', vmin=-1, vmax=1, center= 0)\n",
    "ax.set_title('Sargassum - ' + str(len(samples_sarg_df)) + ' samples')"
   ]
  },
  {
   "cell_type": "code",
   "execution_count": null,
   "metadata": {},
   "outputs": [],
   "source": [
    "samples_cloud_df = samples_gdf.loc[samples_gdf[\"lc_code\"] == 4, bands_lowcorr]\n",
    "f, ax = plt.subplots(figsize=(20, 14))\n",
    "sns.heatmap(samples_cloud_df.corr(), annot=True, square=True, cmap='vlag', vmin=-1, vmax=1, center= 0)\n",
    "ax.set_title('Clouds - ' + str(len(samples_cloud_df)) + ' samples')"
   ]
  },
  {
   "cell_type": "code",
   "execution_count": null,
   "metadata": {},
   "outputs": [],
   "source": [
    "samples_otherveg_df = samples_gdf.loc[samples_gdf[\"lc_code\"] == 1, bands_lowcorr]\n",
    "f, ax = plt.subplots(figsize=(20, 14))\n",
    "sns.heatmap(samples_otherveg_df.corr(), annot=True, square=True, cmap='vlag', vmin=-1, vmax=1, center= 0)\n",
    "ax.set_title('Other Veg - ' + str(len(samples_otherveg_df)) + ' samples')"
   ]
  },
  {
   "cell_type": "code",
   "execution_count": null,
   "metadata": {},
   "outputs": [],
   "source": [
    "samples_beach_df = samples_gdf.loc[samples_gdf[\"lc_code\"] == 2, bands_lowcorr]\n",
    "f, ax = plt.subplots(figsize=(20, 14))\n",
    "sns.heatmap(samples_beach_df.corr(), annot=True, square=True, cmap='vlag', vmin=-1, vmax=1, center= 0)\n",
    "ax.set_title('Beach - ' + str(len(samples_beach_df)) + ' samples')"
   ]
  },
  {
   "cell_type": "code",
   "execution_count": null,
   "metadata": {},
   "outputs": [],
   "source": [
    "samples_building_df = samples_gdf.loc[samples_gdf[\"lc_code\"] == 3, bands_lowcorr]\n",
    "f, ax = plt.subplots(figsize=(20, 14))\n",
    "sns.heatmap(samples_building_df.corr(), annot=True, square=True, cmap='vlag', vmin=-1, vmax=1, center= 0)\n",
    "ax.set_title('Buildings - ' + str(len(samples_building_df)) + ' samples')"
   ]
  },
  {
   "cell_type": "code",
   "execution_count": null,
   "metadata": {},
   "outputs": [],
   "source": [
    "bands_lowcorr_lc = bands_lowcorr + ['lc_code']\n",
    "print(bands_lowcorr_lc)\n",
    "samples_lowcorr_lc_df = samples_gdf[bands_lowcorr_lc]\n",
    "samples_lowcorr_lc_df"
   ]
  },
  {
   "cell_type": "code",
   "execution_count": null,
   "metadata": {},
   "outputs": [],
   "source": [
    "# Reshape data frame to a normalized format for bands/indices\n",
    "samples_lowcorr_lc_norm_df = samples_lowcorr_lc_df.melt(id_vars=['lc_code'], value_vars=bands_lowcorr,\n",
    "    var_name='band_index', value_name='value')\n",
    "conditions = [\n",
    "    (samples_lowcorr_lc_norm_df['lc_code'] == 0),\n",
    "    (samples_lowcorr_lc_norm_df['lc_code'] == 1),\n",
    "    (samples_lowcorr_lc_norm_df['lc_code'] == 2),\n",
    "    (samples_lowcorr_lc_norm_df['lc_code'] == 3),\n",
    "    (samples_lowcorr_lc_norm_df['lc_code'] == 4),\n",
    "    ]\n",
    "lc_names = ['sargassum', 'other veg', 'beach', 'buildings', 'clouds']\n",
    "samples_lowcorr_lc_norm_df['lc'] = np.select(conditions, lc_names)\n",
    "samples_lowcorr_lc_norm_df"
   ]
  },
  {
   "cell_type": "code",
   "execution_count": null,
   "metadata": {},
   "outputs": [],
   "source": [
    "px.scatter(\n",
    "    samples_lowcorr_lc_norm_df, x='band_index', y='value', color='lc', \n",
    "    title='Reflectance / Value by Band and Land Cover',\n",
    "    labels=dict(\n",
    "       band_index='Band or Index', \n",
    "       value='Reflectance or Value')\n",
    ")"
   ]
  },
  {
   "cell_type": "code",
   "execution_count": null,
   "metadata": {},
   "outputs": [],
   "source": [
    "# Grouped boxplot\n",
    "# All Land Cover classes\n",
    "sns.set_style(\"whitegrid\")\n",
    "sns.set_context(\"notebook\", font_scale=2, rc={\"lines.linewidth\": 1})\n",
    "my_pal = {\"sargassum\": \"gold\", \"other veg\": \"limegreen\", \"beach\":\"beige\", 'buildings':'brown', 'clouds':'lightgrey'}\n",
    "f, ax = plt.subplots(figsize=(24, 12))\n",
    "sns.boxplot(x='band_index', y='value', hue='lc', data=samples_lowcorr_lc_norm_df, palette=my_pal)"
   ]
  },
  {
   "cell_type": "code",
   "execution_count": null,
   "metadata": {},
   "outputs": [],
   "source": [
    "f, ax = plt.subplots(figsize=(24, 12))\n",
    "sns.stripplot(x=\"band_index\", y=\"value\", hue=\"lc\", data=samples_lowcorr_lc_norm_df, palette=my_pal, dodge=True)"
   ]
  },
  {
   "cell_type": "code",
   "execution_count": null,
   "metadata": {},
   "outputs": [],
   "source": [
    "sns.set_context(\"notebook\", font_scale=1.2, rc={\"lines.linewidth\": 1})\n",
    "f, ax = plt.subplots(figsize=(10, 10))\n",
    "plt.ylim(-1, 1)\n",
    "sns.boxplot(x='band_index', y='value', hue='lc', data=samples_lowcorr_lc_norm_df[samples_lowcorr_lc_norm_df[\"lc_code\"] == 0], palette=my_pal)"
   ]
  },
  {
   "cell_type": "code",
   "execution_count": null,
   "metadata": {},
   "outputs": [],
   "source": [
    "f, ax = plt.subplots(figsize=(10, 10))\n",
    "plt.ylim(-1, 1)\n",
    "sns.boxplot(x='band_index', y='value', hue='lc', data=samples_lowcorr_lc_norm_df[samples_lowcorr_lc_norm_df[\"lc_code\"] == 1], palette=my_pal)"
   ]
  },
  {
   "cell_type": "code",
   "execution_count": null,
   "metadata": {},
   "outputs": [],
   "source": [
    "f, ax = plt.subplots(figsize=(10, 10))\n",
    "plt.ylim(-1, 1)\n",
    "sns.boxplot(x='band_index', y='value', hue='lc', data=samples_lowcorr_lc_norm_df[samples_lowcorr_lc_norm_df[\"lc_code\"] == 2], palette=my_pal)"
   ]
  },
  {
   "cell_type": "code",
   "execution_count": null,
   "metadata": {},
   "outputs": [],
   "source": [
    "f, ax = plt.subplots(figsize=(10, 10))\n",
    "plt.ylim(-1, 1)\n",
    "sns.boxplot(x='band_index', y='value', hue='lc', data=samples_lowcorr_lc_norm_df[samples_lowcorr_lc_norm_df[\"lc_code\"] == 3], palette=my_pal)"
   ]
  },
  {
   "cell_type": "code",
   "execution_count": null,
   "metadata": {},
   "outputs": [],
   "source": [
    "f, ax = plt.subplots(figsize=(10, 10))\n",
    "plt.ylim(-1, 1)\n",
    "sns.boxplot(x='band_index', y='value', hue='lc', data=samples_lowcorr_lc_norm_df[samples_lowcorr_lc_norm_df[\"lc_code\"] == 4], palette=my_pal)"
   ]
  },
  {
   "cell_type": "code",
   "execution_count": null,
   "metadata": {},
   "outputs": [],
   "source": []
  }
 ],
 "metadata": {
  "kernelspec": {
   "display_name": "Python 3",
   "language": "python",
   "name": "python3"
  },
  "language_info": {
   "codemirror_mode": {
    "name": "ipython",
    "version": 3
   },
   "file_extension": ".py",
   "mimetype": "text/x-python",
   "name": "python",
   "nbconvert_exporter": "python",
   "pygments_lexer": "ipython3",
   "version": "3.8.8"
  }
 },
 "nbformat": 4,
 "nbformat_minor": 4
}
