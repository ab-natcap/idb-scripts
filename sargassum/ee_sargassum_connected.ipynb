{
 "cells": [
  {
   "cell_type": "code",
   "execution_count": 1,
   "id": "parental-borough",
   "metadata": {},
   "outputs": [],
   "source": [
    "# Import GEE & initialize\n",
    "import os\n",
    "import ee\n",
    "import geemap\n",
    "# import numpy as np\n",
    "# import pandas as pd\n",
    "# import matplotlib.pyplot as plt\n",
    "# import matplotlib.ticker as ticker\n",
    "# import seaborn as sns\n",
    "# sns.set_theme(style=\"darkgrid\")\n",
    "\n",
    "# Initialize GEE\n",
    "try:\n",
    "    ee.Initialize()\n",
    "except Exception as e:\n",
    "    ee.Authenticate()\n",
    "    ee.Initialize()"
   ]
  },
  {
   "cell_type": "markdown",
   "id": "threaded-greene",
   "metadata": {},
   "source": [
    "## Add / Import Data sets"
   ]
  },
  {
   "cell_type": "code",
   "execution_count": 2,
   "id": "sixth-small",
   "metadata": {},
   "outputs": [
    {
     "name": "stdout",
     "output_type": "stream",
     "text": [
      "{'type': 'Image', 'bands': [{'id': 'sargassum', 'data_type': {'type': 'PixelType', 'precision': 'int', 'min': -2147483648, 'max': 2147483647}, 'dimensions': [14814, 39867], 'crs': 'EPSG:32616', 'crs_transform': [10, 0, 394190, 0, -10, 2399960]}], 'version': 1615870135637075, 'id': 'projects/ee-abnatcap/assets/sargassum/classclipped_20190507', 'properties': {'system:footprint': {'type': 'LinearRing', 'coordinates': [[-86.59071049015424, 21.70250552185316], [-86.59078515218833, 21.70259572676351], [-88.02295445876494, 21.699944926321034], [-88.01981477862928, 21.249683233311362], [-88.01675707980556, 20.79948702394507], [-88.01377973662241, 20.349266810702474], [-88.01088164522679, 19.899023086688608], [-88.00806185039394, 19.44875610132152], [-88.00531924686656, 18.99846648213763], [-88.00265295275857, 18.54815459491377], [-88.000061936187, 18.097820806471727], [-87.99998821648875, 18.097731252598233], [-86.59996610706003, 18.099908939559636], [-86.5998712961599, 18.09997837655819], [-86.59776740166919, 19.000760701949606], [-86.59554150730169, 19.901434714427385], [-86.59319028700926, 20.802017510215233], [-86.59071049015424, 21.70250552185316]]}, 'image_date': '20190507', 'system:asset_size': 5337114}}\n"
     ]
    }
   ],
   "source": [
    "# Data sets\n",
    "classified = ee.Image(\"projects/ee-abnatcap/assets/sargassum/classclipped_20190507\")\n",
    "nearshore_mask = ee.FeatureCollection(\"projects/ee-abnatcap/assets/sargassum/S2_sargassum_mask\")\n",
    "sargassum = classified.select(\"sargassum\").eq(1).selfMask();\n",
    "print(classified.getInfo())\n",
    "\n",
    "S2bands = ee.List(['B2', 'B3', 'B4', 'B5', 'B8', 'B8A', 'B11', 'B12', 'QA60'])\n",
    "QR_multipoint = ee.Geometry.MultiPoint(\n",
    "    [[-87.4, 21.2], [-86.6, 21.2], [-87.4, 20.3], [-86.6, 20.3], [-87.4, 19.3], [-87.4, 18.3]])\n",
    "s2mosaic = ee.ImageCollection('COPERNICUS/S2_SR') \\\n",
    "        .filterBounds(QR_multipoint) \\\n",
    "        .filterDate('2019-05-07', '2019-05-08') \\\n",
    "        .select(S2bands)  # .mosaic()\n",
    "# print(s2mosaic.getInfo())"
   ]
  },
  {
   "cell_type": "markdown",
   "id": "tested-apache",
   "metadata": {},
   "source": [
    "## Visualization"
   ]
  },
  {
   "cell_type": "code",
   "execution_count": 3,
   "id": "civic-grass",
   "metadata": {},
   "outputs": [],
   "source": [
    "# Visualization parameters\n",
    "sargassum_vis = {\n",
    "    'min': 1, \n",
    "    'max': 1, \n",
    "    'palette':'fb04ff' # pink\n",
    "}\n",
    "\n",
    "# Sentinel-2 bands\n",
    "BLUE = 'B2' # 490 nmn, 10m\n",
    "GREEN = 'B3' # 560 nm, 10m\n",
    "RED = 'B4' # 665 nm, 10m\n",
    "REDEDGE1 = 'B5' # 705 nm, 20m\n",
    "REDEDGE2 = 'B6' # 740 nm, 20m\n",
    "REDEDGE3 = 'B7' # 783 nm, 20m\n",
    "NIR = 'B8' # 842 nm, 10m\n",
    "NIR2 = 'B8A' # 865 nm, 20m\n",
    "SWIR1 = 'B11' # 1610nm, 20m\n",
    "SWIR2 = 'B12' # 2190 nm, 20m\n",
    "\n",
    "rgbVis = {\n",
    "  'min': 0,\n",
    "  'max': 2500,\n",
    "  'bands': [RED, GREEN, BLUE],\n",
    "}\n",
    "cirVis = {\n",
    "  'min': 0,\n",
    "  'max': 2500,\n",
    "  'bands': [NIR, RED, GREEN],\n",
    "}"
   ]
  },
  {
   "cell_type": "code",
   "execution_count": 4,
   "id": "informational-offset",
   "metadata": {},
   "outputs": [],
   "source": [
    "Map = geemap.Map(center=[20,-87], zoom=8)  # Center on Quintana Roo\n",
    "Map.add_basemap('Esri Ocean')\n",
    "Map.add_basemap('Esri Satellite')\n",
    "Map.add_basemap('HYBRID')"
   ]
  },
  {
   "cell_type": "code",
   "execution_count": 5,
   "id": "hidden-relation",
   "metadata": {},
   "outputs": [],
   "source": [
    "# Display Sentinel-2 CIR and natural color mosaics\n",
    "Map.addLayer(s2mosaic, cirVis, \"S2 CIR mosaic - 2019-04-02\", False)\n",
    "Map.addLayer(s2mosaic, rgbVis, \"S2 RGB mosaic - 2019-04-02\", False)"
   ]
  },
  {
   "cell_type": "code",
   "execution_count": 6,
   "id": "forty-defeat",
   "metadata": {},
   "outputs": [],
   "source": [
    "# Display outline of Nearshore Mask\n",
    "# Create an empty image into which to paint the features, cast to byte.\n",
    "empty = ee.Image().byte();\n",
    "# Paint all the polygon edges with the same number and width, display.\n",
    "nearshoreoutline = empty.paint(**{\n",
    "  'featureCollection': nearshore_mask,\n",
    "  'color': 1,\n",
    "  'width': 1.5\n",
    "});\n",
    "Map.addLayer(nearshoreoutline,  {'palette':'cyan'}, 'Nearshore mask', True); # orange"
   ]
  },
  {
   "cell_type": "code",
   "execution_count": 7,
   "id": "signed-swing",
   "metadata": {},
   "outputs": [
    {
     "data": {
      "application/vnd.jupyter.widget-view+json": {
       "model_id": "03d2995af93d4a86bbbd9f5c983031bf",
       "version_major": 2,
       "version_minor": 0
      },
      "text/plain": [
       "Map(center=[20, -87], controls=(WidgetControl(options=['position', 'transparent_bg'], widget=HBox(children=(To…"
      ]
     },
     "metadata": {},
     "output_type": "display_data"
    }
   ],
   "source": [
    "# Display classified mosaic\n",
    "# Classified region, 1=present, 0=absent, -1=no data\n",
    "p_a_nd_palette = [\"white\", \"blue\", \"fb04ff\"]\n",
    "Map.addLayer(classified, {'min':-1, 'max':1, 'palette':p_a_nd_palette }, 'Classified', False)\n",
    "# Sargassum only\n",
    "Map.addLayer(sargassum, {'min': 1, 'max': 1, 'palette':'42f545'}, 'Sargassum', True)  # green\n",
    "\n",
    "Map"
   ]
  },
  {
   "cell_type": "code",
   "execution_count": 8,
   "id": "acknowledged-drink",
   "metadata": {},
   "outputs": [
    {
     "name": "stdout",
     "output_type": "stream",
     "text": [
      "['patch_id']\n"
     ]
    }
   ],
   "source": [
    "# Create ID for pixels that are connected, to group into sargassum patches/polygons\n",
    "# https://developers.google.com/earth-engine/guides/image_objects#colab-python_1\n",
    "\n",
    "sargassum_patches = sargassum.connectedComponents(\n",
    "    connectedness=ee.Kernel.square(1), maxSize=1024).select(['labels'],['patch_id'])  # .square(1) = eight-neighbor connections\n",
    "print(sargassum_patches.bandNames().getInfo())\n",
    "\n",
    "Map.addLayer(sargassum_patches.randomVisualizer(), {}, 'Sargassum Connected Pixels');"
   ]
  }
 ],
 "metadata": {
  "kernelspec": {
   "display_name": "Python 3",
   "language": "python",
   "name": "python3"
  },
  "language_info": {
   "codemirror_mode": {
    "name": "ipython",
    "version": 3
   },
   "file_extension": ".py",
   "mimetype": "text/x-python",
   "name": "python",
   "nbconvert_exporter": "python",
   "pygments_lexer": "ipython3",
   "version": "3.8.8"
  }
 },
 "nbformat": 4,
 "nbformat_minor": 5
}
